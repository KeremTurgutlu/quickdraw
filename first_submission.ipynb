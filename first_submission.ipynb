{
 "cells": [
  {
   "cell_type": "code",
   "execution_count": 1,
   "metadata": {},
   "outputs": [],
   "source": [
    "%matplotlib inline\n",
    "import matplotlib.pyplot as plt\n",
    "import pandas as pd\n",
    "import numpy as np\n",
    "from pathlib import Path\n",
    "\n",
    "from fastai import *\n",
    "from fastai.vision import *\n",
    "\n",
    "import json\n",
    "\n",
    "from utils import *\n",
    "import ast"
   ]
  },
  {
   "cell_type": "code",
   "execution_count": 2,
   "metadata": {},
   "outputs": [],
   "source": [
    "NUM_SAMPLES_PER_CLASS = 100000\n",
    "NUM_VAL = 50 * 340"
   ]
  },
  {
   "cell_type": "code",
   "execution_count": 3,
   "metadata": {},
   "outputs": [],
   "source": [
    "PATH = Path('../data/google_doodle/')"
   ]
  },
  {
   "cell_type": "code",
   "execution_count": 4,
   "metadata": {},
   "outputs": [
    {
     "data": {
      "text/plain": [
       "[PosixPath('../data/google_doodle/test_simplified.csv'),\n",
       " PosixPath('../data/google_doodle/train'),\n",
       " PosixPath('../data/google_doodle/sample_submission.csv'),\n",
       " PosixPath('../data/google_doodle/csvs'),\n",
       " PosixPath('../data/google_doodle/train_csv'),\n",
       " PosixPath('../data/google_doodle/test_raw.csv'),\n",
       " PosixPath('../data/google_doodle/test')]"
      ]
     },
     "execution_count": 4,
     "metadata": {},
     "output_type": "execute_result"
    }
   ],
   "source": [
    "PATH.ls()"
   ]
  },
  {
   "cell_type": "markdown",
   "metadata": {},
   "source": [
    "### data prep"
   ]
  },
  {
   "cell_type": "code",
   "execution_count": 5,
   "metadata": {
    "scrolled": true
   },
   "outputs": [
    {
     "name": "stdout",
     "output_type": "stream",
     "text": [
      "../data/google_doodle/train/wine bottle.csv\n",
      "../data/google_doodle/train/light bulb.csv\n",
      "../data/google_doodle/train/lightning.csv\n",
      "../data/google_doodle/train/raccoon.csv\n",
      "../data/google_doodle/train/ocean.csv\n",
      "../data/google_doodle/train/tent.csv\n",
      "../data/google_doodle/train/helmet.csv\n",
      "../data/google_doodle/train/zebra.csv\n",
      "../data/google_doodle/train/t-shirt.csv\n",
      "../data/google_doodle/train/shovel.csv\n",
      "../data/google_doodle/train/stop sign.csv\n",
      "../data/google_doodle/train/flamingo.csv\n",
      "../data/google_doodle/train/cell phone.csv\n",
      "../data/google_doodle/train/castle.csv\n",
      "../data/google_doodle/train/campfire.csv\n",
      "../data/google_doodle/train/shark.csv\n",
      "../data/google_doodle/train/matches.csv\n",
      "../data/google_doodle/train/saw.csv\n",
      "../data/google_doodle/train/owl.csv\n",
      "../data/google_doodle/train/tooth.csv\n",
      "../data/google_doodle/train/train.csv\n",
      "../data/google_doodle/train/parrot.csv\n",
      "../data/google_doodle/train/carrot.csv\n",
      "../data/google_doodle/train/picture frame.csv\n",
      "../data/google_doodle/train/dragon.csv\n",
      "../data/google_doodle/train/elephant.csv\n",
      "../data/google_doodle/train/swan.csv\n",
      "../data/google_doodle/train/ant.csv\n",
      "../data/google_doodle/train/The Great Wall of China.csv\n",
      "../data/google_doodle/train/dumbbell.csv\n",
      "../data/google_doodle/train/drill.csv\n",
      "../data/google_doodle/train/toothbrush.csv\n",
      "../data/google_doodle/train/blueberry.csv\n",
      "../data/google_doodle/train/animal migration.csv\n",
      "../data/google_doodle/train/see saw.csv\n",
      "../data/google_doodle/train/camera.csv\n",
      "../data/google_doodle/train/finger.csv\n",
      "../data/google_doodle/train/clarinet.csv\n",
      "../data/google_doodle/train/hand.csv\n",
      "../data/google_doodle/train/shorts.csv\n",
      "../data/google_doodle/train/smiley face.csv\n",
      "../data/google_doodle/train/washing machine.csv\n",
      "../data/google_doodle/train/snowman.csv\n",
      "../data/google_doodle/train/eye.csv\n",
      "../data/google_doodle/train/underwear.csv\n",
      "../data/google_doodle/train/string bean.csv\n",
      "../data/google_doodle/train/pond.csv\n",
      "../data/google_doodle/train/purse.csv\n",
      "../data/google_doodle/train/squirrel.csv\n",
      "../data/google_doodle/train/compass.csv\n",
      "../data/google_doodle/train/school bus.csv\n",
      "../data/google_doodle/train/house.csv\n",
      "../data/google_doodle/train/crocodile.csv\n",
      "../data/google_doodle/train/lantern.csv\n",
      "../data/google_doodle/train/bear.csv\n",
      "../data/google_doodle/train/jail.csv\n",
      "../data/google_doodle/train/cup.csv\n",
      "../data/google_doodle/train/door.csv\n",
      "../data/google_doodle/train/cloud.csv\n",
      "../data/google_doodle/train/bandage.csv\n",
      "../data/google_doodle/train/radio.csv\n",
      "../data/google_doodle/train/church.csv\n",
      "../data/google_doodle/train/paint can.csv\n",
      "../data/google_doodle/train/skyscraper.csv\n",
      "../data/google_doodle/train/basketball.csv\n",
      "../data/google_doodle/train/eraser.csv\n",
      "../data/google_doodle/train/harp.csv\n",
      "../data/google_doodle/train/nose.csv\n",
      "../data/google_doodle/train/submarine.csv\n",
      "../data/google_doodle/train/scissors.csv\n",
      "../data/google_doodle/train/pineapple.csv\n",
      "../data/google_doodle/train/camouflage.csv\n",
      "../data/google_doodle/train/moon.csv\n",
      "../data/google_doodle/train/streetlight.csv\n",
      "../data/google_doodle/train/jacket.csv\n",
      "../data/google_doodle/train/tree.csv\n",
      "../data/google_doodle/train/cow.csv\n",
      "../data/google_doodle/train/pants.csv\n",
      "../data/google_doodle/train/horse.csv\n",
      "../data/google_doodle/train/toe.csv\n",
      "../data/google_doodle/train/golf club.csv\n",
      "../data/google_doodle/train/remote control.csv\n",
      "../data/google_doodle/train/drums.csv\n",
      "../data/google_doodle/train/hot tub.csv\n",
      "../data/google_doodle/train/wristwatch.csv\n",
      "../data/google_doodle/train/asparagus.csv\n",
      "../data/google_doodle/train/eyeglasses.csv\n",
      "../data/google_doodle/train/umbrella.csv\n",
      "../data/google_doodle/train/mailbox.csv\n",
      "../data/google_doodle/train/telephone.csv\n",
      "../data/google_doodle/train/bracelet.csv\n",
      "../data/google_doodle/train/pillow.csv\n",
      "../data/google_doodle/train/basket.csv\n",
      "../data/google_doodle/train/whale.csv\n",
      "../data/google_doodle/train/key.csv\n",
      "../data/google_doodle/train/snowflake.csv\n",
      "../data/google_doodle/train/pool.csv\n",
      "../data/google_doodle/train/spider.csv\n",
      "../data/google_doodle/train/passport.csv\n",
      "../data/google_doodle/train/hockey stick.csv\n",
      "../data/google_doodle/train/couch.csv\n",
      "../data/google_doodle/train/trombone.csv\n",
      "../data/google_doodle/train/paper clip.csv\n",
      "../data/google_doodle/train/chandelier.csv\n",
      "../data/google_doodle/train/headphones.csv\n",
      "../data/google_doodle/train/toilet.csv\n",
      "../data/google_doodle/train/strawberry.csv\n",
      "../data/google_doodle/train/mountain.csv\n",
      "../data/google_doodle/train/feather.csv\n",
      "../data/google_doodle/train/stove.csv\n",
      "../data/google_doodle/train/sink.csv\n",
      "../data/google_doodle/train/panda.csv\n",
      "../data/google_doodle/train/toaster.csv\n",
      "../data/google_doodle/train/zigzag.csv\n",
      "../data/google_doodle/train/hurricane.csv\n",
      "../data/google_doodle/train/paintbrush.csv\n",
      "../data/google_doodle/train/sea turtle.csv\n",
      "../data/google_doodle/train/floor lamp.csv\n",
      "../data/google_doodle/train/snake.csv\n",
      "../data/google_doodle/train/sword.csv\n",
      "../data/google_doodle/train/ambulance.csv\n",
      "../data/google_doodle/train/mermaid.csv\n",
      "../data/google_doodle/train/hot dog.csv\n",
      "../data/google_doodle/train/alarm clock.csv\n",
      "../data/google_doodle/train/yoga.csv\n",
      "../data/google_doodle/train/clock.csv\n",
      "../data/google_doodle/train/arm.csv\n",
      "../data/google_doodle/train/piano.csv\n",
      "../data/google_doodle/train/cooler.csv\n",
      "../data/google_doodle/train/dolphin.csv\n",
      "../data/google_doodle/train/postcard.csv\n",
      "../data/google_doodle/train/soccer ball.csv\n",
      "../data/google_doodle/train/flashlight.csv\n",
      "../data/google_doodle/train/face.csv\n",
      "../data/google_doodle/train/circle.csv\n",
      "../data/google_doodle/train/broom.csv\n",
      "../data/google_doodle/train/cat.csv\n",
      "../data/google_doodle/train/bottlecap.csv\n",
      "../data/google_doodle/train/peanut.csv\n",
      "../data/google_doodle/train/bucket.csv\n",
      "../data/google_doodle/train/The Mona Lisa.csv\n",
      "../data/google_doodle/train/stairs.csv\n",
      "../data/google_doodle/train/mushroom.csv\n",
      "../data/google_doodle/train/house plant.csv\n",
      "../data/google_doodle/train/square.csv\n",
      "../data/google_doodle/train/fish.csv\n",
      "../data/google_doodle/train/wheel.csv\n",
      "../data/google_doodle/train/octagon.csv\n",
      "../data/google_doodle/train/peas.csv\n",
      "../data/google_doodle/train/elbow.csv\n",
      "../data/google_doodle/train/knee.csv\n",
      "../data/google_doodle/train/spoon.csv\n",
      "../data/google_doodle/train/hat.csv\n",
      "../data/google_doodle/train/The Eiffel Tower.csv\n",
      "../data/google_doodle/train/baseball.csv\n",
      "../data/google_doodle/train/watermelon.csv\n",
      "../data/google_doodle/train/spreadsheet.csv\n",
      "../data/google_doodle/train/envelope.csv\n",
      "../data/google_doodle/train/snail.csv\n",
      "../data/google_doodle/train/stitches.csv\n",
      "../data/google_doodle/train/anvil.csv\n",
      "../data/google_doodle/train/firetruck.csv\n",
      "../data/google_doodle/train/hedgehog.csv\n",
      "../data/google_doodle/train/fork.csv\n",
      "../data/google_doodle/train/flying saucer.csv\n",
      "../data/google_doodle/train/lollipop.csv\n",
      "../data/google_doodle/train/speedboat.csv\n",
      "../data/google_doodle/train/garden.csv\n",
      "../data/google_doodle/train/fan.csv\n",
      "../data/google_doodle/train/hockey puck.csv\n",
      "../data/google_doodle/train/duck.csv\n",
      "../data/google_doodle/train/pear.csv\n",
      "../data/google_doodle/train/map.csv\n",
      "../data/google_doodle/train/cookie.csv\n",
      "../data/google_doodle/train/laptop.csv\n",
      "../data/google_doodle/train/banana.csv\n",
      "../data/google_doodle/train/vase.csv\n",
      "../data/google_doodle/train/nail.csv\n",
      "../data/google_doodle/train/calculator.csv\n",
      "../data/google_doodle/train/mouse.csv\n",
      "../data/google_doodle/train/lipstick.csv\n",
      "../data/google_doodle/train/rollerskates.csv\n",
      "../data/google_doodle/train/police car.csv\n",
      "../data/google_doodle/train/axe.csv\n",
      "../data/google_doodle/train/foot.csv\n",
      "../data/google_doodle/train/dog.csv\n",
      "../data/google_doodle/train/apple.csv\n",
      "../data/google_doodle/train/sock.csv\n",
      "../data/google_doodle/train/teddy-bear.csv\n",
      "../data/google_doodle/train/barn.csv\n",
      "../data/google_doodle/train/backpack.csv\n",
      "../data/google_doodle/train/skateboard.csv\n",
      "../data/google_doodle/train/canoe.csv\n",
      "../data/google_doodle/train/swing set.csv\n",
      "../data/google_doodle/train/bus.csv\n",
      "../data/google_doodle/train/ladder.csv\n",
      "../data/google_doodle/train/fireplace.csv\n",
      "../data/google_doodle/train/grapes.csv\n",
      "../data/google_doodle/train/hamburger.csv\n",
      "../data/google_doodle/train/ceiling fan.csv\n",
      "../data/google_doodle/train/candle.csv\n",
      "../data/google_doodle/train/coffee cup.csv\n",
      "../data/google_doodle/train/hammer.csv\n",
      "../data/google_doodle/train/mouth.csv\n",
      "../data/google_doodle/train/cactus.csv\n"
     ]
    },
    {
     "name": "stdout",
     "output_type": "stream",
     "text": [
      "../data/google_doodle/train/frying pan.csv\n",
      "../data/google_doodle/train/giraffe.csv\n",
      "../data/google_doodle/train/ear.csv\n",
      "../data/google_doodle/train/pig.csv\n",
      "../data/google_doodle/train/trumpet.csv\n",
      "../data/google_doodle/train/camel.csv\n",
      "../data/google_doodle/train/bulldozer.csv\n",
      "../data/google_doodle/train/book.csv\n",
      "../data/google_doodle/train/wine glass.csv\n",
      "../data/google_doodle/train/suitcase.csv\n",
      "../data/google_doodle/train/octopus.csv\n",
      "../data/google_doodle/train/blackberry.csv\n",
      "../data/google_doodle/train/bowtie.csv\n",
      "../data/google_doodle/train/van.csv\n",
      "../data/google_doodle/train/grass.csv\n",
      "../data/google_doodle/train/boomerang.csv\n",
      "../data/google_doodle/train/donut.csv\n",
      "../data/google_doodle/train/squiggle.csv\n",
      "../data/google_doodle/train/triangle.csv\n",
      "../data/google_doodle/train/bee.csv\n",
      "../data/google_doodle/train/scorpion.csv\n",
      "../data/google_doodle/train/crab.csv\n",
      "../data/google_doodle/train/mug.csv\n",
      "../data/google_doodle/train/hot air balloon.csv\n",
      "../data/google_doodle/train/monkey.csv\n",
      "../data/google_doodle/train/calendar.csv\n",
      "../data/google_doodle/train/palm tree.csv\n",
      "../data/google_doodle/train/oven.csv\n",
      "../data/google_doodle/train/sheep.csv\n",
      "../data/google_doodle/train/bed.csv\n",
      "../data/google_doodle/train/bread.csv\n",
      "../data/google_doodle/train/rhinoceros.csv\n",
      "../data/google_doodle/train/popsicle.csv\n",
      "../data/google_doodle/train/traffic light.csv\n",
      "../data/google_doodle/train/cruise ship.csv\n",
      "../data/google_doodle/train/fence.csv\n",
      "../data/google_doodle/train/tornado.csv\n",
      "../data/google_doodle/train/bridge.csv\n",
      "../data/google_doodle/train/frog.csv\n",
      "../data/google_doodle/train/lion.csv\n",
      "../data/google_doodle/train/birthday cake.csv\n",
      "../data/google_doodle/train/ice cream.csv\n",
      "../data/google_doodle/train/snorkel.csv\n",
      "../data/google_doodle/train/screwdriver.csv\n",
      "../data/google_doodle/train/sweater.csv\n",
      "../data/google_doodle/train/table.csv\n",
      "../data/google_doodle/train/waterslide.csv\n",
      "../data/google_doodle/train/saxophone.csv\n",
      "../data/google_doodle/train/river.csv\n",
      "../data/google_doodle/train/necklace.csv\n",
      "../data/google_doodle/train/onion.csv\n",
      "../data/google_doodle/train/star.csv\n",
      "../data/google_doodle/train/car.csv\n",
      "../data/google_doodle/train/beard.csv\n",
      "../data/google_doodle/train/line.csv\n",
      "../data/google_doodle/train/airplane.csv\n",
      "../data/google_doodle/train/brain.csv\n",
      "../data/google_doodle/train/guitar.csv\n",
      "../data/google_doodle/train/beach.csv\n",
      "../data/google_doodle/train/pickup truck.csv\n",
      "../data/google_doodle/train/penguin.csv\n",
      "../data/google_doodle/train/hexagon.csv\n",
      "../data/google_doodle/train/microphone.csv\n",
      "../data/google_doodle/train/crown.csv\n",
      "../data/google_doodle/train/bench.csv\n",
      "../data/google_doodle/train/rain.csv\n",
      "../data/google_doodle/train/chair.csv\n",
      "../data/google_doodle/train/garden hose.csv\n",
      "../data/google_doodle/train/keyboard.csv\n",
      "../data/google_doodle/train/goatee.csv\n",
      "../data/google_doodle/train/dishwasher.csv\n",
      "../data/google_doodle/train/angel.csv\n",
      "../data/google_doodle/train/diamond.csv\n",
      "../data/google_doodle/train/dresser.csv\n",
      "../data/google_doodle/train/pliers.csv\n",
      "../data/google_doodle/train/cello.csv\n",
      "../data/google_doodle/train/rake.csv\n",
      "../data/google_doodle/train/rabbit.csv\n",
      "../data/google_doodle/train/moustache.csv\n",
      "../data/google_doodle/train/binoculars.csv\n",
      "../data/google_doodle/train/leg.csv\n",
      "../data/google_doodle/train/violin.csv\n",
      "../data/google_doodle/train/power outlet.csv\n",
      "../data/google_doodle/train/lobster.csv\n",
      "../data/google_doodle/train/fire hydrant.csv\n",
      "../data/google_doodle/train/sandwich.csv\n",
      "../data/google_doodle/train/sailboat.csv\n",
      "../data/google_doodle/train/leaf.csv\n",
      "../data/google_doodle/train/lighthouse.csv\n",
      "../data/google_doodle/train/crayon.csv\n",
      "../data/google_doodle/train/windmill.csv\n",
      "../data/google_doodle/train/diving board.csv\n",
      "../data/google_doodle/train/tennis racquet.csv\n",
      "../data/google_doodle/train/cake.csv\n",
      "../data/google_doodle/train/roller coaster.csv\n",
      "../data/google_doodle/train/teapot.csv\n",
      "../data/google_doodle/train/belt.csv\n",
      "../data/google_doodle/train/motorbike.csv\n",
      "../data/google_doodle/train/marker.csv\n",
      "../data/google_doodle/train/steak.csv\n",
      "../data/google_doodle/train/broccoli.csv\n",
      "../data/google_doodle/train/kangaroo.csv\n",
      "../data/google_doodle/train/hospital.csv\n",
      "../data/google_doodle/train/toothpaste.csv\n",
      "../data/google_doodle/train/flower.csv\n",
      "../data/google_doodle/train/bush.csv\n",
      "../data/google_doodle/train/rainbow.csv\n",
      "../data/google_doodle/train/truck.csv\n",
      "../data/google_doodle/train/cannon.csv\n",
      "../data/google_doodle/train/pencil.csv\n",
      "../data/google_doodle/train/tractor.csv\n",
      "../data/google_doodle/train/sleeping bag.csv\n",
      "../data/google_doodle/train/megaphone.csv\n",
      "../data/google_doodle/train/sun.csv\n",
      "../data/google_doodle/train/skull.csv\n",
      "../data/google_doodle/train/tiger.csv\n",
      "../data/google_doodle/train/microwave.csv\n",
      "../data/google_doodle/train/bicycle.csv\n",
      "../data/google_doodle/train/bird.csv\n",
      "../data/google_doodle/train/stethoscope.csv\n",
      "../data/google_doodle/train/hourglass.csv\n",
      "../data/google_doodle/train/pizza.csv\n",
      "../data/google_doodle/train/television.csv\n",
      "../data/google_doodle/train/parachute.csv\n",
      "../data/google_doodle/train/shoe.csv\n",
      "../data/google_doodle/train/computer.csv\n",
      "../data/google_doodle/train/helicopter.csv\n",
      "../data/google_doodle/train/potato.csv\n",
      "../data/google_doodle/train/butterfly.csv\n",
      "../data/google_doodle/train/flip flops.csv\n",
      "../data/google_doodle/train/bat.csv\n",
      "../data/google_doodle/train/stereo.csv\n",
      "../data/google_doodle/train/mosquito.csv\n",
      "../data/google_doodle/train/bathtub.csv\n",
      "../data/google_doodle/train/baseball bat.csv\n"
     ]
    }
   ],
   "source": [
    "dfs = []\n",
    "for p in (PATH/\"train\").ls():\n",
    "    print(p)\n",
    "    sample_df = pd.read_csv(p, usecols=[1,3,5])\n",
    "    sample_df = sample_df[sample_df.recognized].reset_index(drop=True)[['drawing', 'word']]\n",
    "    dfs.append(sample_df.sample(min(len(sample_df), NUM_SAMPLES_PER_CLASS)))"
   ]
  },
  {
   "cell_type": "code",
   "execution_count": 6,
   "metadata": {},
   "outputs": [
    {
     "data": {
      "text/plain": [
       "340"
      ]
     },
     "execution_count": 6,
     "metadata": {},
     "output_type": "execute_result"
    }
   ],
   "source": [
    "len(dfs)"
   ]
  },
  {
   "cell_type": "code",
   "execution_count": 7,
   "metadata": {},
   "outputs": [],
   "source": [
    "dfs_combined = pd.concat(dfs, axis=0)"
   ]
  },
  {
   "cell_type": "code",
   "execution_count": 12,
   "metadata": {},
   "outputs": [],
   "source": [
    "dfs_combined.reset_index(drop=True, inplace=True)"
   ]
  },
  {
   "cell_type": "code",
   "execution_count": 14,
   "metadata": {},
   "outputs": [],
   "source": [
    "dfs_combined.to_csv(PATH/\"train/dfs_combined.csv\")"
   ]
  },
  {
   "cell_type": "markdown",
   "metadata": {},
   "source": [
    "###  Create ImageDataBunch using the data block API"
   ]
  },
  {
   "cell_type": "code",
   "execution_count": 142,
   "metadata": {},
   "outputs": [],
   "source": [
    "bs = 256\n",
    "sz = 256"
   ]
  },
  {
   "cell_type": "code",
   "execution_count": 85,
   "metadata": {},
   "outputs": [],
   "source": [
    "test_df = pd.read_csv(PATH/\"test_simplified.csv\")"
   ]
  },
  {
   "cell_type": "code",
   "execution_count": 143,
   "metadata": {},
   "outputs": [],
   "source": [
    "def create_func(item):\n",
    "    arr = list2drawing(ast.literal_eval(item[0]), size=sz, lw=6, time_color=True)\n",
    "    img = cv2.cvtColor(arr, cv2.COLOR_GRAY2RGB)\n",
    "    tensor = torch.from_numpy(img)\n",
    "    return Image(tensor.permute((2,0,1)))"
   ]
  },
  {
   "cell_type": "code",
   "execution_count": 144,
   "metadata": {
    "scrolled": true
   },
   "outputs": [],
   "source": [
    "item_list = ItemList.from_df(dfs_combined, col=['drawing', 'word'], create_func=create_func)"
   ]
  },
  {
   "cell_type": "code",
   "execution_count": 146,
   "metadata": {},
   "outputs": [],
   "source": [
    "idxs = np.arange(item_list.items.shape[0])\n",
    "np.random.shuffle(idxs)\n",
    "val_idxs = idxs[:NUM_VAL]\n",
    "item_lists = item_list.split_by_idx(val_idxs)"
   ]
  },
  {
   "cell_type": "code",
   "execution_count": 147,
   "metadata": {},
   "outputs": [],
   "source": [
    "label_lists = item_lists.label_from_df(cols=1)"
   ]
  },
  {
   "cell_type": "code",
   "execution_count": 148,
   "metadata": {},
   "outputs": [
    {
     "data": {
      "text/plain": [
       "CategoryList (33959415 items)\n",
       "['wine bottle' 'wine bottle' 'wine bottle' 'wine bottle' ... 'baseball bat' 'baseball bat' 'baseball bat'\n",
       " 'baseball bat']\n",
       "Path: ."
      ]
     },
     "execution_count": 148,
     "metadata": {},
     "output_type": "execute_result"
    }
   ],
   "source": [
    "label_lists.train.y"
   ]
  },
  {
   "cell_type": "code",
   "execution_count": 149,
   "metadata": {},
   "outputs": [
    {
     "data": {
      "text/plain": [
       "CategoryList (17000 items)\n",
       "['bush' 'vase' 'piano' 'moon' ... 'nose' 'cow' 'bucket' 'moon']\n",
       "Path: ."
      ]
     },
     "execution_count": 149,
     "metadata": {},
     "output_type": "execute_result"
    }
   ],
   "source": [
    "label_lists.valid.y"
   ]
  },
  {
   "cell_type": "code",
   "execution_count": 150,
   "metadata": {},
   "outputs": [
    {
     "data": {
      "image/jpeg": "[encoded data removed]",
      "image/png": "[encoded data removed]",
      "text/plain": [
       "Image (3, 256, 256)"
      ]
     },
     "execution_count": 150,
     "metadata": {},
     "output_type": "execute_result"
    }
   ],
   "source": [
    "item_list[0]"
   ]
  },
  {
   "cell_type": "code",
   "execution_count": 151,
   "metadata": {},
   "outputs": [],
   "source": [
    "test_items = ItemList.from_df(test_df, col=['drawing', 'key_id'], create_func=create_func)"
   ]
  },
  {
   "cell_type": "code",
   "execution_count": 152,
   "metadata": {
    "scrolled": false
   },
   "outputs": [],
   "source": [
    "label_lists.add_test(test_items);"
   ]
  },
  {
   "cell_type": "code",
   "execution_count": 153,
   "metadata": {
    "scrolled": true
   },
   "outputs": [],
   "source": [
    "train_dl = DataLoader(label_lists.train, bs, True, num_workers=8)\n",
    "valid_dl = DataLoader(label_lists.valid, bs, False, num_workers=8)\n",
    "test_dl = DataLoader(label_lists.test, bs, False, num_workers=8)\n",
    "\n",
    "data_bunch = ImageDataBunch(train_dl, valid_dl, test_dl)"
   ]
  },
  {
   "cell_type": "code",
   "execution_count": 156,
   "metadata": {},
   "outputs": [
    {
     "data": {
      "image/png": "[encoded data removed]",
      "text/plain": [
       "<Figure size 648x720 with 25 Axes>"
      ]
     },
     "metadata": {
      "needs_background": "light"
     },
     "output_type": "display_data"
    }
   ],
   "source": [
    "data_bunch.show_batch(5)"
   ]
  },
  {
   "cell_type": "markdown",
   "metadata": {},
   "source": [
    "### Train"
   ]
  },
  {
   "cell_type": "code",
   "execution_count": 157,
   "metadata": {},
   "outputs": [],
   "source": [
    "name = f'res34-{sz}'"
   ]
  },
  {
   "cell_type": "code",
   "execution_count": 158,
   "metadata": {},
   "outputs": [],
   "source": [
    "learn = create_cnn(data_bunch, models.resnet34, metrics=[accuracy, map3])"
   ]
  },
  {
   "cell_type": "code",
   "execution_count": 159,
   "metadata": {
    "scrolled": true
   },
   "outputs": [
    {
     "name": "stdout",
     "output_type": "stream",
     "text": [
      "LR Finder is complete, type {learner_name}.recorder.plot() to see the graph.\n"
     ]
    },
    {
     "ename": "RuntimeError",
     "evalue": "thnn_conv2d_forward is not implemented for type torch.ByteTensor",
     "output_type": "error",
     "traceback": [
      "\u001b[0;31m---------------------------------------------------------------------------\u001b[0m",
      "\u001b[0;31mRuntimeError\u001b[0m                              Traceback (most recent call last)",
      "\u001b[0;32m<ipython-input-159-29bd39493606>\u001b[0m in \u001b[0;36m<module>\u001b[0;34m\u001b[0m\n\u001b[0;32m----> 1\u001b[0;31m \u001b[0mlr_find\u001b[0m\u001b[0;34m(\u001b[0m\u001b[0mlearn\u001b[0m\u001b[0;34m)\u001b[0m\u001b[0;34m\u001b[0m\u001b[0m\n\u001b[0m",
      "\u001b[0;32m~/anaconda3/envs/fastai_v1/lib/python3.6/site-packages/fastai/train.py\u001b[0m in \u001b[0;36mlr_find\u001b[0;34m(learn, start_lr, end_lr, num_it, stop_div, **kwargs)\u001b[0m\n\u001b[1;32m     26\u001b[0m     \u001b[0mcb\u001b[0m \u001b[0;34m=\u001b[0m \u001b[0mLRFinder\u001b[0m\u001b[0;34m(\u001b[0m\u001b[0mlearn\u001b[0m\u001b[0;34m,\u001b[0m \u001b[0mstart_lr\u001b[0m\u001b[0;34m,\u001b[0m \u001b[0mend_lr\u001b[0m\u001b[0;34m,\u001b[0m \u001b[0mnum_it\u001b[0m\u001b[0;34m,\u001b[0m \u001b[0mstop_div\u001b[0m\u001b[0;34m)\u001b[0m\u001b[0;34m\u001b[0m\u001b[0m\n\u001b[1;32m     27\u001b[0m     \u001b[0ma\u001b[0m \u001b[0;34m=\u001b[0m \u001b[0mint\u001b[0m\u001b[0;34m(\u001b[0m\u001b[0mnp\u001b[0m\u001b[0;34m.\u001b[0m\u001b[0mceil\u001b[0m\u001b[0;34m(\u001b[0m\u001b[0mnum_it\u001b[0m\u001b[0;34m/\u001b[0m\u001b[0mlen\u001b[0m\u001b[0;34m(\u001b[0m\u001b[0mlearn\u001b[0m\u001b[0;34m.\u001b[0m\u001b[0mdata\u001b[0m\u001b[0;34m.\u001b[0m\u001b[0mtrain_dl\u001b[0m\u001b[0;34m)\u001b[0m\u001b[0;34m)\u001b[0m\u001b[0;34m)\u001b[0m\u001b[0;34m\u001b[0m\u001b[0m\n\u001b[0;32m---> 28\u001b[0;31m     \u001b[0mlearn\u001b[0m\u001b[0;34m.\u001b[0m\u001b[0mfit\u001b[0m\u001b[0;34m(\u001b[0m\u001b[0ma\u001b[0m\u001b[0;34m,\u001b[0m \u001b[0mstart_lr\u001b[0m\u001b[0;34m,\u001b[0m \u001b[0mcallbacks\u001b[0m\u001b[0;34m=\u001b[0m\u001b[0;34m[\u001b[0m\u001b[0mcb\u001b[0m\u001b[0;34m]\u001b[0m\u001b[0;34m,\u001b[0m \u001b[0;34m**\u001b[0m\u001b[0mkwargs\u001b[0m\u001b[0;34m)\u001b[0m\u001b[0;34m\u001b[0m\u001b[0m\n\u001b[0m\u001b[1;32m     29\u001b[0m \u001b[0;34m\u001b[0m\u001b[0m\n\u001b[1;32m     30\u001b[0m \u001b[0;32mdef\u001b[0m \u001b[0mto_fp16\u001b[0m\u001b[0;34m(\u001b[0m\u001b[0mlearn\u001b[0m\u001b[0;34m:\u001b[0m\u001b[0mLearner\u001b[0m\u001b[0;34m,\u001b[0m \u001b[0mloss_scale\u001b[0m\u001b[0;34m:\u001b[0m\u001b[0mfloat\u001b[0m\u001b[0;34m=\u001b[0m\u001b[0;36m512.\u001b[0m\u001b[0;34m,\u001b[0m \u001b[0mflat_master\u001b[0m\u001b[0;34m:\u001b[0m\u001b[0mbool\u001b[0m\u001b[0;34m=\u001b[0m\u001b[0;32mFalse\u001b[0m\u001b[0;34m)\u001b[0m\u001b[0;34m->\u001b[0m\u001b[0mLearner\u001b[0m\u001b[0;34m:\u001b[0m\u001b[0;34m\u001b[0m\u001b[0m\n",
      "\u001b[0;32m~/anaconda3/envs/fastai_v1/lib/python3.6/site-packages/fastai/basic_train.py\u001b[0m in \u001b[0;36mfit\u001b[0;34m(self, epochs, lr, wd, callbacks)\u001b[0m\n\u001b[1;32m    160\u001b[0m         \u001b[0mcallbacks\u001b[0m \u001b[0;34m=\u001b[0m \u001b[0;34m[\u001b[0m\u001b[0mcb\u001b[0m\u001b[0;34m(\u001b[0m\u001b[0mself\u001b[0m\u001b[0;34m)\u001b[0m \u001b[0;32mfor\u001b[0m \u001b[0mcb\u001b[0m \u001b[0;32min\u001b[0m \u001b[0mself\u001b[0m\u001b[0;34m.\u001b[0m\u001b[0mcallback_fns\u001b[0m\u001b[0;34m]\u001b[0m \u001b[0;34m+\u001b[0m \u001b[0mlistify\u001b[0m\u001b[0;34m(\u001b[0m\u001b[0mcallbacks\u001b[0m\u001b[0;34m)\u001b[0m\u001b[0;34m\u001b[0m\u001b[0m\n\u001b[1;32m    161\u001b[0m         fit(epochs, self.model, self.loss_func, opt=self.opt, data=self.data, metrics=self.metrics,\n\u001b[0;32m--> 162\u001b[0;31m             callbacks=self.callbacks+callbacks)\n\u001b[0m\u001b[1;32m    163\u001b[0m \u001b[0;34m\u001b[0m\u001b[0m\n\u001b[1;32m    164\u001b[0m     \u001b[0;32mdef\u001b[0m \u001b[0mcreate_opt\u001b[0m\u001b[0;34m(\u001b[0m\u001b[0mself\u001b[0m\u001b[0;34m,\u001b[0m \u001b[0mlr\u001b[0m\u001b[0;34m:\u001b[0m\u001b[0mFloats\u001b[0m\u001b[0;34m,\u001b[0m \u001b[0mwd\u001b[0m\u001b[0;34m:\u001b[0m\u001b[0mFloats\u001b[0m\u001b[0;34m=\u001b[0m\u001b[0;36m0.\u001b[0m\u001b[0;34m)\u001b[0m\u001b[0;34m->\u001b[0m\u001b[0;32mNone\u001b[0m\u001b[0;34m:\u001b[0m\u001b[0;34m\u001b[0m\u001b[0m\n",
      "\u001b[0;32m~/anaconda3/envs/fastai_v1/lib/python3.6/site-packages/fastai/basic_train.py\u001b[0m in \u001b[0;36mfit\u001b[0;34m(epochs, model, loss_func, opt, data, callbacks, metrics)\u001b[0m\n\u001b[1;32m     92\u001b[0m     \u001b[0;32mexcept\u001b[0m \u001b[0mException\u001b[0m \u001b[0;32mas\u001b[0m \u001b[0me\u001b[0m\u001b[0;34m:\u001b[0m\u001b[0;34m\u001b[0m\u001b[0m\n\u001b[1;32m     93\u001b[0m         \u001b[0mexception\u001b[0m \u001b[0;34m=\u001b[0m \u001b[0me\u001b[0m\u001b[0;34m\u001b[0m\u001b[0m\n\u001b[0;32m---> 94\u001b[0;31m         \u001b[0;32mraise\u001b[0m \u001b[0me\u001b[0m\u001b[0;34m\u001b[0m\u001b[0m\n\u001b[0m\u001b[1;32m     95\u001b[0m     \u001b[0;32mfinally\u001b[0m\u001b[0;34m:\u001b[0m \u001b[0mcb_handler\u001b[0m\u001b[0;34m.\u001b[0m\u001b[0mon_train_end\u001b[0m\u001b[0;34m(\u001b[0m\u001b[0mexception\u001b[0m\u001b[0;34m)\u001b[0m\u001b[0;34m\u001b[0m\u001b[0m\n\u001b[1;32m     96\u001b[0m \u001b[0;34m\u001b[0m\u001b[0m\n",
      "\u001b[0;32m~/anaconda3/envs/fastai_v1/lib/python3.6/site-packages/fastai/basic_train.py\u001b[0m in \u001b[0;36mfit\u001b[0;34m(epochs, model, loss_func, opt, data, callbacks, metrics)\u001b[0m\n\u001b[1;32m     82\u001b[0m             \u001b[0;32mfor\u001b[0m \u001b[0mxb\u001b[0m\u001b[0;34m,\u001b[0m\u001b[0myb\u001b[0m \u001b[0;32min\u001b[0m \u001b[0mprogress_bar\u001b[0m\u001b[0;34m(\u001b[0m\u001b[0mdata\u001b[0m\u001b[0;34m.\u001b[0m\u001b[0mtrain_dl\u001b[0m\u001b[0;34m,\u001b[0m \u001b[0mparent\u001b[0m\u001b[0;34m=\u001b[0m\u001b[0mpbar\u001b[0m\u001b[0;34m)\u001b[0m\u001b[0;34m:\u001b[0m\u001b[0;34m\u001b[0m\u001b[0m\n\u001b[1;32m     83\u001b[0m                 \u001b[0mxb\u001b[0m\u001b[0;34m,\u001b[0m \u001b[0myb\u001b[0m \u001b[0;34m=\u001b[0m \u001b[0mcb_handler\u001b[0m\u001b[0;34m.\u001b[0m\u001b[0mon_batch_begin\u001b[0m\u001b[0;34m(\u001b[0m\u001b[0mxb\u001b[0m\u001b[0;34m,\u001b[0m \u001b[0myb\u001b[0m\u001b[0;34m)\u001b[0m\u001b[0;34m\u001b[0m\u001b[0m\n\u001b[0;32m---> 84\u001b[0;31m                 \u001b[0mloss\u001b[0m \u001b[0;34m=\u001b[0m \u001b[0mloss_batch\u001b[0m\u001b[0;34m(\u001b[0m\u001b[0mmodel\u001b[0m\u001b[0;34m,\u001b[0m \u001b[0mxb\u001b[0m\u001b[0;34m,\u001b[0m \u001b[0myb\u001b[0m\u001b[0;34m,\u001b[0m \u001b[0mloss_func\u001b[0m\u001b[0;34m,\u001b[0m \u001b[0mopt\u001b[0m\u001b[0;34m,\u001b[0m \u001b[0mcb_handler\u001b[0m\u001b[0;34m)\u001b[0m\u001b[0;34m\u001b[0m\u001b[0m\n\u001b[0m\u001b[1;32m     85\u001b[0m                 \u001b[0;32mif\u001b[0m \u001b[0mcb_handler\u001b[0m\u001b[0;34m.\u001b[0m\u001b[0mon_batch_end\u001b[0m\u001b[0;34m(\u001b[0m\u001b[0mloss\u001b[0m\u001b[0;34m)\u001b[0m\u001b[0;34m:\u001b[0m \u001b[0;32mbreak\u001b[0m\u001b[0;34m\u001b[0m\u001b[0m\n\u001b[1;32m     86\u001b[0m \u001b[0;34m\u001b[0m\u001b[0m\n",
      "\u001b[0;32m~/anaconda3/envs/fastai_v1/lib/python3.6/site-packages/fastai/basic_train.py\u001b[0m in \u001b[0;36mloss_batch\u001b[0;34m(model, xb, yb, loss_func, opt, cb_handler)\u001b[0m\n\u001b[1;32m     16\u001b[0m     \u001b[0;32mif\u001b[0m \u001b[0;32mnot\u001b[0m \u001b[0mis_listy\u001b[0m\u001b[0;34m(\u001b[0m\u001b[0mxb\u001b[0m\u001b[0;34m)\u001b[0m\u001b[0;34m:\u001b[0m \u001b[0mxb\u001b[0m \u001b[0;34m=\u001b[0m \u001b[0;34m[\u001b[0m\u001b[0mxb\u001b[0m\u001b[0;34m]\u001b[0m\u001b[0;34m\u001b[0m\u001b[0m\n\u001b[1;32m     17\u001b[0m     \u001b[0;32mif\u001b[0m \u001b[0;32mnot\u001b[0m \u001b[0mis_listy\u001b[0m\u001b[0;34m(\u001b[0m\u001b[0myb\u001b[0m\u001b[0;34m)\u001b[0m\u001b[0;34m:\u001b[0m \u001b[0myb\u001b[0m \u001b[0;34m=\u001b[0m \u001b[0;34m[\u001b[0m\u001b[0myb\u001b[0m\u001b[0;34m]\u001b[0m\u001b[0;34m\u001b[0m\u001b[0m\n\u001b[0;32m---> 18\u001b[0;31m     \u001b[0mout\u001b[0m \u001b[0;34m=\u001b[0m \u001b[0mmodel\u001b[0m\u001b[0;34m(\u001b[0m\u001b[0;34m*\u001b[0m\u001b[0mxb\u001b[0m\u001b[0;34m)\u001b[0m\u001b[0;34m\u001b[0m\u001b[0m\n\u001b[0m\u001b[1;32m     19\u001b[0m     \u001b[0mout\u001b[0m \u001b[0;34m=\u001b[0m \u001b[0mcb_handler\u001b[0m\u001b[0;34m.\u001b[0m\u001b[0mon_loss_begin\u001b[0m\u001b[0;34m(\u001b[0m\u001b[0mout\u001b[0m\u001b[0;34m)\u001b[0m\u001b[0;34m\u001b[0m\u001b[0m\n\u001b[1;32m     20\u001b[0m \u001b[0;34m\u001b[0m\u001b[0m\n",
      "\u001b[0;32m~/anaconda3/envs/fastai_v1/lib/python3.6/site-packages/torch/nn/modules/module.py\u001b[0m in \u001b[0;36m__call__\u001b[0;34m(self, *input, **kwargs)\u001b[0m\n\u001b[1;32m    475\u001b[0m             \u001b[0mresult\u001b[0m \u001b[0;34m=\u001b[0m \u001b[0mself\u001b[0m\u001b[0;34m.\u001b[0m\u001b[0m_slow_forward\u001b[0m\u001b[0;34m(\u001b[0m\u001b[0;34m*\u001b[0m\u001b[0minput\u001b[0m\u001b[0;34m,\u001b[0m \u001b[0;34m**\u001b[0m\u001b[0mkwargs\u001b[0m\u001b[0;34m)\u001b[0m\u001b[0;34m\u001b[0m\u001b[0m\n\u001b[1;32m    476\u001b[0m         \u001b[0;32melse\u001b[0m\u001b[0;34m:\u001b[0m\u001b[0;34m\u001b[0m\u001b[0m\n\u001b[0;32m--> 477\u001b[0;31m             \u001b[0mresult\u001b[0m \u001b[0;34m=\u001b[0m \u001b[0mself\u001b[0m\u001b[0;34m.\u001b[0m\u001b[0mforward\u001b[0m\u001b[0;34m(\u001b[0m\u001b[0;34m*\u001b[0m\u001b[0minput\u001b[0m\u001b[0;34m,\u001b[0m \u001b[0;34m**\u001b[0m\u001b[0mkwargs\u001b[0m\u001b[0;34m)\u001b[0m\u001b[0;34m\u001b[0m\u001b[0m\n\u001b[0m\u001b[1;32m    478\u001b[0m         \u001b[0;32mfor\u001b[0m \u001b[0mhook\u001b[0m \u001b[0;32min\u001b[0m \u001b[0mself\u001b[0m\u001b[0;34m.\u001b[0m\u001b[0m_forward_hooks\u001b[0m\u001b[0;34m.\u001b[0m\u001b[0mvalues\u001b[0m\u001b[0;34m(\u001b[0m\u001b[0;34m)\u001b[0m\u001b[0;34m:\u001b[0m\u001b[0;34m\u001b[0m\u001b[0m\n\u001b[1;32m    479\u001b[0m             \u001b[0mhook_result\u001b[0m \u001b[0;34m=\u001b[0m \u001b[0mhook\u001b[0m\u001b[0;34m(\u001b[0m\u001b[0mself\u001b[0m\u001b[0;34m,\u001b[0m \u001b[0minput\u001b[0m\u001b[0;34m,\u001b[0m \u001b[0mresult\u001b[0m\u001b[0;34m)\u001b[0m\u001b[0;34m\u001b[0m\u001b[0m\n",
      "\u001b[0;32m~/anaconda3/envs/fastai_v1/lib/python3.6/site-packages/torch/nn/modules/container.py\u001b[0m in \u001b[0;36mforward\u001b[0;34m(self, input)\u001b[0m\n\u001b[1;32m     90\u001b[0m     \u001b[0;32mdef\u001b[0m \u001b[0mforward\u001b[0m\u001b[0;34m(\u001b[0m\u001b[0mself\u001b[0m\u001b[0;34m,\u001b[0m \u001b[0minput\u001b[0m\u001b[0;34m)\u001b[0m\u001b[0;34m:\u001b[0m\u001b[0;34m\u001b[0m\u001b[0m\n\u001b[1;32m     91\u001b[0m         \u001b[0;32mfor\u001b[0m \u001b[0mmodule\u001b[0m \u001b[0;32min\u001b[0m \u001b[0mself\u001b[0m\u001b[0;34m.\u001b[0m\u001b[0m_modules\u001b[0m\u001b[0;34m.\u001b[0m\u001b[0mvalues\u001b[0m\u001b[0;34m(\u001b[0m\u001b[0;34m)\u001b[0m\u001b[0;34m:\u001b[0m\u001b[0;34m\u001b[0m\u001b[0m\n\u001b[0;32m---> 92\u001b[0;31m             \u001b[0minput\u001b[0m \u001b[0;34m=\u001b[0m \u001b[0mmodule\u001b[0m\u001b[0;34m(\u001b[0m\u001b[0minput\u001b[0m\u001b[0;34m)\u001b[0m\u001b[0;34m\u001b[0m\u001b[0m\n\u001b[0m\u001b[1;32m     93\u001b[0m         \u001b[0;32mreturn\u001b[0m \u001b[0minput\u001b[0m\u001b[0;34m\u001b[0m\u001b[0m\n\u001b[1;32m     94\u001b[0m \u001b[0;34m\u001b[0m\u001b[0m\n",
      "\u001b[0;32m~/anaconda3/envs/fastai_v1/lib/python3.6/site-packages/torch/nn/modules/module.py\u001b[0m in \u001b[0;36m__call__\u001b[0;34m(self, *input, **kwargs)\u001b[0m\n\u001b[1;32m    475\u001b[0m             \u001b[0mresult\u001b[0m \u001b[0;34m=\u001b[0m \u001b[0mself\u001b[0m\u001b[0;34m.\u001b[0m\u001b[0m_slow_forward\u001b[0m\u001b[0;34m(\u001b[0m\u001b[0;34m*\u001b[0m\u001b[0minput\u001b[0m\u001b[0;34m,\u001b[0m \u001b[0;34m**\u001b[0m\u001b[0mkwargs\u001b[0m\u001b[0;34m)\u001b[0m\u001b[0;34m\u001b[0m\u001b[0m\n\u001b[1;32m    476\u001b[0m         \u001b[0;32melse\u001b[0m\u001b[0;34m:\u001b[0m\u001b[0;34m\u001b[0m\u001b[0m\n\u001b[0;32m--> 477\u001b[0;31m             \u001b[0mresult\u001b[0m \u001b[0;34m=\u001b[0m \u001b[0mself\u001b[0m\u001b[0;34m.\u001b[0m\u001b[0mforward\u001b[0m\u001b[0;34m(\u001b[0m\u001b[0;34m*\u001b[0m\u001b[0minput\u001b[0m\u001b[0;34m,\u001b[0m \u001b[0;34m**\u001b[0m\u001b[0mkwargs\u001b[0m\u001b[0;34m)\u001b[0m\u001b[0;34m\u001b[0m\u001b[0m\n\u001b[0m\u001b[1;32m    478\u001b[0m         \u001b[0;32mfor\u001b[0m \u001b[0mhook\u001b[0m \u001b[0;32min\u001b[0m \u001b[0mself\u001b[0m\u001b[0;34m.\u001b[0m\u001b[0m_forward_hooks\u001b[0m\u001b[0;34m.\u001b[0m\u001b[0mvalues\u001b[0m\u001b[0;34m(\u001b[0m\u001b[0;34m)\u001b[0m\u001b[0;34m:\u001b[0m\u001b[0;34m\u001b[0m\u001b[0m\n\u001b[1;32m    479\u001b[0m             \u001b[0mhook_result\u001b[0m \u001b[0;34m=\u001b[0m \u001b[0mhook\u001b[0m\u001b[0;34m(\u001b[0m\u001b[0mself\u001b[0m\u001b[0;34m,\u001b[0m \u001b[0minput\u001b[0m\u001b[0;34m,\u001b[0m \u001b[0mresult\u001b[0m\u001b[0;34m)\u001b[0m\u001b[0;34m\u001b[0m\u001b[0m\n",
      "\u001b[0;32m~/anaconda3/envs/fastai_v1/lib/python3.6/site-packages/torch/nn/modules/container.py\u001b[0m in \u001b[0;36mforward\u001b[0;34m(self, input)\u001b[0m\n\u001b[1;32m     90\u001b[0m     \u001b[0;32mdef\u001b[0m \u001b[0mforward\u001b[0m\u001b[0;34m(\u001b[0m\u001b[0mself\u001b[0m\u001b[0;34m,\u001b[0m \u001b[0minput\u001b[0m\u001b[0;34m)\u001b[0m\u001b[0;34m:\u001b[0m\u001b[0;34m\u001b[0m\u001b[0m\n\u001b[1;32m     91\u001b[0m         \u001b[0;32mfor\u001b[0m \u001b[0mmodule\u001b[0m \u001b[0;32min\u001b[0m \u001b[0mself\u001b[0m\u001b[0;34m.\u001b[0m\u001b[0m_modules\u001b[0m\u001b[0;34m.\u001b[0m\u001b[0mvalues\u001b[0m\u001b[0;34m(\u001b[0m\u001b[0;34m)\u001b[0m\u001b[0;34m:\u001b[0m\u001b[0;34m\u001b[0m\u001b[0m\n\u001b[0;32m---> 92\u001b[0;31m             \u001b[0minput\u001b[0m \u001b[0;34m=\u001b[0m \u001b[0mmodule\u001b[0m\u001b[0;34m(\u001b[0m\u001b[0minput\u001b[0m\u001b[0;34m)\u001b[0m\u001b[0;34m\u001b[0m\u001b[0m\n\u001b[0m\u001b[1;32m     93\u001b[0m         \u001b[0;32mreturn\u001b[0m \u001b[0minput\u001b[0m\u001b[0;34m\u001b[0m\u001b[0m\n\u001b[1;32m     94\u001b[0m \u001b[0;34m\u001b[0m\u001b[0m\n",
      "\u001b[0;32m~/anaconda3/envs/fastai_v1/lib/python3.6/site-packages/torch/nn/modules/module.py\u001b[0m in \u001b[0;36m__call__\u001b[0;34m(self, *input, **kwargs)\u001b[0m\n\u001b[1;32m    475\u001b[0m             \u001b[0mresult\u001b[0m \u001b[0;34m=\u001b[0m \u001b[0mself\u001b[0m\u001b[0;34m.\u001b[0m\u001b[0m_slow_forward\u001b[0m\u001b[0;34m(\u001b[0m\u001b[0;34m*\u001b[0m\u001b[0minput\u001b[0m\u001b[0;34m,\u001b[0m \u001b[0;34m**\u001b[0m\u001b[0mkwargs\u001b[0m\u001b[0;34m)\u001b[0m\u001b[0;34m\u001b[0m\u001b[0m\n\u001b[1;32m    476\u001b[0m         \u001b[0;32melse\u001b[0m\u001b[0;34m:\u001b[0m\u001b[0;34m\u001b[0m\u001b[0m\n\u001b[0;32m--> 477\u001b[0;31m             \u001b[0mresult\u001b[0m \u001b[0;34m=\u001b[0m \u001b[0mself\u001b[0m\u001b[0;34m.\u001b[0m\u001b[0mforward\u001b[0m\u001b[0;34m(\u001b[0m\u001b[0;34m*\u001b[0m\u001b[0minput\u001b[0m\u001b[0;34m,\u001b[0m \u001b[0;34m**\u001b[0m\u001b[0mkwargs\u001b[0m\u001b[0;34m)\u001b[0m\u001b[0;34m\u001b[0m\u001b[0m\n\u001b[0m\u001b[1;32m    478\u001b[0m         \u001b[0;32mfor\u001b[0m \u001b[0mhook\u001b[0m \u001b[0;32min\u001b[0m \u001b[0mself\u001b[0m\u001b[0;34m.\u001b[0m\u001b[0m_forward_hooks\u001b[0m\u001b[0;34m.\u001b[0m\u001b[0mvalues\u001b[0m\u001b[0;34m(\u001b[0m\u001b[0;34m)\u001b[0m\u001b[0;34m:\u001b[0m\u001b[0;34m\u001b[0m\u001b[0m\n\u001b[1;32m    479\u001b[0m             \u001b[0mhook_result\u001b[0m \u001b[0;34m=\u001b[0m \u001b[0mhook\u001b[0m\u001b[0;34m(\u001b[0m\u001b[0mself\u001b[0m\u001b[0;34m,\u001b[0m \u001b[0minput\u001b[0m\u001b[0;34m,\u001b[0m \u001b[0mresult\u001b[0m\u001b[0;34m)\u001b[0m\u001b[0;34m\u001b[0m\u001b[0m\n",
      "\u001b[0;32m~/anaconda3/envs/fastai_v1/lib/python3.6/site-packages/torch/nn/modules/conv.py\u001b[0m in \u001b[0;36mforward\u001b[0;34m(self, input)\u001b[0m\n\u001b[1;32m    311\u001b[0m     \u001b[0;32mdef\u001b[0m \u001b[0mforward\u001b[0m\u001b[0;34m(\u001b[0m\u001b[0mself\u001b[0m\u001b[0;34m,\u001b[0m \u001b[0minput\u001b[0m\u001b[0;34m)\u001b[0m\u001b[0;34m:\u001b[0m\u001b[0;34m\u001b[0m\u001b[0m\n\u001b[1;32m    312\u001b[0m         return F.conv2d(input, self.weight, self.bias, self.stride,\n\u001b[0;32m--> 313\u001b[0;31m                         self.padding, self.dilation, self.groups)\n\u001b[0m\u001b[1;32m    314\u001b[0m \u001b[0;34m\u001b[0m\u001b[0m\n\u001b[1;32m    315\u001b[0m \u001b[0;34m\u001b[0m\u001b[0m\n",
      "\u001b[0;31mRuntimeError\u001b[0m: thnn_conv2d_forward is not implemented for type torch.ByteTensor"
     ]
    }
   ],
   "source": [
    "lr_find(learn)"
   ]
  },
  {
   "cell_type": "code",
   "execution_count": 16,
   "metadata": {},
   "outputs": [
    {
     "data": {
      "image/png": "[encoded data removed]",
      "text/plain": [
       "<Figure size 432x288 with 1 Axes>"
      ]
     },
     "metadata": {
      "needs_background": "light"
     },
     "output_type": "display_data"
    }
   ],
   "source": [
    "learn.recorder.plot()"
   ]
  },
  {
   "cell_type": "code",
   "execution_count": 17,
   "metadata": {},
   "outputs": [
    {
     "name": "stdout",
     "output_type": "stream",
     "text": [
      "Total time: 1:29:02\n",
      "epoch  train_loss  valid_loss  accuracy  map3    \n",
      "1      1.710132    1.408104    0.663235  0.739314  (1:29:02)\n",
      "\n"
     ]
    }
   ],
   "source": [
    "learn.fit_one_cycle(1, max_lr=0.1)"
   ]
  },
  {
   "cell_type": "code",
   "execution_count": 23,
   "metadata": {},
   "outputs": [],
   "source": [
    "learn.save(f'{name}-stage-1')"
   ]
  },
  {
   "cell_type": "code",
   "execution_count": 24,
   "metadata": {},
   "outputs": [],
   "source": [
    "learn.unfreeze()"
   ]
  },
  {
   "cell_type": "code",
   "execution_count": 25,
   "metadata": {},
   "outputs": [
    {
     "name": "stdout",
     "output_type": "stream",
     "text": [
      "Total time: 24:25\n",
      "epoch  train_loss  valid_loss  accuracy  map3    \n",
      "1      1.448672    1.383536    0.658706  0.739206  (04:04)\n",
      "2      1.358841    1.285606    0.681059  0.757471  (04:04)\n",
      "3      1.165717    1.180751    0.707647  0.780500  (04:04)\n",
      "4      0.927250    1.081052    0.732294  0.800314  (04:03)\n",
      "5      0.639683    1.044819    0.744294  0.810804  (04:03)\n",
      "6      0.454999    1.067124    0.744647  0.810461  (04:03)\n",
      "\n"
     ]
    }
   ],
   "source": [
    "learn.fit_one_cycle(6, max_lr=6e-4)"
   ]
  },
  {
   "cell_type": "code",
   "execution_count": 26,
   "metadata": {},
   "outputs": [],
   "source": [
    "learn.save(f'{name}-stage-2')"
   ]
  },
  {
   "cell_type": "markdown",
   "metadata": {},
   "source": [
    "### Predict"
   ]
  },
  {
   "cell_type": "code",
   "execution_count": 27,
   "metadata": {},
   "outputs": [],
   "source": [
    "learn.load(f'{name}-stage-2');"
   ]
  },
  {
   "cell_type": "code",
   "execution_count": 28,
   "metadata": {},
   "outputs": [],
   "source": [
    "preds, _ = learn.get_preds(ds_type=DatasetType.Test)"
   ]
  },
  {
   "cell_type": "code",
   "execution_count": 31,
   "metadata": {},
   "outputs": [],
   "source": [
    "create_submission(preds, data_bunch.test_dl, name)"
   ]
  },
  {
   "cell_type": "code",
   "execution_count": 32,
   "metadata": {},
   "outputs": [
    {
     "data": {
      "text/html": [
       "<div>\n",
       "<style scoped>\n",
       "    .dataframe tbody tr th:only-of-type {\n",
       "        vertical-align: middle;\n",
       "    }\n",
       "\n",
       "    .dataframe tbody tr th {\n",
       "        vertical-align: top;\n",
       "    }\n",
       "\n",
       "    .dataframe thead th {\n",
       "        text-align: right;\n",
       "    }\n",
       "</style>\n",
       "<table border=\"1\" class=\"dataframe\">\n",
       "  <thead>\n",
       "    <tr style=\"text-align: right;\">\n",
       "      <th></th>\n",
       "      <th>key_id</th>\n",
       "      <th>word</th>\n",
       "    </tr>\n",
       "  </thead>\n",
       "  <tbody>\n",
       "    <tr>\n",
       "      <th>0</th>\n",
       "      <td>9221337500464606</td>\n",
       "      <td>sock shoe foot</td>\n",
       "    </tr>\n",
       "    <tr>\n",
       "      <th>1</th>\n",
       "      <td>9950013608613660</td>\n",
       "      <td>leaf feather stitches</td>\n",
       "    </tr>\n",
       "    <tr>\n",
       "      <th>2</th>\n",
       "      <td>9005540600650567</td>\n",
       "      <td>broom paintbrush rake</td>\n",
       "    </tr>\n",
       "    <tr>\n",
       "      <th>3</th>\n",
       "      <td>9031090525591545</td>\n",
       "      <td>chair giraffe toilet</td>\n",
       "    </tr>\n",
       "    <tr>\n",
       "      <th>4</th>\n",
       "      <td>9896706467105420</td>\n",
       "      <td>flamingo swan bird</td>\n",
       "    </tr>\n",
       "  </tbody>\n",
       "</table>\n",
       "</div>"
      ],
      "text/plain": [
       "             key_id                   word\n",
       "0  9221337500464606         sock shoe foot\n",
       "1  9950013608613660  leaf feather stitches\n",
       "2  9005540600650567  broom paintbrush rake\n",
       "3  9031090525591545   chair giraffe toilet\n",
       "4  9896706467105420     flamingo swan bird"
      ]
     },
     "execution_count": 32,
     "metadata": {},
     "output_type": "execute_result"
    }
   ],
   "source": [
    "pd.read_csv(f'subs/{name}.csv.gz').head()"
   ]
  },
  {
   "cell_type": "code",
   "execution_count": 33,
   "metadata": {},
   "outputs": [
    {
     "name": "stdout",
     "output_type": "stream",
     "text": [
      "100%|██████████████████████████████████████| 1.52M/1.52M [00:17<00:00, 93.0kB/s]\n",
      "Successfully submitted to Quick, Draw! Doodle Recognition Challenge"
     ]
    }
   ],
   "source": [
    "# !kaggle competitions submit -c quickdraw-doodle-recognition -f subs/{name}.csv.gz -m \"{name}\""
   ]
  }
 ],
 "metadata": {
  "kernelspec": {
   "display_name": "Python 3",
   "language": "python",
   "name": "python3"
  },
  "language_info": {
   "codemirror_mode": {
    "name": "ipython",
    "version": 3
   },
   "file_extension": ".py",
   "mimetype": "text/x-python",
   "name": "python",
   "nbconvert_exporter": "python",
   "pygments_lexer": "ipython3",
   "version": "3.6.6"
  }
 },
 "nbformat": 4,
 "nbformat_minor": 2
}
