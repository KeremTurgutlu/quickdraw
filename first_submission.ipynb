{
 "cells": [
  {
   "cell_type": "code",
   "execution_count": 1,
   "metadata": {},
   "outputs": [],
   "source": [
    "%matplotlib inline\n",
    "import matplotlib.pyplot as plt\n",
    "import pandas as pd\n",
    "import numpy as np\n",
    "from pathlib import Path\n",
    "\n",
    "from fastai import *\n",
    "from fastai.vision import *\n",
    "\n",
    "import json\n",
    "\n",
    "from utils import *\n",
    "import ast"
   ]
  },
  {
   "cell_type": "code",
   "execution_count": 2,
   "metadata": {},
   "outputs": [],
   "source": [
    "NUM_SAMPLES_PER_CLASS = 100000\n",
    "NUM_VAL = 50 * 340"
   ]
  },
  {
   "cell_type": "code",
   "execution_count": 3,
   "metadata": {},
   "outputs": [],
   "source": [
    "PATH = Path('../data/quickdraw/')"
   ]
  },
  {
   "cell_type": "code",
   "execution_count": 4,
   "metadata": {},
   "outputs": [
    {
     "data": {
      "text/plain": [
       "[PosixPath('../data/quickdraw/test_simplified.csv'),\n",
       " PosixPath('../data/quickdraw/train_simplified.zip'),\n",
       " PosixPath('../data/quickdraw/train')]"
      ]
     },
     "execution_count": 4,
     "metadata": {},
     "output_type": "execute_result"
    }
   ],
   "source": [
    "PATH.ls()"
   ]
  },
  {
   "cell_type": "markdown",
   "metadata": {},
   "source": [
    "### data prep"
   ]
  },
  {
   "cell_type": "code",
   "execution_count": 5,
   "metadata": {
    "scrolled": true
   },
   "outputs": [
    {
     "name": "stdout",
     "output_type": "stream",
     "text": [
      "wine bottle.csv (126373, 3)\n",
      "light bulb.csv (120879, 3)\n",
      "lightning.csv (151560, 3)\n",
      "raccoon.csv (119588, 3)\n",
      "ocean.csv (131493, 3)\n",
      "tent.csv (131527, 3)\n",
      "helmet.csv (121899, 3)\n",
      "zebra.csv (144608, 3)\n",
      "t-shirt.csv (125233, 3)\n",
      "shovel.csv (117194, 3)\n",
      "stop sign.csv (119814, 3)\n",
      "flamingo.csv (124569, 3)\n",
      "cell phone.csv (121130, 3)\n",
      "castle.csv (122534, 3)\n",
      "campfire.csv (133395, 3)\n",
      "shark.csv (126050, 3)\n",
      "matches.csv (143969, 3)\n",
      "saw.csv (121256, 3)\n",
      "owl.csv (169632, 3)\n",
      "tooth.csv (125064, 3)\n",
      "train.csv (127948, 3)\n",
      "parrot.csv (185530, 3)\n",
      "carrot.csv (132459, 3)\n",
      "picture frame.csv (122371, 3)\n",
      "dragon.csv (124362, 3)\n",
      "elephant.csv (126969, 3)\n",
      "swan.csv (152088, 3)\n",
      "ant.csv (124612, 3)\n",
      "The Great Wall of China.csv (193015, 3)\n",
      "dumbbell.csv (157975, 3)\n",
      "drill.csv (136786, 3)\n",
      "toothbrush.csv (124828, 3)\n",
      "blueberry.csv (127878, 3)\n",
      "animal migration.csv (137847, 3)\n",
      "see saw.csv (131936, 3)\n",
      "camera.csv (128772, 3)\n",
      "finger.csv (167957, 3)\n",
      "clarinet.csv (126214, 3)\n",
      "hand.csv (291773, 3)\n",
      "shorts.csv (124970, 3)\n",
      "smiley face.csv (124386, 3)\n",
      "washing machine.csv (120851, 3)\n",
      "snowman.csv (340029, 3)\n",
      "eye.csv (125888, 3)\n",
      "underwear.csv (124548, 3)\n",
      "string bean.csv (119083, 3)\n",
      "pond.csv (121620, 3)\n",
      "purse.csv (123320, 3)\n",
      "squirrel.csv (156883, 3)\n",
      "compass.csv (127609, 3)\n",
      "school bus.csv (122041, 3)\n",
      "house.csv (135420, 3)\n",
      "crocodile.csv (127932, 3)\n",
      "lantern.csv (149912, 3)\n",
      "bear.csv (134762, 3)\n",
      "jail.csv (120131, 3)\n",
      "cup.csv (130721, 3)\n",
      "door.csv (120230, 3)\n",
      "cloud.csv (120265, 3)\n",
      "bandage.csv (147614, 3)\n",
      "radio.csv (135728, 3)\n",
      "church.csv (164225, 3)\n",
      "paint can.csv (123446, 3)\n",
      "skyscraper.csv (183709, 3)\n",
      "basketball.csv (133793, 3)\n",
      "eraser.csv (118339, 3)\n",
      "harp.csv (285403, 3)\n",
      "nose.csv (197573, 3)\n",
      "submarine.csv (124362, 3)\n",
      "scissors.csv (123390, 3)\n",
      "pineapple.csv (125071, 3)\n",
      "camouflage.csv (172710, 3)\n",
      "moon.csv (121661, 3)\n",
      "streetlight.csv (123280, 3)\n",
      "jacket.csv (214124, 3)\n",
      "tree.csv (144721, 3)\n",
      "cow.csv (123083, 3)\n",
      "pants.csv (144264, 3)\n",
      "horse.csv (178286, 3)\n",
      "toe.csv (153652, 3)\n",
      "golf club.csv (194843, 3)\n",
      "remote control.csv (119644, 3)\n",
      "drums.csv (137299, 3)\n",
      "hot tub.csv (120279, 3)\n",
      "wristwatch.csv (162645, 3)\n",
      "asparagus.csv (168102, 3)\n",
      "eyeglasses.csv (225762, 3)\n",
      "umbrella.csv (124084, 3)\n",
      "mailbox.csv (130053, 3)\n",
      "telephone.csv (127885, 3)\n",
      "bracelet.csv (119416, 3)\n",
      "pillow.csv (118753, 3)\n",
      "basket.csv (118458, 3)\n",
      "whale.csv (116502, 3)\n",
      "key.csv (160965, 3)\n",
      "snowflake.csv (116685, 3)\n",
      "pool.csv (133439, 3)\n",
      "spider.csv (209447, 3)\n",
      "passport.csv (150265, 3)\n",
      "hockey stick.csv (130110, 3)\n",
      "couch.csv (119662, 3)\n",
      "trombone.csv (184759, 3)\n",
      "paper clip.csv (127129, 3)\n",
      "chandelier.csv (167502, 3)\n",
      "headphones.csv (118906, 3)\n",
      "toilet.csv (129888, 3)\n",
      "strawberry.csv (122301, 3)\n",
      "mountain.csv (128540, 3)\n",
      "feather.csv (119910, 3)\n",
      "stove.csv (116535, 3)\n",
      "sink.csv (208410, 3)\n",
      "panda.csv (113613, 3)\n",
      "toaster.csv (122434, 3)\n",
      "zigzag.csv (120072, 3)\n",
      "hurricane.csv (136245, 3)\n",
      "paintbrush.csv (187002, 3)\n",
      "sea turtle.csv (119876, 3)\n",
      "floor lamp.csv (166355, 3)\n",
      "snake.csv (122273, 3)\n",
      "sword.csv (123802, 3)\n",
      "ambulance.csv (148004, 3)\n",
      "mermaid.csv (180304, 3)\n",
      "hot dog.csv (181999, 3)\n",
      "alarm clock.csv (123399, 3)\n",
      "yoga.csv (280442, 3)\n",
      "clock.csv (120536, 3)\n",
      "arm.csv (120951, 3)\n",
      "piano.csv (116870, 3)\n",
      "cooler.csv (271444, 3)\n",
      "dolphin.csv (121613, 3)\n",
      "postcard.csv (125706, 3)\n",
      "soccer ball.csv (125349, 3)\n",
      "flashlight.csv (239763, 3)\n",
      "face.csv (161666, 3)\n",
      "circle.csv (122876, 3)\n",
      "broom.csv (116927, 3)\n",
      "cat.csv (123202, 3)\n",
      "bottlecap.csv (153207, 3)\n",
      "peanut.csv (126626, 3)\n",
      "bucket.csv (124064, 3)\n",
      "The Mona Lisa.csv (121383, 3)\n",
      "stairs.csv (128981, 3)\n",
      "mushroom.csv (142167, 3)\n",
      "house plant.csv (122996, 3)\n",
      "square.csv (125145, 3)\n",
      "fish.csv (134150, 3)\n",
      "wheel.csv (136659, 3)\n",
      "octagon.csv (159474, 3)\n",
      "peas.csv (161656, 3)\n",
      "elbow.csv (126253, 3)\n",
      "knee.csv (267540, 3)\n",
      "spoon.csv (125028, 3)\n",
      "hat.csv (222610, 3)\n",
      "The Eiffel Tower.csv (134801, 3)\n",
      "baseball.csv (135375, 3)\n",
      "watermelon.csv (132939, 3)\n",
      "spreadsheet.csv (170200, 3)\n",
      "envelope.csv (134863, 3)\n",
      "snail.csv (133757, 3)\n",
      "stitches.csv (125192, 3)\n",
      "anvil.csv (126231, 3)\n",
      "firetruck.csv (220695, 3)\n",
      "hedgehog.csv (120527, 3)\n",
      "fork.csv (126077, 3)\n",
      "flying saucer.csv (151966, 3)\n",
      "lollipop.csv (128849, 3)\n",
      "speedboat.csv (188580, 3)\n",
      "garden.csv (158527, 3)\n",
      "fan.csv (136158, 3)\n",
      "hockey puck.csv (203301, 3)\n",
      "duck.csv (135480, 3)\n",
      "pear.csv (116904, 3)\n",
      "map.csv (120629, 3)\n",
      "cookie.csv (131353, 3)\n",
      "laptop.csv (261501, 3)\n",
      "banana.csv (307936, 3)\n",
      "vase.csv (126475, 3)\n",
      "nail.csv (158593, 3)\n",
      "calculator.csv (128375, 3)\n",
      "mouse.csv (178826, 3)\n",
      "lipstick.csv (127623, 3)\n",
      "rollerskates.csv (119772, 3)\n",
      "police car.csv (130024, 3)\n",
      "axe.csv (124122, 3)\n",
      "foot.csv (203086, 3)\n",
      "dog.csv (152159, 3)\n",
      "apple.csv (144722, 3)\n",
      "sock.csv (205715, 3)\n",
      "teddy-bear.csv (179568, 3)\n",
      "barn.csv (151139, 3)\n",
      "backpack.csv (125801, 3)\n",
      "skateboard.csv (128733, 3)\n",
      "canoe.csv (123767, 3)\n",
      "swing set.csv (119357, 3)\n",
      "bus.csv (166208, 3)\n",
      "ladder.csv (125389, 3)\n",
      "fireplace.csv (155570, 3)\n",
      "grapes.csv (155305, 3)\n",
      "hamburger.csv (129672, 3)\n",
      "ceiling fan.csv (115413, 3)\n",
      "candle.csv (141545, 3)\n",
      "coffee cup.csv (183432, 3)\n",
      "hammer.csv (119012, 3)\n",
      "mouth.csv (134135, 3)\n",
      "cactus.csv (131676, 3)\n",
      "frying pan.csv (123824, 3)\n",
      "giraffe.csv (127182, 3)\n",
      "ear.csv (122897, 3)\n",
      "pig.csv (186770, 3)\n",
      "trumpet.csv (169547, 3)\n",
      "camel.csv (121399, 3)\n",
      "bulldozer.csv (187409, 3)\n",
      "book.csv (119364, 3)\n",
      "wine glass.csv (132302, 3)\n",
      "suitcase.csv (126442, 3)\n",
      "octopus.csv (150152, 3)\n",
      "blackberry.csv (128153, 3)\n",
      "bowtie.csv (130283, 3)\n",
      "van.csv (165909, 3)\n",
      "grass.csv (123071, 3)\n",
      "boomerang.csv (142682, 3)\n",
      "donut.csv (140751, 3)\n",
      "squiggle.csv (118441, 3)\n",
      "triangle.csv (123170, 3)\n",
      "bee.csv (120890, 3)\n",
      "scorpion.csv (165689, 3)\n",
      "crab.csv (126930, 3)\n",
      "mug.csv (152918, 3)\n",
      "hot air balloon.csv (126350, 3)\n",
      "monkey.csv (127633, 3)\n",
      "calendar.csv (321981, 3)\n",
      "palm tree.csv (121959, 3)\n",
      "oven.csv (206910, 3)\n",
      "sheep.csv (126121, 3)\n",
      "bed.csv (113862, 3)\n",
      "bread.csv (120570, 3)\n",
      "rhinoceros.csv (188484, 3)\n",
      "popsicle.csv (126707, 3)\n",
      "traffic light.csv (125321, 3)\n",
      "cruise ship.csv (123410, 3)\n",
      "fence.csv (129426, 3)\n",
      "tornado.csv (143271, 3)\n",
      "bridge.csv (133010, 3)\n",
      "frog.csv (159047, 3)\n",
      "lion.csv (120949, 3)\n",
      "birthday cake.csv (144982, 3)\n",
      "ice cream.csv (123133, 3)\n",
      "snorkel.csv (154533, 3)\n",
      "screwdriver.csv (116313, 3)\n",
      "sweater.csv (120184, 3)\n",
      "table.csv (128021, 3)\n",
      "waterslide.csv (185364, 3)\n",
      "saxophone.csv (118107, 3)\n",
      "river.csv (133271, 3)\n",
      "necklace.csv (120580, 3)\n",
      "onion.csv (132297, 3)\n",
      "star.csv (137619, 3)\n",
      "car.csv (182764, 3)\n",
      "beard.csv (165202, 3)\n",
      "line.csv (143549, 3)\n",
      "airplane.csv (151623, 3)\n",
      "brain.csv (143033, 3)\n",
      "guitar.csv (120451, 3)\n",
      "beach.csv (124938, 3)\n",
      "pickup truck.csv (130740, 3)\n",
      "penguin.csv (253791, 3)\n",
      "hexagon.csv (142435, 3)\n",
      "microphone.csv (120570, 3)\n",
      "crown.csv (134089, 3)\n",
      "bench.csv (128695, 3)\n",
      "rain.csv (134680, 3)\n",
      "chair.csv (222706, 3)\n",
      "garden hose.csv (121843, 3)\n",
      "keyboard.csv (187766, 3)\n",
      "goatee.csv (190002, 3)\n",
      "dishwasher.csv (169759, 3)\n",
      "angel.csv (149736, 3)\n",
      "diamond.csv (131587, 3)\n",
      "dresser.csv (123395, 3)\n",
      "pliers.csv (172549, 3)\n",
      "cello.csv (149725, 3)\n",
      "rake.csv (154639, 3)\n",
      "rabbit.csv (155288, 3)\n",
      "moustache.csv (179924, 3)\n",
      "binoculars.csv (124190, 3)\n",
      "leg.csv (116804, 3)\n",
      "violin.csv (217260, 3)\n",
      "power outlet.csv (169462, 3)\n",
      "lobster.csv (140175, 3)\n",
      "fire hydrant.csv (137242, 3)\n",
      "sandwich.csv (131732, 3)\n",
      "sailboat.csv (136506, 3)\n",
      "leaf.csv (125571, 3)\n",
      "lighthouse.csv (160903, 3)\n",
      "crayon.csv (129953, 3)\n",
      "windmill.csv (120644, 3)\n",
      "diving board.csv (290239, 3)\n",
      "tennis racquet.csv (231151, 3)\n",
      "cake.csv (124905, 3)\n",
      "roller coaster.csv (143570, 3)\n",
      "teapot.csv (126804, 3)\n",
      "belt.csv (191119, 3)\n",
      "motorbike.csv (169931, 3)\n",
      "marker.csv (319136, 3)\n",
      "steak.csv (122042, 3)\n",
      "broccoli.csv (132826, 3)\n",
      "kangaroo.csv (174470, 3)\n",
      "hospital.csv (167448, 3)\n",
      "toothpaste.csv (131037, 3)\n",
      "flower.csv (144818, 3)\n",
      "bush.csv (120520, 3)\n",
      "rainbow.csv (126845, 3)\n",
      "truck.csv (131354, 3)\n",
      "cannon.csv (141394, 3)\n",
      "pencil.csv (122001, 3)\n",
      "tractor.csv (116677, 3)\n",
      "sleeping bag.csv (119691, 3)\n",
      "megaphone.csv (137334, 3)\n",
      "sun.csv (133781, 3)\n",
      "skull.csv (126174, 3)\n",
      "tiger.csv (121067, 3)\n",
      "microwave.csv (130533, 3)\n",
      "bicycle.csv (126527, 3)\n",
      "bird.csv (133572, 3)\n",
      "stethoscope.csv (153794, 3)\n",
      "hourglass.csv (135957, 3)\n",
      "pizza.csv (130371, 3)\n",
      "television.csv (123137, 3)\n",
      "parachute.csv (127319, 3)\n",
      "shoe.csv (120231, 3)\n",
      "computer.csv (123885, 3)\n",
      "helicopter.csv (159938, 3)\n",
      "potato.csv (329204, 3)\n",
      "butterfly.csv (117999, 3)\n",
      "flip flops.csv (121518, 3)\n",
      "bat.csv (118114, 3)\n",
      "stereo.csv (122444, 3)\n",
      "mosquito.csv (123029, 3)\n",
      "bathtub.csv (174336, 3)\n",
      "baseball bat.csv (123809, 3)\n"
     ]
    }
   ],
   "source": [
    "dfs = []\n",
    "for p in (PATH/\"train\").ls():\n",
    "    sample_df = pd.read_csv(p, usecols=[1,3,5])\n",
    "    print(p.name, sample_df.shape)\n",
    "    sample_df = sample_df[sample_df.recognized].reset_index(drop=True)[['drawing', 'word']]\n",
    "    dfs.append(sample_df.sample(min(len(sample_df), NUM_SAMPLES_PER_CLASS)))"
   ]
  },
  {
   "cell_type": "code",
   "execution_count": 6,
   "metadata": {},
   "outputs": [
    {
     "data": {
      "text/plain": [
       "340"
      ]
     },
     "execution_count": 6,
     "metadata": {},
     "output_type": "execute_result"
    }
   ],
   "source": [
    "len(dfs)"
   ]
  },
  {
   "cell_type": "code",
   "execution_count": 7,
   "metadata": {},
   "outputs": [],
   "source": [
    "dfs_combined = pd.concat(dfs, axis=0)"
   ]
  },
  {
   "cell_type": "code",
   "execution_count": 8,
   "metadata": {},
   "outputs": [],
   "source": [
    "dfs_combined.reset_index(drop=True, inplace=True)"
   ]
  },
  {
   "cell_type": "code",
   "execution_count": 9,
   "metadata": {},
   "outputs": [],
   "source": [
    "dfs_combined.to_csv(PATH/\"train/dfs_combined.csv\")"
   ]
  },
  {
   "cell_type": "markdown",
   "metadata": {},
   "source": [
    "###  Create ImageDataBunch using the data block API"
   ]
  },
  {
   "cell_type": "code",
   "execution_count": 5,
   "metadata": {},
   "outputs": [],
   "source": [
    "bs = 256\n",
    "sz = 256"
   ]
  },
  {
   "cell_type": "code",
   "execution_count": 6,
   "metadata": {},
   "outputs": [],
   "source": [
    "dfs_combined = pd.read_csv(PATH/\"train/dfs_combined.csv\")"
   ]
  },
  {
   "cell_type": "code",
   "execution_count": 7,
   "metadata": {},
   "outputs": [],
   "source": [
    "test_df = pd.read_csv(PATH/\"test_simplified.csv\")"
   ]
  },
  {
   "cell_type": "code",
   "execution_count": 23,
   "metadata": {},
   "outputs": [],
   "source": [
    "dfs_combined = dfs_combined[['drawing', 'word']]"
   ]
  },
  {
   "cell_type": "code",
   "execution_count": 24,
   "metadata": {},
   "outputs": [],
   "source": [
    "def create_func(item):\n",
    "    arr = list2drawing(ast.literal_eval(item[0]), size=sz, lw=6, time_color=True)\n",
    "    img = cv2.cvtColor(arr, cv2.COLOR_GRAY2RGB)\n",
    "    tensor = torch.from_numpy(img).float()\n",
    "    return Image(tensor.permute((2,0,1)).div_(255))"
   ]
  },
  {
   "cell_type": "code",
   "execution_count": 25,
   "metadata": {
    "scrolled": true
   },
   "outputs": [],
   "source": [
    "item_list = ItemList.from_df(dfs_combined, cols=['drawing', 'word'], create_func=create_func)"
   ]
  },
  {
   "cell_type": "code",
   "execution_count": 26,
   "metadata": {},
   "outputs": [
    {
     "data": {
      "image/jpeg": "[encoded data removed]",
      "image/png": "[encoded data removed]",
      "text/plain": [
       "Image (3, 256, 256)"
      ]
     },
     "execution_count": 26,
     "metadata": {},
     "output_type": "execute_result"
    }
   ],
   "source": [
    "item_list[0]"
   ]
  },
  {
   "cell_type": "code",
   "execution_count": 27,
   "metadata": {},
   "outputs": [],
   "source": [
    "idxs = np.arange(item_list.items.shape[0])\n",
    "np.random.shuffle(idxs)\n",
    "val_idxs = idxs[:NUM_VAL]\n",
    "item_lists = item_list.split_by_idx(val_idxs)"
   ]
  },
  {
   "cell_type": "code",
   "execution_count": 28,
   "metadata": {},
   "outputs": [],
   "source": [
    "label_lists = item_lists.label_from_df(cols=1)"
   ]
  },
  {
   "cell_type": "code",
   "execution_count": 29,
   "metadata": {},
   "outputs": [
    {
     "data": {
      "text/plain": [
       "CategoryList (33959415 items)\n",
       "[Category wine bottle, Category wine bottle, Category wine bottle, Category wine bottle, Category wine bottle]...\n",
       "Path: ."
      ]
     },
     "execution_count": 29,
     "metadata": {},
     "output_type": "execute_result"
    }
   ],
   "source": [
    "label_lists.train.y"
   ]
  },
  {
   "cell_type": "code",
   "execution_count": 30,
   "metadata": {},
   "outputs": [
    {
     "data": {
      "text/plain": [
       "CategoryList (17000 items)\n",
       "[Category skyscraper, Category sea turtle, Category violin, Category clock, Category bear]...\n",
       "Path: ."
      ]
     },
     "execution_count": 30,
     "metadata": {},
     "output_type": "execute_result"
    }
   ],
   "source": [
    "label_lists.valid.y"
   ]
  },
  {
   "cell_type": "code",
   "execution_count": 31,
   "metadata": {},
   "outputs": [
    {
     "data": {
      "text/plain": [
       "(Image (3, 256, 256), Category wine bottle)"
      ]
     },
     "execution_count": 31,
     "metadata": {},
     "output_type": "execute_result"
    }
   ],
   "source": [
    "item_lists.train[0]"
   ]
  },
  {
   "cell_type": "code",
   "execution_count": 32,
   "metadata": {},
   "outputs": [],
   "source": [
    "test_items = ItemList.from_df(test_df, cols=['drawing', 'key_id'], create_func=create_func)"
   ]
  },
  {
   "cell_type": "code",
   "execution_count": 33,
   "metadata": {
    "scrolled": false
   },
   "outputs": [],
   "source": [
    "label_lists.add_test(test_items);"
   ]
  },
  {
   "cell_type": "code",
   "execution_count": 34,
   "metadata": {
    "scrolled": true
   },
   "outputs": [],
   "source": [
    "train_dl = DataLoader(label_lists.train, bs, True, num_workers=8)\n",
    "valid_dl = DataLoader(label_lists.valid, bs, False, num_workers=8)\n",
    "test_dl = DataLoader(label_lists.test, bs, False, num_workers=8)\n",
    "\n",
    "data_bunch = ImageDataBunch(train_dl, valid_dl, test_dl)"
   ]
  },
  {
   "cell_type": "code",
   "execution_count": 35,
   "metadata": {
    "scrolled": false
   },
   "outputs": [
    {
     "data": {
      "image/png": "[encoded data removed]",
      "text/plain": [
       "<Figure size 648x720 with 9 Axes>"
      ]
     },
     "metadata": {
      "needs_background": "light"
     },
     "output_type": "display_data"
    }
   ],
   "source": [
    "data_bunch.show_batch(3)"
   ]
  },
  {
   "cell_type": "markdown",
   "metadata": {},
   "source": [
    "### Train"
   ]
  },
  {
   "cell_type": "code",
   "execution_count": 36,
   "metadata": {},
   "outputs": [],
   "source": [
    "name = f'res34-{sz}'"
   ]
  },
  {
   "cell_type": "code",
   "execution_count": 37,
   "metadata": {},
   "outputs": [],
   "source": [
    "learn = create_cnn(data_bunch, models.resnet34, metrics=[accuracy, map3])"
   ]
  },
  {
   "cell_type": "code",
   "execution_count": null,
   "metadata": {
    "scrolled": true
   },
   "outputs": [
    {
     "data": {
      "text/html": [
       "\n",
       "    <div>\n",
       "        <style>\n",
       "        \t/* Turns off some styling */\n",
       "        \tprogress {\n",
       "\n",
       "            \t/* gets rid of default border in Firefox and Opera. */\n",
       "            \tborder: none;\n",
       "\n",
       "            \t/* Needs to be in here for Safari polyfill so background images work as expected. */\n",
       "            \tbackground-size: auto;\n",
       "            }\n",
       "\n",
       "            .progress-bar-interrupted, .progress-bar-interrupted::-webkit-progress-bar {\n",
       "                background: #F44336;\n",
       "            }\n",
       "        </style>\n",
       "      <progress value='0' class='' max='1', style='width:300px; height:20px; vertical-align: middle;'></progress>\n",
       "      0.00% [0/1 00:00<00:00]\n",
       "    </div>\n",
       "    \n",
       "<table style='width:375px; margin-bottom:10px'>\n",
       "  <tr>\n",
       "    <th>epoch</th>\n",
       "    <th>train_loss</th>\n",
       "    <th>valid_loss</th>\n",
       "    <th>accuracy</th>\n",
       "    <th>map3</th>\n",
       "  </tr>\n",
       "  <tr>\n",
       "\n",
       "  </tr>\n",
       "</table>\n",
       "\n",
       "\n",
       "    <div>\n",
       "        <style>\n",
       "        \t/* Turns off some styling */\n",
       "        \tprogress {\n",
       "\n",
       "            \t/* gets rid of default border in Firefox and Opera. */\n",
       "            \tborder: none;\n",
       "\n",
       "            \t/* Needs to be in here for Safari polyfill so background images work as expected. */\n",
       "            \tbackground-size: auto;\n",
       "            }\n",
       "\n",
       "            .progress-bar-interrupted, .progress-bar-interrupted::-webkit-progress-bar {\n",
       "                background: #F44336;\n",
       "            }\n",
       "        </style>\n",
       "      <progress value='0' class='' max='132654', style='width:300px; height:20px; vertical-align: middle;'></progress>\n",
       "      0.00% [0/132654 00:00<00:00]\n",
       "    </div>\n",
       "    "
      ],
      "text/plain": [
       "<IPython.core.display.HTML object>"
      ]
     },
     "metadata": {},
     "output_type": "display_data"
    }
   ],
   "source": [
    "learn.fit_one_cycle(1, max_lr=0.1)"
   ]
  },
  {
   "cell_type": "code",
   "execution_count": null,
   "metadata": {},
   "outputs": [],
   "source": [
    "learn.save(f'{name}-stage-1')"
   ]
  },
  {
   "cell_type": "code",
   "execution_count": 24,
   "metadata": {},
   "outputs": [],
   "source": [
    "learn.unfreeze()"
   ]
  },
  {
   "cell_type": "code",
   "execution_count": 25,
   "metadata": {},
   "outputs": [
    {
     "name": "stdout",
     "output_type": "stream",
     "text": [
      "Total time: 24:25\n",
      "epoch  train_loss  valid_loss  accuracy  map3    \n",
      "1      1.448672    1.383536    0.658706  0.739206  (04:04)\n",
      "2      1.358841    1.285606    0.681059  0.757471  (04:04)\n",
      "3      1.165717    1.180751    0.707647  0.780500  (04:04)\n",
      "4      0.927250    1.081052    0.732294  0.800314  (04:03)\n",
      "5      0.639683    1.044819    0.744294  0.810804  (04:03)\n",
      "6      0.454999    1.067124    0.744647  0.810461  (04:03)\n",
      "\n"
     ]
    }
   ],
   "source": [
    "learn.fit_one_cycle(6, max_lr=6e-4)"
   ]
  },
  {
   "cell_type": "code",
   "execution_count": 26,
   "metadata": {},
   "outputs": [],
   "source": [
    "learn.save(f'{name}-stage-2')"
   ]
  },
  {
   "cell_type": "markdown",
   "metadata": {},
   "source": [
    "### Predict"
   ]
  },
  {
   "cell_type": "code",
   "execution_count": 27,
   "metadata": {},
   "outputs": [],
   "source": [
    "learn.load(f'{name}-stage-2');"
   ]
  },
  {
   "cell_type": "code",
   "execution_count": 28,
   "metadata": {},
   "outputs": [],
   "source": [
    "preds, _ = learn.get_preds(ds_type=DatasetType.Test)"
   ]
  },
  {
   "cell_type": "code",
   "execution_count": 31,
   "metadata": {},
   "outputs": [],
   "source": [
    "create_submission(preds, data_bunch.test_dl, name)"
   ]
  },
  {
   "cell_type": "code",
   "execution_count": 32,
   "metadata": {},
   "outputs": [
    {
     "data": {
      "text/html": [
       "<div>\n",
       "<style scoped>\n",
       "    .dataframe tbody tr th:only-of-type {\n",
       "        vertical-align: middle;\n",
       "    }\n",
       "\n",
       "    .dataframe tbody tr th {\n",
       "        vertical-align: top;\n",
       "    }\n",
       "\n",
       "    .dataframe thead th {\n",
       "        text-align: right;\n",
       "    }\n",
       "</style>\n",
       "<table border=\"1\" class=\"dataframe\">\n",
       "  <thead>\n",
       "    <tr style=\"text-align: right;\">\n",
       "      <th></th>\n",
       "      <th>key_id</th>\n",
       "      <th>word</th>\n",
       "    </tr>\n",
       "  </thead>\n",
       "  <tbody>\n",
       "    <tr>\n",
       "      <th>0</th>\n",
       "      <td>9221337500464606</td>\n",
       "      <td>sock shoe foot</td>\n",
       "    </tr>\n",
       "    <tr>\n",
       "      <th>1</th>\n",
       "      <td>9950013608613660</td>\n",
       "      <td>leaf feather stitches</td>\n",
       "    </tr>\n",
       "    <tr>\n",
       "      <th>2</th>\n",
       "      <td>9005540600650567</td>\n",
       "      <td>broom paintbrush rake</td>\n",
       "    </tr>\n",
       "    <tr>\n",
       "      <th>3</th>\n",
       "      <td>9031090525591545</td>\n",
       "      <td>chair giraffe toilet</td>\n",
       "    </tr>\n",
       "    <tr>\n",
       "      <th>4</th>\n",
       "      <td>9896706467105420</td>\n",
       "      <td>flamingo swan bird</td>\n",
       "    </tr>\n",
       "  </tbody>\n",
       "</table>\n",
       "</div>"
      ],
      "text/plain": [
       "             key_id                   word\n",
       "0  9221337500464606         sock shoe foot\n",
       "1  9950013608613660  leaf feather stitches\n",
       "2  9005540600650567  broom paintbrush rake\n",
       "3  9031090525591545   chair giraffe toilet\n",
       "4  9896706467105420     flamingo swan bird"
      ]
     },
     "execution_count": 32,
     "metadata": {},
     "output_type": "execute_result"
    }
   ],
   "source": [
    "pd.read_csv(f'subs/{name}.csv.gz').head()"
   ]
  },
  {
   "cell_type": "code",
   "execution_count": 33,
   "metadata": {},
   "outputs": [
    {
     "name": "stdout",
     "output_type": "stream",
     "text": [
      "100%|██████████████████████████████████████| 1.52M/1.52M [00:17<00:00, 93.0kB/s]\n",
      "Successfully submitted to Quick, Draw! Doodle Recognition Challenge"
     ]
    }
   ],
   "source": [
    "# !kaggle competitions submit -c quickdraw-doodle-recognition -f subs/{name}.csv.gz -m \"{name}\""
   ]
  }
 ],
 "metadata": {
  "kernelspec": {
   "display_name": "Python 3",
   "language": "python",
   "name": "python3"
  },
  "language_info": {
   "codemirror_mode": {
    "name": "ipython",
    "version": 3
   },
   "file_extension": ".py",
   "mimetype": "text/x-python",
   "name": "python",
   "nbconvert_exporter": "python",
   "pygments_lexer": "ipython3",
   "version": "3.7.0"
  }
 },
 "nbformat": 4,
 "nbformat_minor": 2
}
