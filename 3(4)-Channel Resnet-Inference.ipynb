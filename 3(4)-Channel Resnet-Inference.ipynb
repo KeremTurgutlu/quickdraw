{
 "cells": [
  {
   "cell_type": "code",
   "execution_count": 1,
   "metadata": {},
   "outputs": [],
   "source": [
    "%matplotlib inline\n",
    "import matplotlib.pyplot as plt\n",
    "import pandas as pd\n",
    "import numpy as np\n",
    "from pathlib import Path\n",
    "\n",
    "from fastai import *\n",
    "from fastai.vision import *\n",
    "\n",
    "import json\n",
    "\n",
    "from utils import *\n",
    "import ast"
   ]
  },
  {
   "cell_type": "code",
   "execution_count": 2,
   "metadata": {},
   "outputs": [],
   "source": [
    "NUM_SAMPLES_PER_CLASS = 70_000\n",
    "NUM_VAL = 50 * 340"
   ]
  },
  {
   "cell_type": "code",
   "execution_count": 3,
   "metadata": {},
   "outputs": [],
   "source": [
    "PATH = Path('../data/quickdraw/')"
   ]
  },
  {
   "cell_type": "code",
   "execution_count": 4,
   "metadata": {},
   "outputs": [
    {
     "data": {
      "text/plain": [
       "[PosixPath('../data/quickdraw/test_simplified.csv'),\n",
       " PosixPath('../data/quickdraw/train'),\n",
       " PosixPath('../data/quickdraw/submission'),\n",
       " PosixPath('../data/quickdraw/train_folders'),\n",
       " PosixPath('../data/quickdraw/valid_folders'),\n",
       " PosixPath('../data/quickdraw/train_dummy_folders'),\n",
       " PosixPath('../data/quickdraw/dfs_combined.csv'),\n",
       " PosixPath('../data/quickdraw/classes.pkl'),\n",
       " PosixPath('../data/quickdraw/test')]"
      ]
     },
     "execution_count": 4,
     "metadata": {},
     "output_type": "execute_result"
    }
   ],
   "source": [
    "PATH.ls()"
   ]
  },
  {
   "cell_type": "markdown",
   "metadata": {},
   "source": [
    "### Check Data"
   ]
  },
  {
   "cell_type": "code",
   "execution_count": 5,
   "metadata": {},
   "outputs": [],
   "source": [
    "train_folders = (PATH/'train_folders').ls()"
   ]
  },
  {
   "cell_type": "code",
   "execution_count": 6,
   "metadata": {},
   "outputs": [],
   "source": [
    "valid_folders = (PATH/'valid_folders').ls()"
   ]
  },
  {
   "cell_type": "code",
   "execution_count": 7,
   "metadata": {},
   "outputs": [
    {
     "data": {
      "text/plain": [
       "(340, 340)"
      ]
     },
     "execution_count": 7,
     "metadata": {},
     "output_type": "execute_result"
    }
   ],
   "source": [
    "len(train_folders), len(valid_folders)"
   ]
  },
  {
   "cell_type": "code",
   "execution_count": 8,
   "metadata": {
    "scrolled": true
   },
   "outputs": [
    {
     "name": "stdout",
     "output_type": "stream",
     "text": [
      "horse 101\n",
      "flamingo 100\n",
      "wheel 100\n",
      "spreadsheet 100\n",
      "sun 100\n",
      "mosquito 100\n",
      "train 100\n",
      "pig 100\n",
      "hot_air_balloon 100\n",
      "tiger 100\n",
      "skull 100\n",
      "mouse 100\n",
      "asparagus 100\n",
      "snowflake 100\n",
      "butterfly 100\n",
      "scissors 100\n",
      "axe 100\n",
      "eraser 100\n",
      "floor_lamp 100\n",
      "frog 100\n",
      "purse 100\n",
      "campfire 100\n",
      "key 100\n",
      "string_bean 100\n",
      "sleeping_bag 100\n",
      "crocodile 100\n",
      "envelope 100\n",
      "television 100\n",
      "drums 100\n",
      "castle 100\n",
      "stairs 100\n",
      "bed 100\n",
      "broom 100\n",
      "map 100\n",
      "teapot 100\n",
      "stethoscope 100\n",
      "stop_sign 100\n",
      "cloud 100\n",
      "traffic_light 100\n",
      "drill 100\n",
      "crab 100\n",
      "guitar 100\n",
      "skateboard 100\n",
      "monkey 100\n",
      "bus 100\n",
      "pineapple 100\n",
      "whale 100\n",
      "leg 100\n",
      "mouth 100\n",
      "tennis_racquet 100\n",
      "steak 100\n",
      "barn 100\n",
      "toothpaste 100\n",
      "swan 100\n",
      "pants 100\n",
      "airplane 100\n",
      "hourglass 100\n",
      "face 100\n",
      "saxophone 100\n",
      "squiggle 100\n",
      "anvil 100\n",
      "cannon 100\n",
      "matches 100\n",
      "soccer_ball 100\n",
      "sock 100\n",
      "helmet 100\n",
      "camera 100\n",
      "hockey_puck 100\n",
      "belt 100\n",
      "chair 100\n",
      "picture_frame 100\n",
      "eyeglasses 100\n",
      "raccoon 100\n",
      "flying_saucer 100\n",
      "owl 100\n",
      "teddy-bear 100\n",
      "peas 100\n",
      "beard 100\n",
      "sandwich 100\n",
      "tornado 100\n",
      "potato 100\n",
      "ear 100\n",
      "basket 100\n",
      "square 100\n",
      "diving_board 100\n",
      "goatee 100\n",
      "dog 100\n",
      "baseball 100\n",
      "pencil 100\n",
      "wine_glass 100\n",
      "duck 100\n",
      "moustache 100\n",
      "finger 100\n",
      "jail 100\n",
      "flashlight 100\n",
      "triangle 100\n",
      "firetruck 100\n",
      "mountain 100\n",
      "donut 100\n",
      "alarm_clock 100\n",
      "broccoli 100\n",
      "paper_clip 100\n",
      "bee 100\n",
      "car 100\n",
      "shovel 100\n",
      "toothbrush 100\n",
      "computer 100\n",
      "camouflage 100\n",
      "laptop 100\n",
      "roller_coaster 100\n",
      "paintbrush 100\n",
      "bread 100\n",
      "rabbit 100\n",
      "sink 100\n",
      "flower 100\n",
      "pool 100\n",
      "diamond 100\n",
      "wine_bottle 100\n",
      "dragon 100\n",
      "knee 100\n",
      "zigzag 100\n",
      "swing_set 100\n",
      "pickup_truck 100\n",
      "oven 100\n",
      "necklace 100\n",
      "circle 100\n",
      "house_plant 100\n",
      "birthday_cake 100\n",
      "fan 100\n",
      "parachute 100\n",
      "fence 100\n",
      "keyboard 100\n",
      "feather 100\n",
      "penguin 100\n",
      "lollipop 100\n",
      "spoon 100\n",
      "calculator 100\n",
      "palm_tree 100\n",
      "crayon 100\n",
      "animal_migration 100\n",
      "bulldozer 100\n",
      "ambulance 100\n",
      "garden 100\n",
      "submarine 100\n",
      "cow 100\n",
      "cello 100\n",
      "cake 100\n",
      "giraffe 100\n",
      "couch 100\n",
      "sheep 100\n",
      "hedgehog 100\n",
      "bowtie 100\n",
      "fireplace 100\n",
      "flip_flops 100\n",
      "hat 100\n",
      "parrot 100\n",
      "backpack 100\n",
      "star 100\n",
      "eye 100\n",
      "grapes 100\n",
      "onion 100\n",
      "telephone 100\n",
      "apple 100\n",
      "remote_control 100\n",
      "arm 100\n",
      "rollerskates 100\n",
      "lobster 100\n",
      "speedboat 100\n",
      "compass 100\n",
      "candle 100\n",
      "stitches 100\n",
      "The_Mona_Lisa 100\n",
      "blackberry 100\n",
      "bench 100\n",
      "strawberry 100\n",
      "helicopter 100\n",
      "smiley_face 100\n",
      "popsicle 100\n",
      "bucket 100\n",
      "shorts 100\n",
      "bird 100\n",
      "umbrella 100\n",
      "hot_tub 100\n",
      "golf_club 100\n",
      "ice_cream 100\n",
      "pizza 100\n",
      "moon 100\n",
      "crown 100\n",
      "pond 100\n",
      "octopus 100\n",
      "screwdriver 100\n",
      "bandage 100\n",
      "bear 100\n",
      "tooth 100\n",
      "cell_phone 100\n",
      "school_bus 100\n",
      "violin 100\n",
      "washing_machine 100\n",
      "microwave 100\n",
      "ladder 100\n",
      "mug 100\n",
      "snowman 100\n",
      "banana 100\n",
      "sailboat 100\n",
      "mermaid 100\n",
      "cat 100\n",
      "clock 100\n",
      "boomerang 100\n",
      "cup 100\n",
      "megaphone 100\n",
      "dolphin 100\n",
      "octagon 100\n",
      "door 100\n",
      "elbow 100\n",
      "van 100\n",
      "book 100\n",
      "cruise_ship 100\n",
      "The_Eiffel_Tower 100\n",
      "cookie 100\n",
      "saw 100\n",
      "sword 100\n",
      "panda 100\n",
      "bicycle 100\n",
      "stereo 100\n",
      "sweater 100\n",
      "zebra 100\n",
      "stove 100\n",
      "marker 100\n",
      "streetlight 100\n",
      "lion 100\n",
      "watermelon 100\n",
      "line 100\n",
      "pillow 100\n",
      "rhinoceros 100\n",
      "hockey_stick 100\n",
      "toaster 100\n",
      "radio 100\n",
      "hurricane 100\n",
      "truck 100\n",
      "toe 100\n",
      "police_car 100\n",
      "passport 100\n",
      "squirrel 100\n",
      "trombone 100\n",
      "house 100\n",
      "snake 100\n",
      "angel 100\n",
      "spider 100\n",
      "postcard 100\n",
      "blueberry 100\n",
      "basketball 100\n",
      "hospital 100\n",
      "ceiling_fan 100\n",
      "vase 100\n",
      "mailbox 100\n",
      "piano 100\n",
      "coffee_cup 100\n",
      "bracelet 100\n",
      "baseball_bat 100\n",
      "dresser 100\n",
      "wristwatch 100\n",
      "nail 100\n",
      "bush 100\n",
      "hamburger 100\n",
      "rain 100\n",
      "underwear 100\n",
      "suitcase 100\n",
      "frying_pan 100\n",
      "lipstick 100\n",
      "pear 100\n",
      "cactus 100\n",
      "harp 100\n",
      "hand 100\n",
      "canoe 100\n",
      "trumpet 100\n",
      "headphones 100\n",
      "snail 100\n",
      "fish 100\n",
      "toilet 100\n",
      "lightning 100\n",
      "brain 100\n",
      "jacket 100\n",
      "sea_turtle 100\n",
      "scorpion 100\n",
      "shoe 100\n",
      "bathtub 100\n",
      "rake 100\n",
      "dumbbell 100\n",
      "tent 100\n",
      "ant 100\n",
      "kangaroo 100\n",
      "microphone 100\n",
      "chandelier 100\n",
      "tree 100\n",
      "fire_hydrant 100\n",
      "calendar 100\n",
      "tractor 100\n",
      "camel 100\n",
      "bridge 100\n",
      "skyscraper 100\n",
      "beach 100\n",
      "hot_dog 100\n",
      "see_saw 100\n",
      "binoculars 100\n",
      "rainbow 100\n",
      "carrot 100\n",
      "lighthouse 100\n",
      "hammer 100\n",
      "snorkel 100\n",
      "grass 100\n",
      "foot 100\n",
      "motorbike 100\n",
      "peanut 100\n",
      "dishwasher 100\n",
      "hexagon 100\n",
      "cooler 100\n",
      "bat 100\n",
      "waterslide 100\n",
      "The_Great_Wall_of_China 100\n",
      "pliers 100\n",
      "leaf 100\n",
      "church 100\n",
      "paint_can 100\n",
      "ocean 100\n",
      "clarinet 100\n",
      "fork 100\n",
      "yoga 100\n",
      "t-shirt 100\n",
      "windmill 100\n",
      "mushroom 100\n",
      "elephant 100\n",
      "light_bulb 100\n",
      "garden_hose 100\n",
      "bottlecap 100\n",
      "lantern 100\n",
      "power_outlet 100\n",
      "shark 100\n",
      "nose 100\n",
      "table 100\n",
      "river 100\n"
     ]
    }
   ],
   "source": [
    "for p in valid_folders:\n",
    "     print(p.name, len(p.ls()))"
   ]
  },
  {
   "cell_type": "code",
   "execution_count": 9,
   "metadata": {},
   "outputs": [
    {
     "name": "stdout",
     "output_type": "stream",
     "text": [
      "../data/quickdraw/train_folders/speedboat/img_44040.png\n"
     ]
    },
    {
     "data": {
      "image/jpeg": "[encoded data removed]",
      "image/png": "[encoded data removed]",
      "text/plain": [
       "Image (3, 256, 256)"
      ]
     },
     "execution_count": 9,
     "metadata": {},
     "output_type": "execute_result"
    }
   ],
   "source": [
    "# show random training image\n",
    "i = np.random.choice(range(len(train_folders)))\n",
    "rand_img_path = np.random.choice(train_folders[i].ls())\n",
    "print(rand_img_path)\n",
    "open_image(rand_img_path)"
   ]
  },
  {
   "cell_type": "code",
   "execution_count": 10,
   "metadata": {},
   "outputs": [
    {
     "name": "stdout",
     "output_type": "stream",
     "text": [
      "../data/quickdraw/train_folders/violin/img_9703.png\n"
     ]
    },
    {
     "data": {
      "image/jpeg": "[encoded data removed]",
      "image/png": "[encoded data removed]",
      "text/plain": [
       "Image (3, 256, 256)"
      ]
     },
     "execution_count": 10,
     "metadata": {},
     "output_type": "execute_result"
    }
   ],
   "source": [
    "# show random training image\n",
    "i = np.random.choice(range(len(valid_folders)))\n",
    "rand_img_path = np.random.choice(train_folders[i].ls())\n",
    "print(rand_img_path)\n",
    "open_image(rand_img_path)"
   ]
  },
  {
   "cell_type": "code",
   "execution_count": 11,
   "metadata": {
    "scrolled": true
   },
   "outputs": [
    {
     "name": "stdout",
     "output_type": "stream",
     "text": [
      "../data/quickdraw/test/9550167425190092.png\n"
     ]
    },
    {
     "data": {
      "image/jpeg": "[encoded data removed]",
      "image/png": "[encoded data removed]",
      "text/plain": [
       "Image (3, 256, 256)"
      ]
     },
     "execution_count": 11,
     "metadata": {},
     "output_type": "execute_result"
    }
   ],
   "source": [
    "test_folder = (PATH/'test')\n",
    "rand_img_path = np.random.choice(test_folder.ls())\n",
    "print(rand_img_path)\n",
    "open_image(rand_img_path)"
   ]
  },
  {
   "cell_type": "markdown",
   "metadata": {},
   "source": [
    "### DataBunch v2"
   ]
  },
  {
   "cell_type": "code",
   "execution_count": 12,
   "metadata": {},
   "outputs": [],
   "source": [
    "from collections import defaultdict\n",
    "class Splitter(object):\n",
    "    def __init__(self, valid_sz=100):\n",
    "        self.class_counts = defaultdict(int)\n",
    "        self.valid_sz = valid_sz\n",
    "        \n",
    "    def split(self, item):\n",
    "        c = item.parent.name\n",
    "        if self.class_counts[c] < self.valid_sz:\n",
    "            self.class_counts[c] += 1\n",
    "            return True\n",
    "        else: return False"
   ]
  },
  {
   "cell_type": "code",
   "execution_count": 13,
   "metadata": {},
   "outputs": [],
   "source": [
    "itemlist = ImageItemList.from_folder(PATH/\"train_folders\")"
   ]
  },
  {
   "cell_type": "code",
   "execution_count": null,
   "metadata": {},
   "outputs": [],
   "source": []
  },
  {
   "cell_type": "code",
   "execution_count": 14,
   "metadata": {},
   "outputs": [],
   "source": [
    "splitter = Splitter(valid_sz=100)\n",
    "itemlists = itemlist.split_by_valid_func(splitter.split)              "
   ]
  },
  {
   "cell_type": "code",
   "execution_count": 15,
   "metadata": {},
   "outputs": [],
   "source": [
    "labellists = itemlists.label_from_folder()"
   ]
  },
  {
   "cell_type": "code",
   "execution_count": 16,
   "metadata": {},
   "outputs": [],
   "source": [
    "test_items = ImageItemList.from_folder(PATH/'test')"
   ]
  },
  {
   "cell_type": "code",
   "execution_count": 17,
   "metadata": {},
   "outputs": [],
   "source": [
    "labellists = labellists.add_test(test_items)"
   ]
  },
  {
   "cell_type": "code",
   "execution_count": 18,
   "metadata": {},
   "outputs": [],
   "source": [
    "tfms = get_transforms(do_flip=True, max_rotate=15, max_zoom=1.1, max_warp=0, \n",
    "                      max_lighting=0, p_affine=0.5, p_lighting=0)"
   ]
  },
  {
   "cell_type": "code",
   "execution_count": 19,
   "metadata": {},
   "outputs": [],
   "source": [
    "labellists = labellists.transform(tfms=tfms, size=128)"
   ]
  },
  {
   "cell_type": "code",
   "execution_count": 20,
   "metadata": {},
   "outputs": [],
   "source": [
    "def chunks(l, n):\n",
    "    \"\"\"Yield successive n-sized chunks from l.\"\"\"\n",
    "    for i in range(0, len(l), n):\n",
    "        yield l[i:i + n]\n",
    "\n",
    "class RandomSamplerWithEpochSize(Sampler):\n",
    "    \"\"\"Yields epochs of specified sizes. Iterates over all examples in a data_source in random\n",
    "    order. Ensures (nearly) all examples have been trained on before beginning the next iteration\n",
    "    over the data_source - drops the last epoch that would likely be smaller than epoch_size.\n",
    "    \"\"\"\n",
    "    def __init__(self, data_source, epoch_size):\n",
    "        self.n = len(data_source)\n",
    "        self.epoch_size = epoch_size\n",
    "        self._epochs = []\n",
    "    def __iter__(self):\n",
    "        return iter(self.next_epoch)\n",
    "    @property\n",
    "    def next_epoch(self):\n",
    "        if len(self._epochs) == 0: self.generate_epochs()\n",
    "        return self._epochs.pop()\n",
    "    def generate_epochs(self):\n",
    "        idxs = [i for i in range(self.n)]\n",
    "        np.random.shuffle(idxs)\n",
    "        self._epochs = list(chunks(idxs, self.epoch_size))[:-1]\n",
    "    def __len__(self):\n",
    "        return self.epoch_size"
   ]
  },
  {
   "cell_type": "code",
   "execution_count": null,
   "metadata": {},
   "outputs": [],
   "source": [
    "bs=1024\n",
    "epoch_size = 1_000_000\n",
    "\n",
    "train_dl = DataLoader(labellists.train, num_workers=8,\n",
    "    batch_sampler=BatchSampler(RandomSamplerWithEpochSize(labellists.train, epoch_size),\n",
    "                               bs, True))\n",
    "\n",
    "valid_dl = DataLoader(labellists.valid, bs, False, num_workers=8)\n",
    "\n",
    "test_dl = DataLoader(labellists.test, bs, False, num_workers=8)\n",
    "\n",
    "data_bunch = ImageDataBunch(train_dl, valid_dl, test_dl)"
   ]
  },
  {
   "cell_type": "code",
   "execution_count": 21,
   "metadata": {},
   "outputs": [],
   "source": [
    "classes = pd.read_pickle(PATH/\"classes.pkl\")"
   ]
  },
  {
   "cell_type": "code",
   "execution_count": 22,
   "metadata": {},
   "outputs": [
    {
     "data": {
      "text/plain": [
       "(189599, 200, 112199)"
      ]
     },
     "execution_count": 22,
     "metadata": {},
     "output_type": "execute_result"
    }
   ],
   "source": [
    "len(data_bunch.train_ds), len(data_bunch.valid_ds), len(data_bunch.test_ds)"
   ]
  },
  {
   "cell_type": "markdown",
   "metadata": {},
   "source": [
    "### Model - Train"
   ]
  },
  {
   "cell_type": "code",
   "execution_count": 27,
   "metadata": {},
   "outputs": [],
   "source": [
    "name = 'resnet34'"
   ]
  },
  {
   "cell_type": "code",
   "execution_count": 28,
   "metadata": {},
   "outputs": [],
   "source": [
    "from fastai.callbacks import SaveModelCallback\n",
    "import sys"
   ]
  },
  {
   "cell_type": "code",
   "execution_count": 29,
   "metadata": {},
   "outputs": [],
   "source": [
    "learn = create_cnn(data_bunch, arch=models.resnet34, metrics=[accuracy, map3])"
   ]
  },
  {
   "cell_type": "code",
   "execution_count": 27,
   "metadata": {
    "scrolled": true
   },
   "outputs": [
    {
     "name": "stdout",
     "output_type": "stream",
     "text": [
      "LR Finder is complete, type {learner_name}.recorder.plot() to see the graph.\n"
     ]
    }
   ],
   "source": [
    "learn.lr_find()"
   ]
  },
  {
   "cell_type": "code",
   "execution_count": 28,
   "metadata": {},
   "outputs": [
    {
     "data": {
      "image/png": "[encoded data removed]",
      "text/plain": [
       "<Figure size 432x288 with 1 Axes>"
      ]
     },
     "metadata": {
      "needs_background": "light"
     },
     "output_type": "display_data"
    }
   ],
   "source": [
    "learn.recorder.plot()"
   ]
  },
  {
   "cell_type": "code",
   "execution_count": null,
   "metadata": {},
   "outputs": [
    {
     "data": {
      "text/html": [
       "\n",
       "    <div>\n",
       "        <style>\n",
       "        \t/* Turns off some styling */\n",
       "        \tprogress {\n",
       "\n",
       "            \t/* gets rid of default border in Firefox and Opera. */\n",
       "            \tborder: none;\n",
       "\n",
       "            \t/* Needs to be in here for Safari polyfill so background images work as expected. */\n",
       "            \tbackground-size: auto;\n",
       "            }\n",
       "\n",
       "            .progress-bar-interrupted, .progress-bar-interrupted::-webkit-progress-bar {\n",
       "                background: #F44336;\n",
       "            }\n",
       "        </style>\n",
       "      <progress value='1' class='' max='5', style='width:300px; height:20px; vertical-align: middle;'></progress>\n",
       "      20.00% [1/5 14:46<59:07]\n",
       "    </div>\n",
       "    \n",
       "<table style='width:375px; margin-bottom:10px'>\n",
       "  <tr>\n",
       "    <th>epoch</th>\n",
       "    <th>train_loss</th>\n",
       "    <th>valid_loss</th>\n",
       "    <th>accuracy</th>\n",
       "    <th>map3</th>\n",
       "  </tr>\n",
       "  <tr>\n",
       "    <th>1</th>\n",
       "    <th>1.625903</th>\n",
       "    <th>1.393620</th>\n",
       "    <th>0.623118</th>\n",
       "    <th>0.715549</th>\n",
       "  </tr>\n",
       "  <tr>\n",
       "\n",
       "  </tr>\n",
       "</table>\n",
       "\n",
       "\n",
       "    <div>\n",
       "        <style>\n",
       "        \t/* Turns off some styling */\n",
       "        \tprogress {\n",
       "\n",
       "            \t/* gets rid of default border in Firefox and Opera. */\n",
       "            \tborder: none;\n",
       "\n",
       "            \t/* Needs to be in here for Safari polyfill so background images work as expected. */\n",
       "            \tbackground-size: auto;\n",
       "            }\n",
       "\n",
       "            .progress-bar-interrupted, .progress-bar-interrupted::-webkit-progress-bar {\n",
       "                background: #F44336;\n",
       "            }\n",
       "        </style>\n",
       "      <progress value='216' class='' max='976', style='width:300px; height:20px; vertical-align: middle;'></progress>\n",
       "      22.13% [216/976 03:07<11:00 1.6533]\n",
       "    </div>\n",
       "    "
      ],
      "text/plain": [
       "<IPython.core.display.HTML object>"
      ]
     },
     "metadata": {},
     "output_type": "display_data"
    }
   ],
   "source": [
    "learn.fit_one_cycle(5, max_lr=5e-2, wd=1e-2)"
   ]
  },
  {
   "cell_type": "code",
   "execution_count": null,
   "metadata": {},
   "outputs": [],
   "source": [
    "learn.save(f'{name}-stage-1-128')"
   ]
  },
  {
   "cell_type": "code",
   "execution_count": 30,
   "metadata": {},
   "outputs": [
    {
     "ename": "RuntimeError",
     "evalue": "Error(s) in loading state_dict for Sequential:\n\tsize mismatch for 1.8.weight: copying a param with shape torch.Size([340, 512]) from checkpoint, the shape in current model is torch.Size([2, 512]).\n\tsize mismatch for 1.8.bias: copying a param with shape torch.Size([340]) from checkpoint, the shape in current model is torch.Size([2]).",
     "output_type": "error",
     "traceback": [
      "\u001b[0;31m---------------------------------------------------------------------------\u001b[0m",
      "\u001b[0;31mRuntimeError\u001b[0m                              Traceback (most recent call last)",
      "\u001b[0;32m<ipython-input-30-292a07b7e774>\u001b[0m in \u001b[0;36m<module>\u001b[0;34m()\u001b[0m\n\u001b[0;32m----> 1\u001b[0;31m \u001b[0mlearn\u001b[0m\u001b[0;34m.\u001b[0m\u001b[0mload\u001b[0m\u001b[0;34m(\u001b[0m\u001b[0;34mf'{name}-stage-1-128'\u001b[0m\u001b[0;34m)\u001b[0m\u001b[0;34m\u001b[0m\u001b[0m\n\u001b[0m",
      "\u001b[0;32m~/anaconda3/lib/python3.7/site-packages/fastai/basic_train.py\u001b[0m in \u001b[0;36mload\u001b[0;34m(self, name, device)\u001b[0m\n\u001b[1;32m    202\u001b[0m         \u001b[0;34m\"Load model `name` from `self.model_dir` using `device`, defaulting to `self.data.device`.\"\u001b[0m\u001b[0;34m\u001b[0m\u001b[0m\n\u001b[1;32m    203\u001b[0m         \u001b[0;32mif\u001b[0m \u001b[0mdevice\u001b[0m \u001b[0;32mis\u001b[0m \u001b[0;32mNone\u001b[0m\u001b[0;34m:\u001b[0m \u001b[0mdevice\u001b[0m \u001b[0;34m=\u001b[0m \u001b[0mself\u001b[0m\u001b[0;34m.\u001b[0m\u001b[0mdata\u001b[0m\u001b[0;34m.\u001b[0m\u001b[0mdevice\u001b[0m\u001b[0;34m\u001b[0m\u001b[0m\n\u001b[0;32m--> 204\u001b[0;31m         \u001b[0mself\u001b[0m\u001b[0;34m.\u001b[0m\u001b[0mmodel\u001b[0m\u001b[0;34m.\u001b[0m\u001b[0mload_state_dict\u001b[0m\u001b[0;34m(\u001b[0m\u001b[0mtorch\u001b[0m\u001b[0;34m.\u001b[0m\u001b[0mload\u001b[0m\u001b[0;34m(\u001b[0m\u001b[0mself\u001b[0m\u001b[0;34m.\u001b[0m\u001b[0mpath\u001b[0m\u001b[0;34m/\u001b[0m\u001b[0mself\u001b[0m\u001b[0;34m.\u001b[0m\u001b[0mmodel_dir\u001b[0m\u001b[0;34m/\u001b[0m\u001b[0;34mf'{name}.pth'\u001b[0m\u001b[0;34m,\u001b[0m \u001b[0mmap_location\u001b[0m\u001b[0;34m=\u001b[0m\u001b[0mdevice\u001b[0m\u001b[0;34m)\u001b[0m\u001b[0;34m)\u001b[0m\u001b[0;34m\u001b[0m\u001b[0m\n\u001b[0m\u001b[1;32m    205\u001b[0m         \u001b[0;32mreturn\u001b[0m \u001b[0mself\u001b[0m\u001b[0;34m\u001b[0m\u001b[0m\n\u001b[1;32m    206\u001b[0m \u001b[0;34m\u001b[0m\u001b[0m\n",
      "\u001b[0;32m~/anaconda3/lib/python3.7/site-packages/torch/nn/modules/module.py\u001b[0m in \u001b[0;36mload_state_dict\u001b[0;34m(self, state_dict, strict)\u001b[0m\n\u001b[1;32m    757\u001b[0m         \u001b[0;32mif\u001b[0m \u001b[0mlen\u001b[0m\u001b[0;34m(\u001b[0m\u001b[0merror_msgs\u001b[0m\u001b[0;34m)\u001b[0m \u001b[0;34m>\u001b[0m \u001b[0;36m0\u001b[0m\u001b[0;34m:\u001b[0m\u001b[0;34m\u001b[0m\u001b[0m\n\u001b[1;32m    758\u001b[0m             raise RuntimeError('Error(s) in loading state_dict for {}:\\n\\t{}'.format(\n\u001b[0;32m--> 759\u001b[0;31m                                self.__class__.__name__, \"\\n\\t\".join(error_msgs)))\n\u001b[0m\u001b[1;32m    760\u001b[0m \u001b[0;34m\u001b[0m\u001b[0m\n\u001b[1;32m    761\u001b[0m     \u001b[0;32mdef\u001b[0m \u001b[0m_named_members\u001b[0m\u001b[0;34m(\u001b[0m\u001b[0mself\u001b[0m\u001b[0;34m,\u001b[0m \u001b[0mget_members_fn\u001b[0m\u001b[0;34m,\u001b[0m \u001b[0mprefix\u001b[0m\u001b[0;34m=\u001b[0m\u001b[0;34m''\u001b[0m\u001b[0;34m,\u001b[0m \u001b[0mrecurse\u001b[0m\u001b[0;34m=\u001b[0m\u001b[0;32mTrue\u001b[0m\u001b[0;34m)\u001b[0m\u001b[0;34m:\u001b[0m\u001b[0;34m\u001b[0m\u001b[0m\n",
      "\u001b[0;31mRuntimeError\u001b[0m: Error(s) in loading state_dict for Sequential:\n\tsize mismatch for 1.8.weight: copying a param with shape torch.Size([340, 512]) from checkpoint, the shape in current model is torch.Size([2, 512]).\n\tsize mismatch for 1.8.bias: copying a param with shape torch.Size([340]) from checkpoint, the shape in current model is torch.Size([2])."
     ]
    }
   ],
   "source": [
    "learn.load(f'{name}-stage-1-128')"
   ]
  },
  {
   "cell_type": "code",
   "execution_count": null,
   "metadata": {},
   "outputs": [],
   "source": [
    "learn.fit_one_cycle(5, max_lr=slice(1e-6, 1e-4), wd=1e-2)"
   ]
  },
  {
   "cell_type": "code",
   "execution_count": null,
   "metadata": {},
   "outputs": [],
   "source": []
  },
  {
   "cell_type": "code",
   "execution_count": null,
   "metadata": {},
   "outputs": [],
   "source": []
  },
  {
   "cell_type": "code",
   "execution_count": null,
   "metadata": {},
   "outputs": [],
   "source": []
  },
  {
   "cell_type": "code",
   "execution_count": null,
   "metadata": {},
   "outputs": [],
   "source": []
  },
  {
   "cell_type": "code",
   "execution_count": null,
   "metadata": {},
   "outputs": [],
   "source": []
  },
  {
   "cell_type": "markdown",
   "metadata": {},
   "source": [
    "### Predict"
   ]
  },
  {
   "cell_type": "code",
   "execution_count": 21,
   "metadata": {},
   "outputs": [
    {
     "data": {
      "text/plain": [
       "DeviceDataLoader(dl=<torch.utils.data.dataloader.DataLoader object at 0x7f7b046602e8>, device=device(type='cuda'), tfms=[[RandTransform(tfm=TfmCrop (crop_pad), kwargs={'row_pct': (0, 1), 'col_pct': (0, 1)}, p=1.0, resolved={}, do_run=True, is_random=True), RandTransform(tfm=TfmAffine (flip_affine), kwargs={}, p=0.5, resolved={}, do_run=True, is_random=True), RandTransform(tfm=TfmAffine (rotate), kwargs={'degrees': (-10, 10)}, p=0.75, resolved={}, do_run=True, is_random=True)], [RandTransform(tfm=TfmCrop (crop_pad), kwargs={}, p=1.0, resolved={}, do_run=True, is_random=True)]], collate_fn=<function data_collate at 0x7f7b2c749620>, skip_size1=False)"
      ]
     },
     "execution_count": 21,
     "metadata": {},
     "output_type": "execute_result"
    }
   ],
   "source": [
    "learn.data.test_dl"
   ]
  },
  {
   "cell_type": "code",
   "execution_count": 40,
   "metadata": {},
   "outputs": [
    {
     "data": {
      "text/plain": [
       "Counter({'horse': 100,\n",
       "         'flamingo': 100,\n",
       "         'wheel': 100,\n",
       "         'spreadsheet': 100,\n",
       "         'sun': 100,\n",
       "         'mosquito': 100,\n",
       "         'train': 100,\n",
       "         'pig': 100,\n",
       "         'hot_air_balloon': 100,\n",
       "         'tiger': 100,\n",
       "         'skull': 100,\n",
       "         'mouse': 100,\n",
       "         'asparagus': 100,\n",
       "         'snowflake': 100,\n",
       "         'butterfly': 100,\n",
       "         'scissors': 100,\n",
       "         'axe': 100,\n",
       "         'eraser': 100,\n",
       "         'floor_lamp': 100,\n",
       "         'frog': 100,\n",
       "         'purse': 100,\n",
       "         'campfire': 100,\n",
       "         'key': 100,\n",
       "         'string_bean': 100,\n",
       "         'sleeping_bag': 100,\n",
       "         'crocodile': 100,\n",
       "         'envelope': 100,\n",
       "         'television': 100,\n",
       "         'drums': 100,\n",
       "         'castle': 100,\n",
       "         'stairs': 100,\n",
       "         'bed': 100,\n",
       "         'broom': 100,\n",
       "         'map': 100,\n",
       "         'teapot': 100,\n",
       "         'stethoscope': 100,\n",
       "         'stop_sign': 100,\n",
       "         'cloud': 100,\n",
       "         'traffic_light': 100,\n",
       "         'drill': 100,\n",
       "         'crab': 100,\n",
       "         'guitar': 100,\n",
       "         'skateboard': 100,\n",
       "         'monkey': 100,\n",
       "         'bus': 100,\n",
       "         'pineapple': 100,\n",
       "         'whale': 100,\n",
       "         'leg': 100,\n",
       "         'mouth': 100,\n",
       "         'tennis_racquet': 100,\n",
       "         'steak': 100,\n",
       "         'barn': 100,\n",
       "         'toothpaste': 100,\n",
       "         'swan': 100,\n",
       "         'pants': 100,\n",
       "         'airplane': 100,\n",
       "         'hourglass': 100,\n",
       "         'face': 100,\n",
       "         'saxophone': 100,\n",
       "         'squiggle': 100,\n",
       "         'anvil': 100,\n",
       "         'cannon': 100,\n",
       "         'matches': 100,\n",
       "         'soccer_ball': 100,\n",
       "         'sock': 100,\n",
       "         'helmet': 100,\n",
       "         'camera': 100,\n",
       "         'hockey_puck': 100,\n",
       "         'belt': 100,\n",
       "         'chair': 100,\n",
       "         'picture_frame': 100,\n",
       "         'eyeglasses': 100,\n",
       "         'raccoon': 100,\n",
       "         'flying_saucer': 100,\n",
       "         'owl': 100,\n",
       "         'teddy-bear': 100,\n",
       "         'peas': 100,\n",
       "         'beard': 100,\n",
       "         'sandwich': 100,\n",
       "         'tornado': 100,\n",
       "         'potato': 100,\n",
       "         'ear': 100,\n",
       "         'basket': 100,\n",
       "         'square': 100,\n",
       "         'diving_board': 100,\n",
       "         'goatee': 100,\n",
       "         'dog': 100,\n",
       "         'baseball': 100,\n",
       "         'pencil': 100,\n",
       "         'wine_glass': 100,\n",
       "         'duck': 100,\n",
       "         'moustache': 100,\n",
       "         'finger': 100,\n",
       "         'jail': 100,\n",
       "         'flashlight': 100,\n",
       "         'triangle': 100,\n",
       "         'firetruck': 100,\n",
       "         'mountain': 100,\n",
       "         'donut': 100,\n",
       "         'alarm_clock': 100,\n",
       "         'broccoli': 100,\n",
       "         'paper_clip': 100,\n",
       "         'bee': 100,\n",
       "         'car': 100,\n",
       "         'shovel': 100,\n",
       "         'toothbrush': 100,\n",
       "         'computer': 100,\n",
       "         'camouflage': 100,\n",
       "         'laptop': 100,\n",
       "         'roller_coaster': 100,\n",
       "         'paintbrush': 100,\n",
       "         'bread': 100,\n",
       "         'rabbit': 100,\n",
       "         'sink': 100,\n",
       "         'flower': 100,\n",
       "         'pool': 100,\n",
       "         'diamond': 100,\n",
       "         'wine_bottle': 100,\n",
       "         'dragon': 100,\n",
       "         'knee': 100,\n",
       "         'zigzag': 100,\n",
       "         'swing_set': 100,\n",
       "         'pickup_truck': 100,\n",
       "         'oven': 100,\n",
       "         'necklace': 100,\n",
       "         'circle': 100,\n",
       "         'house_plant': 100,\n",
       "         'birthday_cake': 100,\n",
       "         'fan': 100,\n",
       "         'parachute': 100,\n",
       "         'fence': 100,\n",
       "         'keyboard': 100,\n",
       "         'feather': 100,\n",
       "         'penguin': 100,\n",
       "         'lollipop': 100,\n",
       "         'spoon': 100,\n",
       "         'calculator': 100,\n",
       "         'palm_tree': 100,\n",
       "         'crayon': 100,\n",
       "         'animal_migration': 100,\n",
       "         'bulldozer': 100,\n",
       "         'ambulance': 100,\n",
       "         'garden': 100,\n",
       "         'submarine': 100,\n",
       "         'cow': 100,\n",
       "         'cello': 100,\n",
       "         'cake': 100,\n",
       "         'giraffe': 100,\n",
       "         'couch': 100,\n",
       "         'sheep': 100,\n",
       "         'hedgehog': 100,\n",
       "         'bowtie': 100,\n",
       "         'fireplace': 100,\n",
       "         'flip_flops': 100,\n",
       "         'hat': 100,\n",
       "         'parrot': 100,\n",
       "         'backpack': 100,\n",
       "         'star': 100,\n",
       "         'eye': 100,\n",
       "         'grapes': 100,\n",
       "         'onion': 100,\n",
       "         'telephone': 100,\n",
       "         'apple': 100,\n",
       "         'remote_control': 100,\n",
       "         'arm': 100,\n",
       "         'rollerskates': 100,\n",
       "         'lobster': 100,\n",
       "         'speedboat': 100,\n",
       "         'compass': 100,\n",
       "         'candle': 100,\n",
       "         'stitches': 100,\n",
       "         'The_Mona_Lisa': 100,\n",
       "         'blackberry': 100,\n",
       "         'bench': 100,\n",
       "         'strawberry': 100,\n",
       "         'helicopter': 100,\n",
       "         'smiley_face': 100,\n",
       "         'popsicle': 100,\n",
       "         'bucket': 100,\n",
       "         'shorts': 100,\n",
       "         'bird': 100,\n",
       "         'umbrella': 100,\n",
       "         'hot_tub': 100,\n",
       "         'golf_club': 100,\n",
       "         'ice_cream': 100,\n",
       "         'pizza': 100,\n",
       "         'moon': 100,\n",
       "         'crown': 100,\n",
       "         'pond': 100,\n",
       "         'octopus': 100,\n",
       "         'screwdriver': 100,\n",
       "         'bandage': 100,\n",
       "         'bear': 100,\n",
       "         'tooth': 100,\n",
       "         'cell_phone': 100,\n",
       "         'school_bus': 100,\n",
       "         'violin': 100,\n",
       "         'washing_machine': 100,\n",
       "         'microwave': 100,\n",
       "         'ladder': 100,\n",
       "         'mug': 100,\n",
       "         'snowman': 100,\n",
       "         'banana': 100,\n",
       "         'sailboat': 100,\n",
       "         'mermaid': 100,\n",
       "         'cat': 100,\n",
       "         'clock': 100,\n",
       "         'boomerang': 100,\n",
       "         'cup': 100,\n",
       "         'megaphone': 100,\n",
       "         'dolphin': 100,\n",
       "         'octagon': 100,\n",
       "         'door': 100,\n",
       "         'elbow': 100,\n",
       "         'van': 100,\n",
       "         'book': 100,\n",
       "         'cruise_ship': 100,\n",
       "         'The_Eiffel_Tower': 100,\n",
       "         'cookie': 100,\n",
       "         'saw': 100,\n",
       "         'sword': 100,\n",
       "         'panda': 100,\n",
       "         'bicycle': 100,\n",
       "         'stereo': 100,\n",
       "         'sweater': 100,\n",
       "         'zebra': 100,\n",
       "         'stove': 100,\n",
       "         'marker': 100,\n",
       "         'streetlight': 100,\n",
       "         'lion': 100,\n",
       "         'watermelon': 100,\n",
       "         'line': 100,\n",
       "         'pillow': 100,\n",
       "         'rhinoceros': 100,\n",
       "         'hockey_stick': 100,\n",
       "         'toaster': 100,\n",
       "         'radio': 100,\n",
       "         'hurricane': 100,\n",
       "         'truck': 100,\n",
       "         'toe': 100,\n",
       "         'police_car': 100,\n",
       "         'passport': 100,\n",
       "         'squirrel': 100,\n",
       "         'trombone': 100,\n",
       "         'house': 100,\n",
       "         'snake': 100,\n",
       "         'angel': 100,\n",
       "         'spider': 100,\n",
       "         'postcard': 100,\n",
       "         'blueberry': 100,\n",
       "         'basketball': 100,\n",
       "         'hospital': 100,\n",
       "         'ceiling_fan': 100,\n",
       "         'vase': 100,\n",
       "         'mailbox': 100,\n",
       "         'piano': 100,\n",
       "         'coffee_cup': 100,\n",
       "         'bracelet': 100,\n",
       "         'baseball_bat': 100,\n",
       "         'dresser': 100,\n",
       "         'wristwatch': 100,\n",
       "         'nail': 100,\n",
       "         'bush': 100,\n",
       "         'hamburger': 100,\n",
       "         'rain': 100,\n",
       "         'underwear': 100,\n",
       "         'suitcase': 100,\n",
       "         'frying_pan': 100,\n",
       "         'lipstick': 100,\n",
       "         'pear': 100,\n",
       "         'cactus': 100,\n",
       "         'harp': 100,\n",
       "         'hand': 100,\n",
       "         'canoe': 100,\n",
       "         'trumpet': 100,\n",
       "         'headphones': 100,\n",
       "         'snail': 100,\n",
       "         'fish': 100,\n",
       "         'toilet': 100,\n",
       "         'lightning': 100,\n",
       "         'brain': 100,\n",
       "         'jacket': 100,\n",
       "         'sea_turtle': 100,\n",
       "         'scorpion': 100,\n",
       "         'shoe': 100,\n",
       "         'bathtub': 100,\n",
       "         'rake': 100,\n",
       "         'dumbbell': 100,\n",
       "         'tent': 100,\n",
       "         'ant': 100,\n",
       "         'kangaroo': 100,\n",
       "         'microphone': 100,\n",
       "         'chandelier': 100,\n",
       "         'tree': 100,\n",
       "         'fire_hydrant': 100,\n",
       "         'calendar': 100,\n",
       "         'tractor': 100,\n",
       "         'camel': 100,\n",
       "         'bridge': 100,\n",
       "         'skyscraper': 100,\n",
       "         'beach': 100,\n",
       "         'hot_dog': 100,\n",
       "         'see_saw': 100,\n",
       "         'binoculars': 100,\n",
       "         'rainbow': 100,\n",
       "         'carrot': 100,\n",
       "         'lighthouse': 100,\n",
       "         'hammer': 100,\n",
       "         'snorkel': 100,\n",
       "         'grass': 100,\n",
       "         'foot': 100,\n",
       "         'motorbike': 100,\n",
       "         'peanut': 100,\n",
       "         'dishwasher': 100,\n",
       "         'hexagon': 100,\n",
       "         'cooler': 100,\n",
       "         'bat': 100,\n",
       "         'waterslide': 100,\n",
       "         'The_Great_Wall_of_China': 100,\n",
       "         'pliers': 100,\n",
       "         'leaf': 100,\n",
       "         'church': 100,\n",
       "         'paint_can': 100,\n",
       "         'ocean': 100,\n",
       "         'clarinet': 100,\n",
       "         'fork': 100,\n",
       "         'yoga': 100,\n",
       "         't-shirt': 100,\n",
       "         'windmill': 100,\n",
       "         'mushroom': 100,\n",
       "         'elephant': 100,\n",
       "         'light_bulb': 100,\n",
       "         'garden_hose': 100,\n",
       "         'bottlecap': 100,\n",
       "         'lantern': 100,\n",
       "         'power_outlet': 100,\n",
       "         'shark': 100,\n",
       "         'nose': 100,\n",
       "         'table': 100,\n",
       "         'river': 100})"
      ]
     },
     "execution_count": 40,
     "metadata": {},
     "output_type": "execute_result"
    }
   ],
   "source": [
    "# 100 examples for each class as valid\n",
    "Counter([item.parent.name for item in itemlists.valid.items])"
   ]
  },
  {
   "cell_type": "code",
   "execution_count": 96,
   "metadata": {},
   "outputs": [
    {
     "data": {
      "text/plain": [
       "LabelList\n",
       "y: CategoryList (34000 items)\n",
       "[Category horse, Category horse, Category horse, Category horse, Category horse]...\n",
       "Path: .\n",
       "x: ImageItemList (34000 items)\n",
       "[Image (3, 256, 256), Image (3, 256, 256), Image (3, 256, 256), Image (3, 256, 256), Image (3, 256, 256)]...\n",
       "Path: ../data/quickdraw/train_folders"
      ]
     },
     "execution_count": 96,
     "metadata": {},
     "output_type": "execute_result"
    }
   ],
   "source": [
    "itemlists.valid"
   ]
  },
  {
   "cell_type": "code",
   "execution_count": null,
   "metadata": {},
   "outputs": [],
   "source": []
  },
  {
   "cell_type": "code",
   "execution_count": 214,
   "metadata": {},
   "outputs": [
    {
     "data": {
      "text/plain": [
       "[RandTransform(tfm=TfmCrop (crop_pad), kwargs={}, p=1.0, resolved={}, do_run=True, is_random=True)]"
      ]
     },
     "execution_count": 214,
     "metadata": {},
     "output_type": "execute_result"
    }
   ],
   "source": [
    "data_bunch.test_dl.tfms"
   ]
  },
  {
   "cell_type": "code",
   "execution_count": 22,
   "metadata": {},
   "outputs": [],
   "source": [
    "from utils import create_submission"
   ]
  },
  {
   "cell_type": "code",
   "execution_count": 23,
   "metadata": {
    "scrolled": true
   },
   "outputs": [
    {
     "data": {
      "text/plain": [
       "[PosixPath('../quickdraw/models/final-mobilenet-stage-1.pth'),\n",
       " PosixPath('../quickdraw/models/final-mobilenet-stage-2.pth'),\n",
       " PosixPath('../quickdraw/models/final-senet-stage-1.pth'),\n",
       " PosixPath('../quickdraw/models/senet_1.pth'),\n",
       " PosixPath('../quickdraw/models/senet_10.pth')]"
      ]
     },
     "execution_count": 23,
     "metadata": {},
     "output_type": "execute_result"
    }
   ],
   "source": [
    "sorted(Path('../quickdraw/models').ls())[:5]"
   ]
  },
  {
   "cell_type": "code",
   "execution_count": 71,
   "metadata": {},
   "outputs": [],
   "source": [
    "model_ckpt = \"senet_19\""
   ]
  },
  {
   "cell_type": "code",
   "execution_count": 72,
   "metadata": {},
   "outputs": [],
   "source": [
    "learn = learn.load(model_ckpt)"
   ]
  },
  {
   "cell_type": "code",
   "execution_count": 73,
   "metadata": {},
   "outputs": [],
   "source": [
    "learn.data.test_dl.tfms = None"
   ]
  },
  {
   "cell_type": "code",
   "execution_count": 74,
   "metadata": {
    "scrolled": true
   },
   "outputs": [],
   "source": [
    "preds, _ = learn.get_preds(DatasetType.Test)"
   ]
  },
  {
   "cell_type": "code",
   "execution_count": 75,
   "metadata": {},
   "outputs": [],
   "source": [
    "sub_name = f\"{model_ckpt}\""
   ]
  },
  {
   "cell_type": "code",
   "execution_count": 76,
   "metadata": {},
   "outputs": [],
   "source": [
    "def top_3_preds(preds): return np.argsort(preds.numpy())[:, ::-1][:, :3]\n",
    "\n",
    "def top_3_pred_labels(preds, classes):\n",
    "    top_3 = top_3_preds(preds)\n",
    "    labels = []\n",
    "    for i in range(top_3.shape[0]):\n",
    "        labels.append(' '.join([classes[idx].replace(\" \", \"_\") for idx in top_3[i]]))\n",
    "    return labels\n",
    "    \n",
    "def create_submission(test_preds, test_dl, name, classes):\n",
    "    key_ids = [path.stem for path in test_dl.dataset.x.items]\n",
    "    labels = top_3_pred_labels(test_preds, classes)\n",
    "    sub = pd.DataFrame({'key_id': key_ids, 'word': labels})\n",
    "    sub.to_csv(f'{PATH}/submission/{name}.csv.gz', index=False, compression='gzip')"
   ]
  },
  {
   "cell_type": "code",
   "execution_count": 77,
   "metadata": {},
   "outputs": [],
   "source": [
    "create_submission(preds, test_dl, sub_name, classes)"
   ]
  },
  {
   "cell_type": "code",
   "execution_count": 78,
   "metadata": {},
   "outputs": [
    {
     "data": {
      "text/plain": [
       "'senet_19'"
      ]
     },
     "execution_count": 78,
     "metadata": {},
     "output_type": "execute_result"
    }
   ],
   "source": [
    "sub_name"
   ]
  },
  {
   "cell_type": "code",
   "execution_count": 79,
   "metadata": {},
   "outputs": [
    {
     "data": {
      "text/plain": [
       "112199"
      ]
     },
     "execution_count": 79,
     "metadata": {},
     "output_type": "execute_result"
    }
   ],
   "source": [
    "len(test_items)"
   ]
  },
  {
   "cell_type": "code",
   "execution_count": 80,
   "metadata": {},
   "outputs": [
    {
     "data": {
      "text/html": [
       "<div>\n",
       "<style scoped>\n",
       "    .dataframe tbody tr th:only-of-type {\n",
       "        vertical-align: middle;\n",
       "    }\n",
       "\n",
       "    .dataframe tbody tr th {\n",
       "        vertical-align: top;\n",
       "    }\n",
       "\n",
       "    .dataframe thead th {\n",
       "        text-align: right;\n",
       "    }\n",
       "</style>\n",
       "<table border=\"1\" class=\"dataframe\">\n",
       "  <thead>\n",
       "    <tr style=\"text-align: right;\">\n",
       "      <th></th>\n",
       "      <th>key_id</th>\n",
       "      <th>word</th>\n",
       "    </tr>\n",
       "  </thead>\n",
       "  <tbody>\n",
       "    <tr>\n",
       "      <th>0</th>\n",
       "      <td>9736539586575506</td>\n",
       "      <td>horse frog bear</td>\n",
       "    </tr>\n",
       "    <tr>\n",
       "      <th>1</th>\n",
       "      <td>9156420504855747</td>\n",
       "      <td>skull mushroom bread</td>\n",
       "    </tr>\n",
       "    <tr>\n",
       "      <th>2</th>\n",
       "      <td>9725934544390889</td>\n",
       "      <td>sink flamingo mailbox</td>\n",
       "    </tr>\n",
       "    <tr>\n",
       "      <th>3</th>\n",
       "      <td>9903565523633750</td>\n",
       "      <td>trombone trumpet megaphone</td>\n",
       "    </tr>\n",
       "    <tr>\n",
       "      <th>4</th>\n",
       "      <td>9507032565495870</td>\n",
       "      <td>tennis_racquet fan microphone</td>\n",
       "    </tr>\n",
       "    <tr>\n",
       "      <th>5</th>\n",
       "      <td>9035256546065251</td>\n",
       "      <td>flower tree broccoli</td>\n",
       "    </tr>\n",
       "    <tr>\n",
       "      <th>6</th>\n",
       "      <td>9494182684488699</td>\n",
       "      <td>snowman bear frog</td>\n",
       "    </tr>\n",
       "    <tr>\n",
       "      <th>7</th>\n",
       "      <td>9280101504435248</td>\n",
       "      <td>camel horse dragon</td>\n",
       "    </tr>\n",
       "    <tr>\n",
       "      <th>8</th>\n",
       "      <td>9955106400063151</td>\n",
       "      <td>necklace goatee parachute</td>\n",
       "    </tr>\n",
       "    <tr>\n",
       "      <th>9</th>\n",
       "      <td>9912795502728975</td>\n",
       "      <td>cactus mosquito dragon</td>\n",
       "    </tr>\n",
       "  </tbody>\n",
       "</table>\n",
       "</div>"
      ],
      "text/plain": [
       "             key_id                           word\n",
       "0  9736539586575506                horse frog bear\n",
       "1  9156420504855747           skull mushroom bread\n",
       "2  9725934544390889          sink flamingo mailbox\n",
       "3  9903565523633750     trombone trumpet megaphone\n",
       "4  9507032565495870  tennis_racquet fan microphone\n",
       "5  9035256546065251           flower tree broccoli\n",
       "6  9494182684488699              snowman bear frog\n",
       "7  9280101504435248             camel horse dragon\n",
       "8  9955106400063151      necklace goatee parachute\n",
       "9  9912795502728975         cactus mosquito dragon"
      ]
     },
     "execution_count": 80,
     "metadata": {},
     "output_type": "execute_result"
    }
   ],
   "source": [
    "pd.read_csv(f'../data/quickdraw/submission/{sub_name}.csv.gz').head(10)"
   ]
  },
  {
   "cell_type": "code",
   "execution_count": 81,
   "metadata": {},
   "outputs": [
    {
     "name": "stdout",
     "output_type": "stream",
     "text": [
      "100%|██████████████████████████████████████| 1.53M/1.53M [00:01<00:00, 1.47MB/s]\n",
      "Successfully submitted to Quick, Draw! Doodle Recognition Challenge"
     ]
    }
   ],
   "source": [
    "!kaggle competitions submit -c quickdraw-doodle-recognition -f '../data/quickdraw/submission/{sub_name}.csv.gz' -m \"{sub_name}\""
   ]
  },
  {
   "cell_type": "code",
   "execution_count": 161,
   "metadata": {},
   "outputs": [
    {
     "data": {
      "text/plain": [
       "[RandTransform(tfm=TfmCrop (crop_pad), kwargs={}, p=1.0, resolved={}, do_run=True, is_random=True)]"
      ]
     },
     "execution_count": 161,
     "metadata": {},
     "output_type": "execute_result"
    }
   ],
   "source": [
    "tfms[1]"
   ]
  },
  {
   "cell_type": "code",
   "execution_count": 112,
   "metadata": {},
   "outputs": [
    {
     "data": {
      "text/plain": [
       "(Image (3, 256, 256), Category horse)"
      ]
     },
     "execution_count": 112,
     "metadata": {},
     "output_type": "execute_result"
    }
   ],
   "source": [
    "itemlists.train[0]"
   ]
  },
  {
   "cell_type": "code",
   "execution_count": null,
   "metadata": {},
   "outputs": [],
   "source": []
  },
  {
   "cell_type": "code",
   "execution_count": 154,
   "metadata": {},
   "outputs": [
    {
     "data": {
      "text/plain": [
       "array([0.      , 0.94902 , 0.996078, 1.      ], dtype=float32)"
      ]
     },
     "execution_count": 154,
     "metadata": {},
     "output_type": "execute_result"
    }
   ],
   "source": [
    "np.unique(x.data[0])"
   ]
  },
  {
   "cell_type": "code",
   "execution_count": 149,
   "metadata": {},
   "outputs": [
    {
     "data": {
      "text/plain": [
       "[RandTransform(tfm=TfmCrop (crop_pad), kwargs={'row_pct': (0, 1), 'col_pct': (0, 1)}, p=1.0, resolved={}, do_run=True, is_random=True),\n",
       " RandTransform(tfm=TfmAffine (flip_affine), kwargs={}, p=0.5, resolved={}, do_run=True, is_random=True),\n",
       " RandTransform(tfm=TfmAffine (rotate), kwargs={'degrees': (-15, 15)}, p=0.5, resolved={}, do_run=True, is_random=True),\n",
       " RandTransform(tfm=TfmAffine (zoom), kwargs={'row_pct': (0, 1), 'col_pct': (0, 1), 'scale': (1.0, 1.1)}, p=0.5, resolved={}, do_run=True, is_random=True)]"
      ]
     },
     "execution_count": 149,
     "metadata": {},
     "output_type": "execute_result"
    }
   ],
   "source": [
    "listify(data_bunch.tfms)[0]"
   ]
  },
  {
   "cell_type": "code",
   "execution_count": 137,
   "metadata": {},
   "outputs": [],
   "source": [
    "# sys.path.append(\"pytorch-mobilenet-v2/\")\n",
    "# from MobileNetV2 import MobileNetV2\n",
    "\n",
    "# sys.path.append(\"./senet.pytorch/\")\n",
    "# from se_resnet import se_resnet50\n",
    "# model = se_resnet50(340)\n",
    "# learn = Learner(data_bunch, model, metrics=[accuracy, map3],\n",
    "#                 callback_fns=[partial(SaveModelCallback, every=\"epoch\", name=\"senet\")])"
   ]
  },
  {
   "cell_type": "code",
   "execution_count": 20,
   "metadata": {},
   "outputs": [],
   "source": [
    "sys.path.append(\"./senet.pytorch/\")\n",
    "from se_resnet import se_resnet50\n",
    "model = se_resnet50(340)\n",
    "learn = Learner(data_bunch, model, metrics=[accuracy, map3],\n",
    "                callback_fns=[partial(SaveModelCallback, every=\"epoch\", name=\"senet\")])"
   ]
  },
  {
   "cell_type": "code",
   "execution_count": 117,
   "metadata": {},
   "outputs": [],
   "source": [
    "x,y = next(iter(data_bunch.test_dl))"
   ]
  },
  {
   "cell_type": "code",
   "execution_count": null,
   "metadata": {},
   "outputs": [],
   "source": []
  },
  {
   "cell_type": "code",
   "execution_count": null,
   "metadata": {},
   "outputs": [],
   "source": []
  },
  {
   "cell_type": "code",
   "execution_count": null,
   "metadata": {},
   "outputs": [],
   "source": []
  },
  {
   "cell_type": "code",
   "execution_count": null,
   "metadata": {},
   "outputs": [],
   "source": []
  },
  {
   "cell_type": "code",
   "execution_count": 14,
   "metadata": {
    "scrolled": true
   },
   "outputs": [
    {
     "data": {
      "text/plain": [
       "[[RandTransform(tfm=TfmCrop (crop_pad), kwargs={'row_pct': (0, 1), 'col_pct': (0, 1)}, p=1.0, resolved={}, do_run=True, is_random=True),\n",
       "  RandTransform(tfm=TfmAffine (flip_affine), kwargs={}, p=0.5, resolved={}, do_run=True, is_random=True),\n",
       "  RandTransform(tfm=TfmAffine (rotate), kwargs={'degrees': (-10, 10)}, p=0.75, resolved={}, do_run=True, is_random=True)],\n",
       " [RandTransform(tfm=TfmCrop (crop_pad), kwargs={}, p=1.0, resolved={}, do_run=True, is_random=True)]]"
      ]
     },
     "execution_count": 14,
     "metadata": {},
     "output_type": "execute_result"
    }
   ],
   "source": [
    "data_bunch.tfms"
   ]
  },
  {
   "cell_type": "code",
   "execution_count": 13,
   "metadata": {},
   "outputs": [],
   "source": [
    "train_dl = DataLoader(\n",
    "    label_lists.train,\n",
    "    num_workers=8,\n",
    "    batch_sampler=BatchSampler(RandomSamplerWithEpochSize(label_lists.train, 1_000_000), bs, True)\n",
    ")\n",
    "valid_dl = DataLoader(label_lists.valid, bs, False, num_workers=8)\n",
    "test_dl = DataLoader(label_lists.test, bs, False, num_workers=8)\n",
    "\n",
    "data_bunch = ImageDataBunch(train_dl, valid_dl, test_dl, tfms=tfms)"
   ]
  },
  {
   "cell_type": "code",
   "execution_count": 12,
   "metadata": {},
   "outputs": [
    {
     "data": {
      "text/plain": [
       "23.8"
      ]
     },
     "execution_count": 12,
     "metadata": {},
     "output_type": "execute_result"
    }
   ],
   "source": [
    "70000*340/1000000"
   ]
  },
  {
   "cell_type": "code",
   "execution_count": 11,
   "metadata": {},
   "outputs": [],
   "source": [
    "tfms = get_transforms(do_flip=True, flip_vert=False, \n",
    "                      max_rotate=10, max_zoom=0, max_lighting=None, max_warp=None)"
   ]
  },
  {
   "cell_type": "code",
   "execution_count": 10,
   "metadata": {},
   "outputs": [],
   "source": [
    "def chunks(l, n):\n",
    "    \"\"\"Yield successive n-sized chunks from l.\"\"\"\n",
    "    for i in range(0, len(l), n):\n",
    "        yield l[i:i + n]\n",
    "\n",
    "class RandomSamplerWithEpochSize(Sampler):\n",
    "    \"\"\"Yields epochs of specified sizes. Iterates over all examples in a data_source in random\n",
    "    order. Ensures (nearly) all examples have been trained on before beginning the next iteration\n",
    "    over the data_source - drops the last epoch that would likely be smaller than epoch_size.\n",
    "    \"\"\"\n",
    "    def __init__(self, data_source, epoch_size):\n",
    "        self.n = len(data_source)\n",
    "        self.epoch_size = epoch_size\n",
    "        self._epochs = []\n",
    "    def __iter__(self):\n",
    "        return iter(self.next_epoch)\n",
    "    @property\n",
    "    def next_epoch(self):\n",
    "        if len(self._epochs) == 0: self.generate_epochs()\n",
    "        return self._epochs.pop()\n",
    "    def generate_epochs(self):\n",
    "        idxs = [i for i in range(self.n)]\n",
    "        np.random.shuffle(idxs)\n",
    "        self._epochs = list(chunks(idxs, self.epoch_size))[:-1]\n",
    "    def __len__(self):\n",
    "        return self.epoch_size"
   ]
  },
  {
   "cell_type": "code",
   "execution_count": 9,
   "metadata": {
    "scrolled": false
   },
   "outputs": [],
   "source": [
    "item_list = ItemList.from_folder(PATH/\"dummy_train_folders\", create_func=create_func)\n",
    "np.random.seed(42)\n",
    "idxs = np.arange(item_list.items.shape[0])\n",
    "np.random.shuffle(idxs)\n",
    "val_idxs = idxs[:NUM_VAL]\n",
    "item_lists = item_list.split_by_idx(val_idxs)\n",
    "label_lists = item_lists.label_from_folder()\n",
    "test_items = ItemList.from_folder(PATH/\"test\", create_func=create_func)\n",
    "label_lists.add_test(test_items);"
   ]
  },
  {
   "cell_type": "code",
   "execution_count": 8,
   "metadata": {},
   "outputs": [],
   "source": [
    "def create_func(item):\n",
    "    with open(item) as f: item = f.read()\n",
    "    img = list2drawing(json.loads(item)['data'], size=sz, lw=4, time_color=True)\n",
    "    img = cv2.cvtColor(img, cv2.COLOR_GRAY2RGB)\n",
    "    tensor = torch.from_numpy(img).float()\n",
    "    return Image(tensor.permute((2,0,1)).div_(255))"
   ]
  },
  {
   "cell_type": "code",
   "execution_count": 7,
   "metadata": {},
   "outputs": [],
   "source": [
    "bs = 100\n",
    "sz = 256"
   ]
  },
  {
   "cell_type": "markdown",
   "metadata": {},
   "source": [
    "### Create ImageDataBunch using the data block API"
   ]
  },
  {
   "cell_type": "code",
   "execution_count": null,
   "metadata": {},
   "outputs": [],
   "source": []
  },
  {
   "cell_type": "code",
   "execution_count": null,
   "metadata": {},
   "outputs": [],
   "source": []
  },
  {
   "cell_type": "markdown",
   "metadata": {},
   "source": [
    "### data"
   ]
  },
  {
   "cell_type": "code",
   "execution_count": 6,
   "metadata": {},
   "outputs": [],
   "source": [
    "dfs_combined = pd.read_csv(PATH/\"dfs_combined.csv\")\n",
    "dfs_combined = dfs_combined[['drawing', 'word']]"
   ]
  },
  {
   "cell_type": "code",
   "execution_count": 7,
   "metadata": {},
   "outputs": [],
   "source": [
    "dfs_combined['word'] = dfs_combined['word'].apply(lambda x: x.replace(\" \", \"_\"))"
   ]
  },
  {
   "cell_type": "code",
   "execution_count": 8,
   "metadata": {},
   "outputs": [
    {
     "data": {
      "text/html": [
       "<div>\n",
       "<style scoped>\n",
       "    .dataframe tbody tr th:only-of-type {\n",
       "        vertical-align: middle;\n",
       "    }\n",
       "\n",
       "    .dataframe tbody tr th {\n",
       "        vertical-align: top;\n",
       "    }\n",
       "\n",
       "    .dataframe thead th {\n",
       "        text-align: right;\n",
       "    }\n",
       "</style>\n",
       "<table border=\"1\" class=\"dataframe\">\n",
       "  <thead>\n",
       "    <tr style=\"text-align: right;\">\n",
       "      <th></th>\n",
       "      <th>drawing</th>\n",
       "      <th>word</th>\n",
       "    </tr>\n",
       "  </thead>\n",
       "  <tbody>\n",
       "    <tr>\n",
       "      <th>0</th>\n",
       "      <td>[[[47, 41, 40, 9, 3, 0, 0, 9, 11, 17, 23, 31, ...</td>\n",
       "      <td>wine_bottle</td>\n",
       "    </tr>\n",
       "    <tr>\n",
       "      <th>1</th>\n",
       "      <td>[[[10, 51, 62, 58, 60, 65, 87, 100, 96, 92, 80...</td>\n",
       "      <td>wine_bottle</td>\n",
       "    </tr>\n",
       "    <tr>\n",
       "      <th>2</th>\n",
       "      <td>[[[45, 43, 35, 14, 5, 1, 7, 49, 100, 117, 117,...</td>\n",
       "      <td>wine_bottle</td>\n",
       "    </tr>\n",
       "    <tr>\n",
       "      <th>3</th>\n",
       "      <td>[[[75, 56, 47, 42, 46, 55, 70, 82, 80, 75], [4...</td>\n",
       "      <td>wine_bottle</td>\n",
       "    </tr>\n",
       "    <tr>\n",
       "      <th>4</th>\n",
       "      <td>[[[19, 9, 1, 3, 9, 21, 39, 47, 68, 84, 89, 88,...</td>\n",
       "      <td>wine_bottle</td>\n",
       "    </tr>\n",
       "  </tbody>\n",
       "</table>\n",
       "</div>"
      ],
      "text/plain": [
       "                                             drawing         word\n",
       "0  [[[47, 41, 40, 9, 3, 0, 0, 9, 11, 17, 23, 31, ...  wine_bottle\n",
       "1  [[[10, 51, 62, 58, 60, 65, 87, 100, 96, 92, 80...  wine_bottle\n",
       "2  [[[45, 43, 35, 14, 5, 1, 7, 49, 100, 117, 117,...  wine_bottle\n",
       "3  [[[75, 56, 47, 42, 46, 55, 70, 82, 80, 75], [4...  wine_bottle\n",
       "4  [[[19, 9, 1, 3, 9, 21, 39, 47, 68, 84, 89, 88,...  wine_bottle"
      ]
     },
     "execution_count": 8,
     "metadata": {},
     "output_type": "execute_result"
    }
   ],
   "source": [
    "dfs_combined.head()"
   ]
  },
  {
   "cell_type": "code",
   "execution_count": 9,
   "metadata": {},
   "outputs": [
    {
     "data": {
      "text/plain": [
       "(33976415, 2)"
      ]
     },
     "execution_count": 9,
     "metadata": {},
     "output_type": "execute_result"
    }
   ],
   "source": [
    "dfs_combined.shape"
   ]
  },
  {
   "cell_type": "code",
   "execution_count": 10,
   "metadata": {},
   "outputs": [],
   "source": [
    "def get_raw_stroke_parts(raw_strokes):\n",
    "    if isinstance(raw_strokes, str): raw_strokes = eval(raw_strokes)\n",
    "    n = len(raw_strokes)\n",
    "    if n == 1:\n",
    "        return [[raw_strokes[0]], None, None]\n",
    "    elif n == 2:\n",
    "        return [[raw_strokes[0]], [raw_strokes[1]], None]\n",
    "    else:\n",
    "        div, _ = divmod(n, 3)\n",
    "        return [raw_strokes[:div], raw_strokes[div:div*2], raw_strokes[div*2:]]\n",
    "    \n",
    "def list2drawing(raw_strokes, size=256, lw=6, time_color=False):\n",
    "    img = np.zeros((BASE_SIZE, BASE_SIZE), np.uint8)\n",
    "    for t, stroke in enumerate(raw_strokes):\n",
    "        for i in range(len(stroke[0]) - 1):\n",
    "            color = 255 - min(t, 10) * 13 if time_color else 255\n",
    "            _ = cv2.line(img, (stroke[0][i], stroke[1][i]),\n",
    "                         (stroke[0][i + 1], stroke[1][i + 1]), color, lw)\n",
    "    if size != BASE_SIZE:\n",
    "        return cv2.resize(img, (size, size), interpolation=cv2.INTER_LINEAR)\n",
    "    else:\n",
    "        return img\n",
    "\n",
    "def raw_stroke_parts2drawing(raw_stroke_parts, sum_as_final=True, color=True):\n",
    "    img = []\n",
    "    for raw_stroke in raw_stroke_parts:\n",
    "        if raw_stroke is not None:\n",
    "            img.append(list2drawing(raw_stroke, 256, lw=2, time_color=color))\n",
    "        else:\n",
    "            img.append(np.zeros((256, 256)))\n",
    "    if sum_as_final:\n",
    "        img[2] = img[0] + img[1] + img[2]\n",
    "    return np.array(img)\n",
    "\n",
    "def list2drawing_3channels(raw_strokes, sum_as_final=True, color=True):\n",
    "    img_arr = raw_stroke_parts2drawing(get_raw_stroke_parts(raw_strokes), sum_as_final, color)\n",
    "    img_arr = np.rollaxis(img_arr, 0, 3)\n",
    "    return Image(pil2tensor(img_arr, dtype=np.float32).div_(255))"
   ]
  },
  {
   "cell_type": "code",
   "execution_count": 11,
   "metadata": {},
   "outputs": [
    {
     "name": "stdout",
     "output_type": "stream",
     "text": [
      "The slowest run took 40.53 times longer than the fastest. This could mean that an intermediate result is being cached.\n",
      "15.8 ms ± 32.4 ms per loop (mean ± std. dev. of 7 runs, 1 loop each)\n"
     ]
    }
   ],
   "source": [
    "%%timeit\n",
    "raw_stroke_parts2drawing(dfs_combined['drawing'][0])"
   ]
  },
  {
   "cell_type": "code",
   "execution_count": 12,
   "metadata": {},
   "outputs": [
    {
     "data": {
      "image/jpeg": "[encoded data removed]",
      "image/png": "[encoded data removed]",
      "text/plain": [
       "Image (3, 256, 256)"
      ]
     },
     "execution_count": 12,
     "metadata": {},
     "output_type": "execute_result"
    }
   ],
   "source": [
    "list2drawing_3channels(dfs_combined['drawing'][0])"
   ]
  },
  {
   "cell_type": "code",
   "execution_count": 13,
   "metadata": {
    "scrolled": true
   },
   "outputs": [
    {
     "data": {
      "text/html": [
       "<div>\n",
       "<style scoped>\n",
       "    .dataframe tbody tr th:only-of-type {\n",
       "        vertical-align: middle;\n",
       "    }\n",
       "\n",
       "    .dataframe tbody tr th {\n",
       "        vertical-align: top;\n",
       "    }\n",
       "\n",
       "    .dataframe thead th {\n",
       "        text-align: right;\n",
       "    }\n",
       "</style>\n",
       "<table border=\"1\" class=\"dataframe\">\n",
       "  <thead>\n",
       "    <tr style=\"text-align: right;\">\n",
       "      <th></th>\n",
       "      <th>drawing</th>\n",
       "      <th>word</th>\n",
       "    </tr>\n",
       "  </thead>\n",
       "  <tbody>\n",
       "    <tr>\n",
       "      <th>0</th>\n",
       "      <td>[[[47, 41, 40, 9, 3, 0, 0, 9, 11, 17, 23, 31, ...</td>\n",
       "      <td>wine_bottle</td>\n",
       "    </tr>\n",
       "    <tr>\n",
       "      <th>1</th>\n",
       "      <td>[[[10, 51, 62, 58, 60, 65, 87, 100, 96, 92, 80...</td>\n",
       "      <td>wine_bottle</td>\n",
       "    </tr>\n",
       "    <tr>\n",
       "      <th>2</th>\n",
       "      <td>[[[45, 43, 35, 14, 5, 1, 7, 49, 100, 117, 117,...</td>\n",
       "      <td>wine_bottle</td>\n",
       "    </tr>\n",
       "    <tr>\n",
       "      <th>3</th>\n",
       "      <td>[[[75, 56, 47, 42, 46, 55, 70, 82, 80, 75], [4...</td>\n",
       "      <td>wine_bottle</td>\n",
       "    </tr>\n",
       "    <tr>\n",
       "      <th>4</th>\n",
       "      <td>[[[19, 9, 1, 3, 9, 21, 39, 47, 68, 84, 89, 88,...</td>\n",
       "      <td>wine_bottle</td>\n",
       "    </tr>\n",
       "  </tbody>\n",
       "</table>\n",
       "</div>"
      ],
      "text/plain": [
       "                                             drawing         word\n",
       "0  [[[47, 41, 40, 9, 3, 0, 0, 9, 11, 17, 23, 31, ...  wine_bottle\n",
       "1  [[[10, 51, 62, 58, 60, 65, 87, 100, 96, 92, 80...  wine_bottle\n",
       "2  [[[45, 43, 35, 14, 5, 1, 7, 49, 100, 117, 117,...  wine_bottle\n",
       "3  [[[75, 56, 47, 42, 46, 55, 70, 82, 80, 75], [4...  wine_bottle\n",
       "4  [[[19, 9, 1, 3, 9, 21, 39, 47, 68, 84, 89, 88,...  wine_bottle"
      ]
     },
     "execution_count": 13,
     "metadata": {},
     "output_type": "execute_result"
    }
   ],
   "source": [
    "dfs_combined.head()"
   ]
  },
  {
   "cell_type": "code",
   "execution_count": 14,
   "metadata": {},
   "outputs": [],
   "source": [
    "valid_idx = list(dfs_combined.groupby(\"word\").head(100).index)\n",
    "train_labels = dfs_combined[~dfs_combined.index.isin(valid_idx)]['word']\n",
    "valid_labels = dfs_combined[dfs_combined.index.isin(valid_idx)]['word']\n",
    "train_labels = list(train_labels)\n",
    "valid_labels = list(valid_labels)"
   ]
  },
  {
   "cell_type": "code",
   "execution_count": null,
   "metadata": {},
   "outputs": [],
   "source": [
    "itemlist = ItemList.from_df(df=dfs_combined, cols=['drawing'],\n",
    "                            create_func=list2drawing_3channels).\\\n",
    "split_by_idx(list(valid_idx)).\\\n",
    "label_from_lists(train_labels, valid_labels)"
   ]
  },
  {
   "cell_type": "code",
   "execution_count": null,
   "metadata": {},
   "outputs": [],
   "source": []
  },
  {
   "cell_type": "code",
   "execution_count": null,
   "metadata": {},
   "outputs": [],
   "source": []
  },
  {
   "cell_type": "code",
   "execution_count": null,
   "metadata": {},
   "outputs": [],
   "source": []
  },
  {
   "cell_type": "code",
   "execution_count": null,
   "metadata": {},
   "outputs": [],
   "source": []
  },
  {
   "cell_type": "code",
   "execution_count": 119,
   "metadata": {},
   "outputs": [
    {
     "data": {
      "text/plain": [
       "['horse',\n",
       " 'flamingo',\n",
       " 'wheel',\n",
       " 'spreadsheet',\n",
       " 'sun',\n",
       " 'mosquito',\n",
       " 'train',\n",
       " 'pig',\n",
       " 'hot_air_balloon',\n",
       " 'tiger',\n",
       " 'skull',\n",
       " 'mouse',\n",
       " 'asparagus',\n",
       " 'snowflake',\n",
       " 'butterfly',\n",
       " 'scissors',\n",
       " 'axe',\n",
       " 'eraser',\n",
       " 'floor_lamp',\n",
       " 'frog',\n",
       " 'purse',\n",
       " 'campfire',\n",
       " 'key',\n",
       " 'string_bean',\n",
       " 'sleeping_bag',\n",
       " 'crocodile',\n",
       " 'envelope',\n",
       " 'television',\n",
       " 'drums',\n",
       " 'castle',\n",
       " 'stairs',\n",
       " 'bed',\n",
       " 'broom',\n",
       " 'map',\n",
       " 'teapot',\n",
       " 'stethoscope',\n",
       " 'stop_sign',\n",
       " 'cloud',\n",
       " 'traffic_light',\n",
       " 'drill',\n",
       " 'crab',\n",
       " 'guitar',\n",
       " 'skateboard',\n",
       " 'monkey',\n",
       " 'bus',\n",
       " 'pineapple',\n",
       " 'whale',\n",
       " 'leg',\n",
       " 'mouth',\n",
       " 'tennis_racquet',\n",
       " 'steak',\n",
       " 'barn',\n",
       " 'toothpaste',\n",
       " 'swan',\n",
       " 'pants',\n",
       " 'airplane',\n",
       " 'hourglass',\n",
       " 'face',\n",
       " 'saxophone',\n",
       " 'squiggle',\n",
       " 'anvil',\n",
       " 'cannon',\n",
       " 'matches',\n",
       " 'soccer_ball',\n",
       " 'sock',\n",
       " 'helmet',\n",
       " 'camera',\n",
       " 'hockey_puck',\n",
       " 'belt',\n",
       " 'chair',\n",
       " 'picture_frame',\n",
       " 'eyeglasses',\n",
       " 'raccoon',\n",
       " 'flying_saucer',\n",
       " 'owl',\n",
       " 'teddy-bear',\n",
       " 'peas',\n",
       " 'beard',\n",
       " 'sandwich',\n",
       " 'tornado',\n",
       " 'potato',\n",
       " 'ear',\n",
       " 'basket',\n",
       " 'square',\n",
       " 'diving_board',\n",
       " 'goatee',\n",
       " 'dog',\n",
       " 'baseball',\n",
       " 'pencil',\n",
       " 'wine_glass',\n",
       " 'duck',\n",
       " 'moustache',\n",
       " 'finger',\n",
       " 'jail',\n",
       " 'flashlight',\n",
       " 'triangle',\n",
       " 'firetruck',\n",
       " 'mountain',\n",
       " 'donut',\n",
       " 'alarm_clock',\n",
       " 'broccoli',\n",
       " 'paper_clip',\n",
       " 'bee',\n",
       " 'car',\n",
       " 'shovel',\n",
       " 'toothbrush',\n",
       " 'computer',\n",
       " 'camouflage',\n",
       " 'laptop',\n",
       " 'roller_coaster',\n",
       " 'paintbrush',\n",
       " 'bread',\n",
       " 'rabbit',\n",
       " 'sink',\n",
       " 'flower',\n",
       " 'pool',\n",
       " 'diamond',\n",
       " 'wine_bottle',\n",
       " 'dragon',\n",
       " 'knee',\n",
       " 'zigzag',\n",
       " 'swing_set',\n",
       " 'pickup_truck',\n",
       " 'oven',\n",
       " 'necklace',\n",
       " 'circle',\n",
       " 'house_plant',\n",
       " 'birthday_cake',\n",
       " 'fan',\n",
       " 'parachute',\n",
       " 'fence',\n",
       " 'keyboard',\n",
       " 'feather',\n",
       " 'penguin',\n",
       " 'lollipop',\n",
       " 'spoon',\n",
       " 'calculator',\n",
       " 'palm_tree',\n",
       " 'crayon',\n",
       " 'animal_migration',\n",
       " 'bulldozer',\n",
       " 'ambulance',\n",
       " 'garden',\n",
       " 'submarine',\n",
       " 'cow',\n",
       " 'cello',\n",
       " 'cake',\n",
       " 'giraffe',\n",
       " 'couch',\n",
       " 'sheep',\n",
       " 'hedgehog',\n",
       " 'bowtie',\n",
       " 'fireplace',\n",
       " 'flip_flops',\n",
       " 'hat',\n",
       " 'parrot',\n",
       " 'backpack',\n",
       " 'star',\n",
       " 'eye',\n",
       " 'grapes',\n",
       " 'onion',\n",
       " 'telephone',\n",
       " 'apple',\n",
       " 'remote_control',\n",
       " 'arm',\n",
       " 'rollerskates',\n",
       " 'lobster',\n",
       " 'speedboat',\n",
       " 'compass',\n",
       " 'candle',\n",
       " 'stitches',\n",
       " 'The_Mona_Lisa',\n",
       " 'blackberry',\n",
       " 'bench',\n",
       " 'strawberry',\n",
       " 'helicopter',\n",
       " 'smiley_face',\n",
       " 'popsicle',\n",
       " 'bucket',\n",
       " 'shorts',\n",
       " 'bird',\n",
       " 'umbrella',\n",
       " 'hot_tub',\n",
       " 'golf_club',\n",
       " 'ice_cream',\n",
       " 'pizza',\n",
       " 'moon',\n",
       " 'crown',\n",
       " 'pond',\n",
       " 'octopus',\n",
       " 'screwdriver',\n",
       " 'bandage',\n",
       " 'bear',\n",
       " 'tooth',\n",
       " 'cell_phone',\n",
       " 'school_bus',\n",
       " 'violin',\n",
       " 'washing_machine',\n",
       " 'microwave',\n",
       " 'ladder',\n",
       " 'mug',\n",
       " 'snowman',\n",
       " 'banana',\n",
       " 'sailboat',\n",
       " 'mermaid',\n",
       " 'cat',\n",
       " 'clock',\n",
       " 'boomerang',\n",
       " 'cup',\n",
       " 'megaphone',\n",
       " 'dolphin',\n",
       " 'octagon',\n",
       " 'door',\n",
       " 'elbow',\n",
       " 'van',\n",
       " 'book',\n",
       " 'cruise_ship',\n",
       " 'The_Eiffel_Tower',\n",
       " 'cookie',\n",
       " 'saw',\n",
       " 'sword',\n",
       " 'panda',\n",
       " 'bicycle',\n",
       " 'stereo',\n",
       " 'sweater',\n",
       " 'zebra',\n",
       " 'stove',\n",
       " 'marker',\n",
       " 'streetlight',\n",
       " 'lion',\n",
       " 'watermelon',\n",
       " 'line',\n",
       " 'pillow',\n",
       " 'rhinoceros',\n",
       " 'hockey_stick',\n",
       " 'toaster',\n",
       " 'radio',\n",
       " 'hurricane',\n",
       " 'truck',\n",
       " 'toe',\n",
       " 'police_car',\n",
       " 'passport',\n",
       " 'squirrel',\n",
       " 'trombone',\n",
       " 'house',\n",
       " 'snake',\n",
       " 'angel',\n",
       " 'spider',\n",
       " 'postcard',\n",
       " 'blueberry',\n",
       " 'basketball',\n",
       " 'hospital',\n",
       " 'ceiling_fan',\n",
       " 'vase',\n",
       " 'mailbox',\n",
       " 'piano',\n",
       " 'coffee_cup',\n",
       " 'bracelet',\n",
       " 'baseball_bat',\n",
       " 'dresser',\n",
       " 'wristwatch',\n",
       " 'nail',\n",
       " 'bush',\n",
       " 'hamburger',\n",
       " 'rain',\n",
       " 'underwear',\n",
       " 'suitcase',\n",
       " 'frying_pan',\n",
       " 'lipstick',\n",
       " 'pear',\n",
       " 'cactus',\n",
       " 'harp',\n",
       " 'hand',\n",
       " 'canoe',\n",
       " 'trumpet',\n",
       " 'headphones',\n",
       " 'snail',\n",
       " 'fish',\n",
       " 'toilet',\n",
       " 'lightning',\n",
       " 'brain',\n",
       " 'jacket',\n",
       " 'sea_turtle',\n",
       " 'scorpion',\n",
       " 'shoe',\n",
       " 'bathtub',\n",
       " 'rake',\n",
       " 'dumbbell',\n",
       " 'tent',\n",
       " 'ant',\n",
       " 'kangaroo',\n",
       " 'microphone',\n",
       " 'chandelier',\n",
       " 'tree',\n",
       " 'fire_hydrant',\n",
       " 'calendar',\n",
       " 'tractor',\n",
       " 'camel',\n",
       " 'bridge',\n",
       " 'skyscraper',\n",
       " 'beach',\n",
       " 'hot_dog',\n",
       " 'see_saw',\n",
       " 'binoculars',\n",
       " 'rainbow',\n",
       " 'carrot',\n",
       " 'lighthouse',\n",
       " 'hammer',\n",
       " 'snorkel',\n",
       " 'grass',\n",
       " 'foot',\n",
       " 'motorbike',\n",
       " 'peanut',\n",
       " 'dishwasher',\n",
       " 'hexagon',\n",
       " 'cooler',\n",
       " 'bat',\n",
       " 'waterslide',\n",
       " 'The_Great_Wall_of_China',\n",
       " 'pliers',\n",
       " 'leaf',\n",
       " 'church',\n",
       " 'paint_can',\n",
       " 'ocean',\n",
       " 'clarinet',\n",
       " 'fork',\n",
       " 'yoga',\n",
       " 't-shirt',\n",
       " 'windmill',\n",
       " 'mushroom',\n",
       " 'elephant',\n",
       " 'light_bulb',\n",
       " 'garden_hose',\n",
       " 'bottlecap',\n",
       " 'lantern',\n",
       " 'power_outlet',\n",
       " 'shark',\n",
       " 'nose',\n",
       " 'table',\n",
       " 'river']"
      ]
     },
     "execution_count": 119,
     "metadata": {},
     "output_type": "execute_result"
    }
   ],
   "source": [
    "classes"
   ]
  },
  {
   "cell_type": "code",
   "execution_count": 17,
   "metadata": {
    "scrolled": true
   },
   "outputs": [
    {
     "data": {
      "text/plain": [
       "['horse',\n",
       " 'flamingo',\n",
       " 'wheel',\n",
       " 'spreadsheet',\n",
       " 'sun',\n",
       " 'mosquito',\n",
       " 'train',\n",
       " 'pig',\n",
       " 'hot_air_balloon',\n",
       " 'tiger']"
      ]
     },
     "execution_count": 17,
     "metadata": {},
     "output_type": "execute_result"
    }
   ],
   "source": [
    "classes[:10]"
   ]
  },
  {
   "cell_type": "code",
   "execution_count": 114,
   "metadata": {},
   "outputs": [
    {
     "data": {
      "text/plain": [
       "33520526"
      ]
     },
     "execution_count": 114,
     "metadata": {},
     "output_type": "execute_result"
    }
   ],
   "source": [
    "len(itemlists.train)"
   ]
  },
  {
   "cell_type": "code",
   "execution_count": 93,
   "metadata": {},
   "outputs": [
    {
     "ename": "IndexError",
     "evalue": "index 0 is out of bounds for axis 0 with size 0",
     "output_type": "error",
     "traceback": [
      "\u001b[0;31m---------------------------------------------------------------------------\u001b[0m",
      "\u001b[0;31mIndexError\u001b[0m                                Traceback (most recent call last)",
      "\u001b[0;32m~/anaconda3/lib/python3.7/site-packages/IPython/core/formatters.py\u001b[0m in \u001b[0;36m__call__\u001b[0;34m(self, obj)\u001b[0m\n\u001b[1;32m    700\u001b[0m                 \u001b[0mtype_pprinters\u001b[0m\u001b[0;34m=\u001b[0m\u001b[0mself\u001b[0m\u001b[0;34m.\u001b[0m\u001b[0mtype_printers\u001b[0m\u001b[0;34m,\u001b[0m\u001b[0;34m\u001b[0m\u001b[0m\n\u001b[1;32m    701\u001b[0m                 deferred_pprinters=self.deferred_printers)\n\u001b[0;32m--> 702\u001b[0;31m             \u001b[0mprinter\u001b[0m\u001b[0;34m.\u001b[0m\u001b[0mpretty\u001b[0m\u001b[0;34m(\u001b[0m\u001b[0mobj\u001b[0m\u001b[0;34m)\u001b[0m\u001b[0;34m\u001b[0m\u001b[0m\n\u001b[0m\u001b[1;32m    703\u001b[0m             \u001b[0mprinter\u001b[0m\u001b[0;34m.\u001b[0m\u001b[0mflush\u001b[0m\u001b[0;34m(\u001b[0m\u001b[0;34m)\u001b[0m\u001b[0;34m\u001b[0m\u001b[0m\n\u001b[1;32m    704\u001b[0m             \u001b[0;32mreturn\u001b[0m \u001b[0mstream\u001b[0m\u001b[0;34m.\u001b[0m\u001b[0mgetvalue\u001b[0m\u001b[0;34m(\u001b[0m\u001b[0;34m)\u001b[0m\u001b[0;34m\u001b[0m\u001b[0m\n",
      "\u001b[0;32m~/anaconda3/lib/python3.7/site-packages/IPython/lib/pretty.py\u001b[0m in \u001b[0;36mpretty\u001b[0;34m(self, obj)\u001b[0m\n\u001b[1;32m    398\u001b[0m                         \u001b[0;32mif\u001b[0m \u001b[0mcls\u001b[0m \u001b[0;32mis\u001b[0m \u001b[0;32mnot\u001b[0m \u001b[0mobject\u001b[0m\u001b[0;31m \u001b[0m\u001b[0;31m\\\u001b[0m\u001b[0;34m\u001b[0m\u001b[0m\n\u001b[1;32m    399\u001b[0m                                 \u001b[0;32mand\u001b[0m \u001b[0mcallable\u001b[0m\u001b[0;34m(\u001b[0m\u001b[0mcls\u001b[0m\u001b[0;34m.\u001b[0m\u001b[0m__dict__\u001b[0m\u001b[0;34m.\u001b[0m\u001b[0mget\u001b[0m\u001b[0;34m(\u001b[0m\u001b[0;34m'__repr__'\u001b[0m\u001b[0;34m)\u001b[0m\u001b[0;34m)\u001b[0m\u001b[0;34m:\u001b[0m\u001b[0;34m\u001b[0m\u001b[0m\n\u001b[0;32m--> 400\u001b[0;31m                             \u001b[0;32mreturn\u001b[0m \u001b[0m_repr_pprint\u001b[0m\u001b[0;34m(\u001b[0m\u001b[0mobj\u001b[0m\u001b[0;34m,\u001b[0m \u001b[0mself\u001b[0m\u001b[0;34m,\u001b[0m \u001b[0mcycle\u001b[0m\u001b[0;34m)\u001b[0m\u001b[0;34m\u001b[0m\u001b[0m\n\u001b[0m\u001b[1;32m    401\u001b[0m \u001b[0;34m\u001b[0m\u001b[0m\n\u001b[1;32m    402\u001b[0m             \u001b[0;32mreturn\u001b[0m \u001b[0m_default_pprint\u001b[0m\u001b[0;34m(\u001b[0m\u001b[0mobj\u001b[0m\u001b[0;34m,\u001b[0m \u001b[0mself\u001b[0m\u001b[0;34m,\u001b[0m \u001b[0mcycle\u001b[0m\u001b[0;34m)\u001b[0m\u001b[0;34m\u001b[0m\u001b[0m\n",
      "\u001b[0;32m~/anaconda3/lib/python3.7/site-packages/IPython/lib/pretty.py\u001b[0m in \u001b[0;36m_repr_pprint\u001b[0;34m(obj, p, cycle)\u001b[0m\n\u001b[1;32m    693\u001b[0m     \u001b[0;34m\"\"\"A pprint that just redirects to the normal repr function.\"\"\"\u001b[0m\u001b[0;34m\u001b[0m\u001b[0m\n\u001b[1;32m    694\u001b[0m     \u001b[0;31m# Find newlines and replace them with p.break_()\u001b[0m\u001b[0;34m\u001b[0m\u001b[0;34m\u001b[0m\u001b[0m\n\u001b[0;32m--> 695\u001b[0;31m     \u001b[0moutput\u001b[0m \u001b[0;34m=\u001b[0m \u001b[0mrepr\u001b[0m\u001b[0;34m(\u001b[0m\u001b[0mobj\u001b[0m\u001b[0;34m)\u001b[0m\u001b[0;34m\u001b[0m\u001b[0m\n\u001b[0m\u001b[1;32m    696\u001b[0m     \u001b[0;32mfor\u001b[0m \u001b[0midx\u001b[0m\u001b[0;34m,\u001b[0m\u001b[0moutput_line\u001b[0m \u001b[0;32min\u001b[0m \u001b[0menumerate\u001b[0m\u001b[0;34m(\u001b[0m\u001b[0moutput\u001b[0m\u001b[0;34m.\u001b[0m\u001b[0msplitlines\u001b[0m\u001b[0;34m(\u001b[0m\u001b[0;34m)\u001b[0m\u001b[0;34m)\u001b[0m\u001b[0;34m:\u001b[0m\u001b[0;34m\u001b[0m\u001b[0m\n\u001b[1;32m    697\u001b[0m         \u001b[0;32mif\u001b[0m \u001b[0midx\u001b[0m\u001b[0;34m:\u001b[0m\u001b[0;34m\u001b[0m\u001b[0m\n",
      "\u001b[0;32m~/anaconda3/lib/python3.7/site-packages/fastai/data_block.py\u001b[0m in \u001b[0;36m__repr__\u001b[0;34m(self)\u001b[0m\n\u001b[1;32m    363\u001b[0m     \u001b[0;32mdef\u001b[0m \u001b[0mset_item\u001b[0m\u001b[0;34m(\u001b[0m\u001b[0mself\u001b[0m\u001b[0;34m,\u001b[0m\u001b[0mitem\u001b[0m\u001b[0;34m)\u001b[0m\u001b[0;34m:\u001b[0m \u001b[0mself\u001b[0m\u001b[0;34m.\u001b[0m\u001b[0mitem\u001b[0m \u001b[0;34m=\u001b[0m \u001b[0mself\u001b[0m\u001b[0;34m.\u001b[0m\u001b[0mx\u001b[0m\u001b[0;34m.\u001b[0m\u001b[0mprocess_one\u001b[0m\u001b[0;34m(\u001b[0m\u001b[0mitem\u001b[0m\u001b[0;34m)\u001b[0m\u001b[0;34m\u001b[0m\u001b[0m\n\u001b[1;32m    364\u001b[0m     \u001b[0;32mdef\u001b[0m \u001b[0mclear_item\u001b[0m\u001b[0;34m(\u001b[0m\u001b[0mself\u001b[0m\u001b[0;34m)\u001b[0m\u001b[0;34m:\u001b[0m \u001b[0mself\u001b[0m\u001b[0;34m.\u001b[0m\u001b[0mitem\u001b[0m \u001b[0;34m=\u001b[0m \u001b[0;32mNone\u001b[0m\u001b[0;34m\u001b[0m\u001b[0m\n\u001b[0;32m--> 365\u001b[0;31m     \u001b[0;32mdef\u001b[0m \u001b[0m__repr__\u001b[0m\u001b[0;34m(\u001b[0m\u001b[0mself\u001b[0m\u001b[0;34m)\u001b[0m\u001b[0;34m->\u001b[0m\u001b[0mstr\u001b[0m\u001b[0;34m:\u001b[0m \u001b[0;32mreturn\u001b[0m \u001b[0;34mf'{self.__class__.__name__}\\ny: {self.y}\\nx: {self.x}'\u001b[0m\u001b[0;34m\u001b[0m\u001b[0m\n\u001b[0m\u001b[1;32m    366\u001b[0m     \u001b[0;32mdef\u001b[0m \u001b[0mpredict\u001b[0m\u001b[0;34m(\u001b[0m\u001b[0mself\u001b[0m\u001b[0;34m,\u001b[0m \u001b[0mres\u001b[0m\u001b[0;34m)\u001b[0m\u001b[0;34m:\u001b[0m \u001b[0;32mreturn\u001b[0m \u001b[0mself\u001b[0m\u001b[0;34m.\u001b[0m\u001b[0my\u001b[0m\u001b[0;34m.\u001b[0m\u001b[0mpredict\u001b[0m\u001b[0;34m(\u001b[0m\u001b[0mres\u001b[0m\u001b[0;34m)\u001b[0m\u001b[0;34m\u001b[0m\u001b[0m\n\u001b[1;32m    367\u001b[0m \u001b[0;34m\u001b[0m\u001b[0m\n",
      "\u001b[0;32m~/anaconda3/lib/python3.7/site-packages/fastai/data_block.py\u001b[0m in \u001b[0;36m__repr__\u001b[0;34m(self)\u001b[0m\n\u001b[1;32m     37\u001b[0m     \u001b[0;32mdef\u001b[0m \u001b[0m__len__\u001b[0m\u001b[0;34m(\u001b[0m\u001b[0mself\u001b[0m\u001b[0;34m)\u001b[0m\u001b[0;34m->\u001b[0m\u001b[0mint\u001b[0m\u001b[0;34m:\u001b[0m \u001b[0;32mreturn\u001b[0m \u001b[0mlen\u001b[0m\u001b[0;34m(\u001b[0m\u001b[0mself\u001b[0m\u001b[0;34m.\u001b[0m\u001b[0mitems\u001b[0m\u001b[0;34m)\u001b[0m \u001b[0;32mor\u001b[0m \u001b[0;36m1\u001b[0m\u001b[0;34m\u001b[0m\u001b[0m\n\u001b[1;32m     38\u001b[0m     \u001b[0;32mdef\u001b[0m \u001b[0m__repr__\u001b[0m\u001b[0;34m(\u001b[0m\u001b[0mself\u001b[0m\u001b[0;34m)\u001b[0m\u001b[0;34m->\u001b[0m\u001b[0mstr\u001b[0m\u001b[0;34m:\u001b[0m\u001b[0;34m\u001b[0m\u001b[0m\n\u001b[0;32m---> 39\u001b[0;31m         \u001b[0mitems\u001b[0m \u001b[0;34m=\u001b[0m \u001b[0;34m[\u001b[0m\u001b[0mself\u001b[0m\u001b[0;34m[\u001b[0m\u001b[0mi\u001b[0m\u001b[0;34m]\u001b[0m \u001b[0;32mfor\u001b[0m \u001b[0mi\u001b[0m \u001b[0;32min\u001b[0m \u001b[0mrange\u001b[0m\u001b[0;34m(\u001b[0m\u001b[0mmin\u001b[0m\u001b[0;34m(\u001b[0m\u001b[0;36m5\u001b[0m\u001b[0;34m,\u001b[0m\u001b[0mlen\u001b[0m\u001b[0;34m(\u001b[0m\u001b[0mself\u001b[0m\u001b[0;34m)\u001b[0m\u001b[0;34m)\u001b[0m\u001b[0;34m)\u001b[0m\u001b[0;34m]\u001b[0m\u001b[0;34m\u001b[0m\u001b[0m\n\u001b[0m\u001b[1;32m     40\u001b[0m         \u001b[0;32mreturn\u001b[0m \u001b[0;34mf'{self.__class__.__name__} ({len(self)} items)\\n{items}...\\nPath: {self.path}'\u001b[0m\u001b[0;34m\u001b[0m\u001b[0m\n\u001b[1;32m     41\u001b[0m     \u001b[0;32mdef\u001b[0m \u001b[0mget\u001b[0m\u001b[0;34m(\u001b[0m\u001b[0mself\u001b[0m\u001b[0;34m,\u001b[0m \u001b[0mi\u001b[0m\u001b[0;34m)\u001b[0m\u001b[0;34m->\u001b[0m\u001b[0mAny\u001b[0m\u001b[0;34m:\u001b[0m\u001b[0;34m\u001b[0m\u001b[0m\n",
      "\u001b[0;32m~/anaconda3/lib/python3.7/site-packages/fastai/data_block.py\u001b[0m in \u001b[0;36m<listcomp>\u001b[0;34m(.0)\u001b[0m\n\u001b[1;32m     37\u001b[0m     \u001b[0;32mdef\u001b[0m \u001b[0m__len__\u001b[0m\u001b[0;34m(\u001b[0m\u001b[0mself\u001b[0m\u001b[0;34m)\u001b[0m\u001b[0;34m->\u001b[0m\u001b[0mint\u001b[0m\u001b[0;34m:\u001b[0m \u001b[0;32mreturn\u001b[0m \u001b[0mlen\u001b[0m\u001b[0;34m(\u001b[0m\u001b[0mself\u001b[0m\u001b[0;34m.\u001b[0m\u001b[0mitems\u001b[0m\u001b[0;34m)\u001b[0m \u001b[0;32mor\u001b[0m \u001b[0;36m1\u001b[0m\u001b[0;34m\u001b[0m\u001b[0m\n\u001b[1;32m     38\u001b[0m     \u001b[0;32mdef\u001b[0m \u001b[0m__repr__\u001b[0m\u001b[0;34m(\u001b[0m\u001b[0mself\u001b[0m\u001b[0;34m)\u001b[0m\u001b[0;34m->\u001b[0m\u001b[0mstr\u001b[0m\u001b[0;34m:\u001b[0m\u001b[0;34m\u001b[0m\u001b[0m\n\u001b[0;32m---> 39\u001b[0;31m         \u001b[0mitems\u001b[0m \u001b[0;34m=\u001b[0m \u001b[0;34m[\u001b[0m\u001b[0mself\u001b[0m\u001b[0;34m[\u001b[0m\u001b[0mi\u001b[0m\u001b[0;34m]\u001b[0m \u001b[0;32mfor\u001b[0m \u001b[0mi\u001b[0m \u001b[0;32min\u001b[0m \u001b[0mrange\u001b[0m\u001b[0;34m(\u001b[0m\u001b[0mmin\u001b[0m\u001b[0;34m(\u001b[0m\u001b[0;36m5\u001b[0m\u001b[0;34m,\u001b[0m\u001b[0mlen\u001b[0m\u001b[0;34m(\u001b[0m\u001b[0mself\u001b[0m\u001b[0;34m)\u001b[0m\u001b[0;34m)\u001b[0m\u001b[0;34m)\u001b[0m\u001b[0;34m]\u001b[0m\u001b[0;34m\u001b[0m\u001b[0m\n\u001b[0m\u001b[1;32m     40\u001b[0m         \u001b[0;32mreturn\u001b[0m \u001b[0;34mf'{self.__class__.__name__} ({len(self)} items)\\n{items}...\\nPath: {self.path}'\u001b[0m\u001b[0;34m\u001b[0m\u001b[0m\n\u001b[1;32m     41\u001b[0m     \u001b[0;32mdef\u001b[0m \u001b[0mget\u001b[0m\u001b[0;34m(\u001b[0m\u001b[0mself\u001b[0m\u001b[0;34m,\u001b[0m \u001b[0mi\u001b[0m\u001b[0;34m)\u001b[0m\u001b[0;34m->\u001b[0m\u001b[0mAny\u001b[0m\u001b[0;34m:\u001b[0m\u001b[0;34m\u001b[0m\u001b[0m\n",
      "\u001b[0;32m~/anaconda3/lib/python3.7/site-packages/fastai/data_block.py\u001b[0m in \u001b[0;36m__getitem__\u001b[0;34m(self, idxs)\u001b[0m\n\u001b[1;32m     65\u001b[0m \u001b[0;34m\u001b[0m\u001b[0m\n\u001b[1;32m     66\u001b[0m     \u001b[0;32mdef\u001b[0m \u001b[0m__getitem__\u001b[0m\u001b[0;34m(\u001b[0m\u001b[0mself\u001b[0m\u001b[0;34m,\u001b[0m\u001b[0midxs\u001b[0m\u001b[0;34m:\u001b[0m\u001b[0mint\u001b[0m\u001b[0;34m)\u001b[0m\u001b[0;34m->\u001b[0m\u001b[0mAny\u001b[0m\u001b[0;34m:\u001b[0m\u001b[0;34m\u001b[0m\u001b[0m\n\u001b[0;32m---> 67\u001b[0;31m         \u001b[0;32mif\u001b[0m \u001b[0misinstance\u001b[0m\u001b[0;34m(\u001b[0m\u001b[0mtry_int\u001b[0m\u001b[0;34m(\u001b[0m\u001b[0midxs\u001b[0m\u001b[0;34m)\u001b[0m\u001b[0;34m,\u001b[0m \u001b[0mint\u001b[0m\u001b[0;34m)\u001b[0m\u001b[0;34m:\u001b[0m \u001b[0;32mreturn\u001b[0m \u001b[0mself\u001b[0m\u001b[0;34m.\u001b[0m\u001b[0mget\u001b[0m\u001b[0;34m(\u001b[0m\u001b[0midxs\u001b[0m\u001b[0;34m)\u001b[0m\u001b[0;34m\u001b[0m\u001b[0m\n\u001b[0m\u001b[1;32m     68\u001b[0m         \u001b[0;32melse\u001b[0m\u001b[0;34m:\u001b[0m \u001b[0;32mreturn\u001b[0m \u001b[0mself\u001b[0m\u001b[0;34m.\u001b[0m\u001b[0mnew\u001b[0m\u001b[0;34m(\u001b[0m\u001b[0mself\u001b[0m\u001b[0;34m.\u001b[0m\u001b[0mitems\u001b[0m\u001b[0;34m[\u001b[0m\u001b[0midxs\u001b[0m\u001b[0;34m]\u001b[0m\u001b[0;34m,\u001b[0m \u001b[0mxtra\u001b[0m\u001b[0;34m=\u001b[0m\u001b[0mindex_row\u001b[0m\u001b[0;34m(\u001b[0m\u001b[0mself\u001b[0m\u001b[0;34m.\u001b[0m\u001b[0mxtra\u001b[0m\u001b[0;34m,\u001b[0m \u001b[0midxs\u001b[0m\u001b[0;34m)\u001b[0m\u001b[0;34m)\u001b[0m\u001b[0;34m\u001b[0m\u001b[0m\n\u001b[1;32m     69\u001b[0m \u001b[0;34m\u001b[0m\u001b[0m\n",
      "\u001b[0;32m~/anaconda3/lib/python3.7/site-packages/fastai/data_block.py\u001b[0m in \u001b[0;36mget\u001b[0;34m(self, i)\u001b[0m\n\u001b[1;32m    231\u001b[0m \u001b[0;34m\u001b[0m\u001b[0m\n\u001b[1;32m    232\u001b[0m     \u001b[0;32mdef\u001b[0m \u001b[0mget\u001b[0m\u001b[0;34m(\u001b[0m\u001b[0mself\u001b[0m\u001b[0;34m,\u001b[0m \u001b[0mi\u001b[0m\u001b[0;34m)\u001b[0m\u001b[0;34m:\u001b[0m\u001b[0;34m\u001b[0m\u001b[0m\n\u001b[0;32m--> 233\u001b[0;31m         \u001b[0mo\u001b[0m \u001b[0;34m=\u001b[0m \u001b[0mself\u001b[0m\u001b[0;34m.\u001b[0m\u001b[0mitems\u001b[0m\u001b[0;34m[\u001b[0m\u001b[0mi\u001b[0m\u001b[0;34m]\u001b[0m\u001b[0;34m\u001b[0m\u001b[0m\n\u001b[0m\u001b[1;32m    234\u001b[0m         \u001b[0;32mif\u001b[0m \u001b[0mo\u001b[0m \u001b[0;32mis\u001b[0m \u001b[0;32mNone\u001b[0m\u001b[0;34m:\u001b[0m \u001b[0;32mreturn\u001b[0m \u001b[0;32mNone\u001b[0m\u001b[0;34m\u001b[0m\u001b[0m\n\u001b[1;32m    235\u001b[0m         \u001b[0;32mreturn\u001b[0m \u001b[0mself\u001b[0m\u001b[0;34m.\u001b[0m\u001b[0m_item_cls\u001b[0m\u001b[0;34m(\u001b[0m\u001b[0mo\u001b[0m\u001b[0;34m,\u001b[0m \u001b[0mself\u001b[0m\u001b[0;34m.\u001b[0m\u001b[0mclasses\u001b[0m\u001b[0;34m[\u001b[0m\u001b[0mo\u001b[0m\u001b[0;34m]\u001b[0m\u001b[0;34m)\u001b[0m\u001b[0;34m\u001b[0m\u001b[0m\n",
      "\u001b[0;31mIndexError\u001b[0m: index 0 is out of bounds for axis 0 with size 0"
     ]
    }
   ],
   "source": [
    "data.tes"
   ]
  },
  {
   "cell_type": "code",
   "execution_count": 92,
   "metadata": {},
   "outputs": [
    {
     "data": {
      "text/plain": [
       "(Image (3, 256, 256), Category horse)"
      ]
     },
     "execution_count": 92,
     "metadata": {},
     "output_type": "execute_result"
    }
   ],
   "source": [
    "data.valid_ds[0]"
   ]
  }
 ],
 "metadata": {
  "kernelspec": {
   "display_name": "Python 3",
   "language": "python",
   "name": "python3"
  },
  "language_info": {
   "codemirror_mode": {
    "name": "ipython",
    "version": 3
   },
   "file_extension": ".py",
   "mimetype": "text/x-python",
   "name": "python",
   "nbconvert_exporter": "python",
   "pygments_lexer": "ipython3",
   "version": "3.7.0"
  }
 },
 "nbformat": 4,
 "nbformat_minor": 1
}
