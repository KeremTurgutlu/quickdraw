{
 "cells": [
  {
   "cell_type": "code",
   "execution_count": 1,
   "metadata": {},
   "outputs": [],
   "source": [
    "%matplotlib inline\n",
    "import matplotlib.pyplot as plt\n",
    "import pandas as pd\n",
    "import numpy as np\n",
    "from pathlib import Path\n",
    "\n",
    "from fastai import *\n",
    "from fastai.vision import *\n",
    "\n",
    "import json\n",
    "\n",
    "from utils import *\n",
    "import ast"
   ]
  },
  {
   "cell_type": "code",
   "execution_count": 2,
   "metadata": {},
   "outputs": [],
   "source": [
    "NUM_SAMPLES_PER_CLASS = 70_000\n",
    "NUM_VAL = 50 * 340"
   ]
  },
  {
   "cell_type": "code",
   "execution_count": 3,
   "metadata": {},
   "outputs": [],
   "source": [
    "PATH = Path('../data/quickdraw/')"
   ]
  },
  {
   "cell_type": "code",
   "execution_count": 4,
   "metadata": {},
   "outputs": [
    {
     "data": {
      "text/plain": [
       "[PosixPath('../data/quickdraw/test_simplified.csv'),\n",
       " PosixPath('../data/quickdraw/train'),\n",
       " PosixPath('../data/quickdraw/submission'),\n",
       " PosixPath('../data/quickdraw/train_folders'),\n",
       " PosixPath('../data/quickdraw/dummy_train_folders'),\n",
       " PosixPath('../data/quickdraw/dfs_combined.csv'),\n",
       " PosixPath('../data/quickdraw/classes.pkl'),\n",
       " PosixPath('../data/quickdraw/test')]"
      ]
     },
     "execution_count": 4,
     "metadata": {},
     "output_type": "execute_result"
    }
   ],
   "source": [
    "PATH.ls()"
   ]
  },
  {
   "cell_type": "markdown",
   "metadata": {},
   "source": [
    "### data check"
   ]
  },
  {
   "cell_type": "code",
   "execution_count": 5,
   "metadata": {},
   "outputs": [],
   "source": [
    "train_folders = (PATH/\"train_folders\").ls()"
   ]
  },
  {
   "cell_type": "code",
   "execution_count": 6,
   "metadata": {},
   "outputs": [
    {
     "data": {
      "text/plain": [
       "70000"
      ]
     },
     "execution_count": 6,
     "metadata": {},
     "output_type": "execute_result"
    }
   ],
   "source": [
    "len(np.random.choice(train_folders).ls())"
   ]
  },
  {
   "cell_type": "markdown",
   "metadata": {},
   "source": [
    "### Create ImageDataBunch using the data block API"
   ]
  },
  {
   "cell_type": "code",
   "execution_count": 7,
   "metadata": {},
   "outputs": [],
   "source": [
    "bs = 100\n",
    "sz = 256"
   ]
  },
  {
   "cell_type": "code",
   "execution_count": 8,
   "metadata": {},
   "outputs": [],
   "source": [
    "def create_func(item):\n",
    "    with open(item) as f: item = f.read()\n",
    "    img = list2drawing(json.loads(item)['data'], size=sz, lw=4, time_color=True)\n",
    "    img = cv2.cvtColor(img, cv2.COLOR_GRAY2RGB)\n",
    "    tensor = torch.from_numpy(img).float()\n",
    "    return Image(tensor.permute((2,0,1)).div_(255))"
   ]
  },
  {
   "cell_type": "code",
   "execution_count": 9,
   "metadata": {
    "scrolled": false
   },
   "outputs": [],
   "source": [
    "item_list = ItemList.from_folder(PATH/\"dummy_train_folders\", create_func=create_func)\n",
    "np.random.seed(42)\n",
    "idxs = np.arange(item_list.items.shape[0])\n",
    "np.random.shuffle(idxs)\n",
    "val_idxs = idxs[:NUM_VAL]\n",
    "item_lists = item_list.split_by_idx(val_idxs)\n",
    "label_lists = item_lists.label_from_folder()\n",
    "test_items = ItemList.from_folder(PATH/\"test\", create_func=create_func)\n",
    "label_lists.add_test(test_items);"
   ]
  },
  {
   "cell_type": "code",
   "execution_count": 10,
   "metadata": {},
   "outputs": [],
   "source": [
    "def chunks(l, n):\n",
    "    \"\"\"Yield successive n-sized chunks from l.\"\"\"\n",
    "    for i in range(0, len(l), n):\n",
    "        yield l[i:i + n]\n",
    "\n",
    "class RandomSamplerWithEpochSize(Sampler):\n",
    "    \"\"\"Yields epochs of specified sizes. Iterates over all examples in a data_source in random\n",
    "    order. Ensures (nearly) all examples have been trained on before beginning the next iteration\n",
    "    over the data_source - drops the last epoch that would likely be smaller than epoch_size.\n",
    "    \"\"\"\n",
    "    def __init__(self, data_source, epoch_size):\n",
    "        self.n = len(data_source)\n",
    "        self.epoch_size = epoch_size\n",
    "        self._epochs = []\n",
    "    def __iter__(self):\n",
    "        return iter(self.next_epoch)\n",
    "    @property\n",
    "    def next_epoch(self):\n",
    "        if len(self._epochs) == 0: self.generate_epochs()\n",
    "        return self._epochs.pop()\n",
    "    def generate_epochs(self):\n",
    "        idxs = [i for i in range(self.n)]\n",
    "        np.random.shuffle(idxs)\n",
    "        self._epochs = list(chunks(idxs, self.epoch_size))[:-1]\n",
    "    def __len__(self):\n",
    "        return self.epoch_size"
   ]
  },
  {
   "cell_type": "code",
   "execution_count": 11,
   "metadata": {},
   "outputs": [],
   "source": [
    "tfms = get_transforms(do_flip=True, flip_vert=False, \n",
    "                      max_rotate=10, max_zoom=0, max_lighting=None, max_warp=None)"
   ]
  },
  {
   "cell_type": "code",
   "execution_count": 12,
   "metadata": {},
   "outputs": [
    {
     "data": {
      "text/plain": [
       "23.8"
      ]
     },
     "execution_count": 12,
     "metadata": {},
     "output_type": "execute_result"
    }
   ],
   "source": [
    "70000*340/1000000"
   ]
  },
  {
   "cell_type": "code",
   "execution_count": 13,
   "metadata": {},
   "outputs": [],
   "source": [
    "train_dl = DataLoader(\n",
    "    label_lists.train,\n",
    "    num_workers=8,\n",
    "    batch_sampler=BatchSampler(RandomSamplerWithEpochSize(label_lists.train, 1_000_000), bs, True)\n",
    ")\n",
    "valid_dl = DataLoader(label_lists.valid, bs, False, num_workers=8)\n",
    "test_dl = DataLoader(label_lists.test, bs, False, num_workers=8)\n",
    "\n",
    "data_bunch = ImageDataBunch(train_dl, valid_dl, test_dl, tfms=tfms)"
   ]
  },
  {
   "cell_type": "code",
   "execution_count": 14,
   "metadata": {},
   "outputs": [
    {
     "data": {
      "text/plain": [
       "[[RandTransform(tfm=TfmCrop (crop_pad), kwargs={'row_pct': (0, 1), 'col_pct': (0, 1)}, p=1.0, resolved={}, do_run=True, is_random=True),\n",
       "  RandTransform(tfm=TfmAffine (flip_affine), kwargs={}, p=0.5, resolved={}, do_run=True, is_random=True),\n",
       "  RandTransform(tfm=TfmAffine (rotate), kwargs={'degrees': (-10, 10)}, p=0.75, resolved={}, do_run=True, is_random=True)],\n",
       " [RandTransform(tfm=TfmCrop (crop_pad), kwargs={}, p=1.0, resolved={}, do_run=True, is_random=True)]]"
      ]
     },
     "execution_count": 14,
     "metadata": {},
     "output_type": "execute_result"
    }
   ],
   "source": [
    "data_bunch.tfms"
   ]
  },
  {
   "cell_type": "code",
   "execution_count": 15,
   "metadata": {},
   "outputs": [],
   "source": [
    "#classes = data_bunch.classes\n",
    "#pd.to_pickle(classes, PATH/\"classes.pkl\")"
   ]
  },
  {
   "cell_type": "code",
   "execution_count": 16,
   "metadata": {},
   "outputs": [],
   "source": [
    "classes = pd.read_pickle(PATH/\"classes.pkl\")"
   ]
  },
  {
   "cell_type": "code",
   "execution_count": 17,
   "metadata": {},
   "outputs": [
    {
     "data": {
      "text/plain": [
       "['horse',\n",
       " 'flamingo',\n",
       " 'wheel',\n",
       " 'spreadsheet',\n",
       " 'sun',\n",
       " 'mosquito',\n",
       " 'train',\n",
       " 'pig',\n",
       " 'hot_air_balloon',\n",
       " 'tiger']"
      ]
     },
     "execution_count": 17,
     "metadata": {},
     "output_type": "execute_result"
    }
   ],
   "source": [
    "classes[:10]"
   ]
  },
  {
   "cell_type": "markdown",
   "metadata": {},
   "source": [
    "### Model"
   ]
  },
  {
   "cell_type": "code",
   "execution_count": 18,
   "metadata": {},
   "outputs": [],
   "source": [
    "from fastai.callbacks import SaveModelCallback, EarlyStoppingCallback\n",
    "import sys"
   ]
  },
  {
   "cell_type": "code",
   "execution_count": 19,
   "metadata": {},
   "outputs": [],
   "source": [
    "# sys.path.append(\"pytorch-mobilenet-v2/\")\n",
    "# from MobileNetV2 import MobileNetV2"
   ]
  },
  {
   "cell_type": "code",
   "execution_count": 20,
   "metadata": {},
   "outputs": [],
   "source": [
    "sys.path.append(\"./senet.pytorch/\")\n",
    "from se_resnet import se_resnet50\n",
    "model = se_resnet50(340)\n",
    "learn = Learner(data_bunch, model, metrics=[accuracy, map3],\n",
    "                callback_fns=[partial(SaveModelCallback, every=\"epoch\", name=\"senet\")])"
   ]
  },
  {
   "cell_type": "markdown",
   "metadata": {
    "heading_collapsed": true
   },
   "source": [
    "### Train"
   ]
  },
  {
   "cell_type": "code",
   "execution_count": null,
   "metadata": {
    "hidden": true,
    "scrolled": true
   },
   "outputs": [],
   "source": [
    "learn.lr_find(end_lr=1e-1)"
   ]
  },
  {
   "cell_type": "code",
   "execution_count": null,
   "metadata": {
    "hidden": true
   },
   "outputs": [],
   "source": [
    "learn.recorder.plot()"
   ]
  },
  {
   "cell_type": "code",
   "execution_count": null,
   "metadata": {
    "hidden": true,
    "scrolled": true
   },
   "outputs": [],
   "source": [
    "learn.fit_one_cycle(48, max_lr=5e-3)"
   ]
  },
  {
   "cell_type": "code",
   "execution_count": null,
   "metadata": {
    "hidden": true
   },
   "outputs": [],
   "source": [
    "learn.validate(data_bunch.valid_dl)"
   ]
  },
  {
   "cell_type": "code",
   "execution_count": null,
   "metadata": {
    "hidden": true
   },
   "outputs": [],
   "source": [
    "plt.plot([l.item() for l in learn.recorder.losses])"
   ]
  },
  {
   "cell_type": "code",
   "execution_count": null,
   "metadata": {
    "hidden": true
   },
   "outputs": [],
   "source": [
    "name = 'mobilenet'"
   ]
  },
  {
   "cell_type": "code",
   "execution_count": null,
   "metadata": {
    "hidden": true
   },
   "outputs": [],
   "source": [
    "learn.save(f'{name}-stage-1')"
   ]
  },
  {
   "cell_type": "code",
   "execution_count": null,
   "metadata": {
    "hidden": true
   },
   "outputs": [],
   "source": [
    "learn.unfreeze()"
   ]
  },
  {
   "cell_type": "code",
   "execution_count": null,
   "metadata": {
    "hidden": true
   },
   "outputs": [],
   "source": [
    "learn.fit_one_cycle(6, max_lr=6e-4)"
   ]
  },
  {
   "cell_type": "code",
   "execution_count": null,
   "metadata": {
    "hidden": true
   },
   "outputs": [],
   "source": [
    "learn.save(f'{name}-stage-2')"
   ]
  },
  {
   "cell_type": "markdown",
   "metadata": {},
   "source": [
    "### Predict"
   ]
  },
  {
   "cell_type": "code",
   "execution_count": 21,
   "metadata": {},
   "outputs": [
    {
     "data": {
      "text/plain": [
       "DeviceDataLoader(dl=<torch.utils.data.dataloader.DataLoader object at 0x7f7b046602e8>, device=device(type='cuda'), tfms=[[RandTransform(tfm=TfmCrop (crop_pad), kwargs={'row_pct': (0, 1), 'col_pct': (0, 1)}, p=1.0, resolved={}, do_run=True, is_random=True), RandTransform(tfm=TfmAffine (flip_affine), kwargs={}, p=0.5, resolved={}, do_run=True, is_random=True), RandTransform(tfm=TfmAffine (rotate), kwargs={'degrees': (-10, 10)}, p=0.75, resolved={}, do_run=True, is_random=True)], [RandTransform(tfm=TfmCrop (crop_pad), kwargs={}, p=1.0, resolved={}, do_run=True, is_random=True)]], collate_fn=<function data_collate at 0x7f7b2c749620>, skip_size1=False)"
      ]
     },
     "execution_count": 21,
     "metadata": {},
     "output_type": "execute_result"
    }
   ],
   "source": [
    "learn.data.test_dl"
   ]
  },
  {
   "cell_type": "code",
   "execution_count": 22,
   "metadata": {},
   "outputs": [],
   "source": [
    "from utils import create_submission"
   ]
  },
  {
   "cell_type": "code",
   "execution_count": 23,
   "metadata": {
    "scrolled": true
   },
   "outputs": [
    {
     "data": {
      "text/plain": [
       "[PosixPath('../quickdraw/models/final-mobilenet-stage-1.pth'),\n",
       " PosixPath('../quickdraw/models/final-mobilenet-stage-2.pth'),\n",
       " PosixPath('../quickdraw/models/final-senet-stage-1.pth'),\n",
       " PosixPath('../quickdraw/models/senet_1.pth'),\n",
       " PosixPath('../quickdraw/models/senet_10.pth')]"
      ]
     },
     "execution_count": 23,
     "metadata": {},
     "output_type": "execute_result"
    }
   ],
   "source": [
    "sorted(Path('../quickdraw/models').ls())[:5]"
   ]
  },
  {
   "cell_type": "code",
   "execution_count": 71,
   "metadata": {},
   "outputs": [],
   "source": [
    "model_ckpt = \"senet_19\""
   ]
  },
  {
   "cell_type": "code",
   "execution_count": 72,
   "metadata": {},
   "outputs": [],
   "source": [
    "learn = learn.load(model_ckpt)"
   ]
  },
  {
   "cell_type": "code",
   "execution_count": 73,
   "metadata": {},
   "outputs": [],
   "source": [
    "learn.data.test_dl.tfms = None"
   ]
  },
  {
   "cell_type": "code",
   "execution_count": 74,
   "metadata": {
    "scrolled": true
   },
   "outputs": [],
   "source": [
    "preds, _ = learn.get_preds(DatasetType.Test)"
   ]
  },
  {
   "cell_type": "code",
   "execution_count": 75,
   "metadata": {},
   "outputs": [],
   "source": [
    "sub_name = f\"{model_ckpt}\""
   ]
  },
  {
   "cell_type": "code",
   "execution_count": 76,
   "metadata": {},
   "outputs": [],
   "source": [
    "def top_3_preds(preds): return np.argsort(preds.numpy())[:, ::-1][:, :3]\n",
    "\n",
    "def top_3_pred_labels(preds, classes):\n",
    "    top_3 = top_3_preds(preds)\n",
    "    labels = []\n",
    "    for i in range(top_3.shape[0]):\n",
    "        labels.append(' '.join([classes[idx].replace(\" \", \"_\") for idx in top_3[i]]))\n",
    "    return labels\n",
    "    \n",
    "def create_submission(test_preds, test_dl, name, classes):\n",
    "    key_ids = [path.stem for path in test_dl.dataset.x.items]\n",
    "    labels = top_3_pred_labels(test_preds, classes)\n",
    "    sub = pd.DataFrame({'key_id': key_ids, 'word': labels})\n",
    "    sub.to_csv(f'{PATH}/submission/{name}.csv.gz', index=False, compression='gzip')"
   ]
  },
  {
   "cell_type": "code",
   "execution_count": 77,
   "metadata": {},
   "outputs": [],
   "source": [
    "create_submission(preds, test_dl, sub_name, classes)"
   ]
  },
  {
   "cell_type": "code",
   "execution_count": 78,
   "metadata": {},
   "outputs": [
    {
     "data": {
      "text/plain": [
       "'senet_19'"
      ]
     },
     "execution_count": 78,
     "metadata": {},
     "output_type": "execute_result"
    }
   ],
   "source": [
    "sub_name"
   ]
  },
  {
   "cell_type": "code",
   "execution_count": 79,
   "metadata": {},
   "outputs": [
    {
     "data": {
      "text/plain": [
       "112199"
      ]
     },
     "execution_count": 79,
     "metadata": {},
     "output_type": "execute_result"
    }
   ],
   "source": [
    "len(test_items)"
   ]
  },
  {
   "cell_type": "code",
   "execution_count": 80,
   "metadata": {},
   "outputs": [
    {
     "data": {
      "text/html": [
       "<div>\n",
       "<style scoped>\n",
       "    .dataframe tbody tr th:only-of-type {\n",
       "        vertical-align: middle;\n",
       "    }\n",
       "\n",
       "    .dataframe tbody tr th {\n",
       "        vertical-align: top;\n",
       "    }\n",
       "\n",
       "    .dataframe thead th {\n",
       "        text-align: right;\n",
       "    }\n",
       "</style>\n",
       "<table border=\"1\" class=\"dataframe\">\n",
       "  <thead>\n",
       "    <tr style=\"text-align: right;\">\n",
       "      <th></th>\n",
       "      <th>key_id</th>\n",
       "      <th>word</th>\n",
       "    </tr>\n",
       "  </thead>\n",
       "  <tbody>\n",
       "    <tr>\n",
       "      <th>0</th>\n",
       "      <td>9736539586575506</td>\n",
       "      <td>horse frog bear</td>\n",
       "    </tr>\n",
       "    <tr>\n",
       "      <th>1</th>\n",
       "      <td>9156420504855747</td>\n",
       "      <td>skull mushroom bread</td>\n",
       "    </tr>\n",
       "    <tr>\n",
       "      <th>2</th>\n",
       "      <td>9725934544390889</td>\n",
       "      <td>sink flamingo mailbox</td>\n",
       "    </tr>\n",
       "    <tr>\n",
       "      <th>3</th>\n",
       "      <td>9903565523633750</td>\n",
       "      <td>trombone trumpet megaphone</td>\n",
       "    </tr>\n",
       "    <tr>\n",
       "      <th>4</th>\n",
       "      <td>9507032565495870</td>\n",
       "      <td>tennis_racquet fan microphone</td>\n",
       "    </tr>\n",
       "    <tr>\n",
       "      <th>5</th>\n",
       "      <td>9035256546065251</td>\n",
       "      <td>flower tree broccoli</td>\n",
       "    </tr>\n",
       "    <tr>\n",
       "      <th>6</th>\n",
       "      <td>9494182684488699</td>\n",
       "      <td>snowman bear frog</td>\n",
       "    </tr>\n",
       "    <tr>\n",
       "      <th>7</th>\n",
       "      <td>9280101504435248</td>\n",
       "      <td>camel horse dragon</td>\n",
       "    </tr>\n",
       "    <tr>\n",
       "      <th>8</th>\n",
       "      <td>9955106400063151</td>\n",
       "      <td>necklace goatee parachute</td>\n",
       "    </tr>\n",
       "    <tr>\n",
       "      <th>9</th>\n",
       "      <td>9912795502728975</td>\n",
       "      <td>cactus mosquito dragon</td>\n",
       "    </tr>\n",
       "  </tbody>\n",
       "</table>\n",
       "</div>"
      ],
      "text/plain": [
       "             key_id                           word\n",
       "0  9736539586575506                horse frog bear\n",
       "1  9156420504855747           skull mushroom bread\n",
       "2  9725934544390889          sink flamingo mailbox\n",
       "3  9903565523633750     trombone trumpet megaphone\n",
       "4  9507032565495870  tennis_racquet fan microphone\n",
       "5  9035256546065251           flower tree broccoli\n",
       "6  9494182684488699              snowman bear frog\n",
       "7  9280101504435248             camel horse dragon\n",
       "8  9955106400063151      necklace goatee parachute\n",
       "9  9912795502728975         cactus mosquito dragon"
      ]
     },
     "execution_count": 80,
     "metadata": {},
     "output_type": "execute_result"
    }
   ],
   "source": [
    "pd.read_csv(f'../data/quickdraw/submission/{sub_name}.csv.gz').head(10)"
   ]
  },
  {
   "cell_type": "code",
   "execution_count": 81,
   "metadata": {},
   "outputs": [
    {
     "name": "stdout",
     "output_type": "stream",
     "text": [
      "100%|██████████████████████████████████████| 1.53M/1.53M [00:01<00:00, 1.47MB/s]\n",
      "Successfully submitted to Quick, Draw! Doodle Recognition Challenge"
     ]
    }
   ],
   "source": [
    "!kaggle competitions submit -c quickdraw-doodle-recognition -f '../data/quickdraw/submission/{sub_name}.csv.gz' -m \"{sub_name}\""
   ]
  },
  {
   "cell_type": "code",
   "execution_count": null,
   "metadata": {},
   "outputs": [],
   "source": []
  }
 ],
 "metadata": {
  "kernelspec": {
   "display_name": "Python 3",
   "language": "python",
   "name": "python3"
  },
  "language_info": {
   "codemirror_mode": {
    "name": "ipython",
    "version": 3
   },
   "file_extension": ".py",
   "mimetype": "text/x-python",
   "name": "python",
   "nbconvert_exporter": "python",
   "pygments_lexer": "ipython3",
   "version": "3.7.0"
  }
 },
 "nbformat": 4,
 "nbformat_minor": 1
}
